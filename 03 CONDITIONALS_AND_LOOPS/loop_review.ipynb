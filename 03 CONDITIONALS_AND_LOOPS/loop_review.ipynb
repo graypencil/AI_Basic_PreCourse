{
 "cells": [
  {
   "cell_type": "code",
   "execution_count": 3,
   "id": "35ad8620",
   "metadata": {},
   "outputs": [
    {
     "name": "stdout",
     "output_type": "stream",
     "text": [
      "I\n",
      " \n",
      "l\n",
      "o\n",
      "v\n",
      "e\n",
      " \n",
      "y\n",
      "o\n",
      "u\n"
     ]
    }
   ],
   "source": [
    "sentence = \"I love you\"\n",
    "reverse_sen = \"\"\n",
    "\n",
    "for char in sentence:\n",
    "    print(char)"
   ]
  },
  {
   "cell_type": "code",
   "execution_count": 5,
   "id": "69e2e036",
   "metadata": {},
   "outputs": [
    {
     "name": "stdout",
     "output_type": "stream",
     "text": [
      "REVERSE #1  \n",
      "REVERSE #2  I\n",
      "REVERSE #1  I\n",
      "REVERSE #2   I\n",
      "REVERSE #1   I\n",
      "REVERSE #2  l I\n",
      "REVERSE #1  l I\n",
      "REVERSE #2  ol I\n",
      "REVERSE #1  ol I\n",
      "REVERSE #2  vol I\n",
      "REVERSE #1  vol I\n",
      "REVERSE #2  evol I\n",
      "REVERSE #1  evol I\n",
      "REVERSE #2   evol I\n",
      "REVERSE #1   evol I\n",
      "REVERSE #2  y evol I\n",
      "REVERSE #1  y evol I\n",
      "REVERSE #2  oy evol I\n",
      "REVERSE #1  oy evol I\n",
      "REVERSE #2  uoy evol I\n"
     ]
    }
   ],
   "source": [
    "sentence = \"I love you\"\n",
    "reverse_sen = \"\"\n",
    "\n",
    "for char in sentence:\n",
    "    print(\"REVERSE #1 \", reverse_sen)\n",
    "    reverse_sen = char + reverse_sen\n",
    "    print(\"REVERSE #2 \", reverse_sen)"
   ]
  },
  {
   "cell_type": "code",
   "execution_count": 7,
   "id": "e820d29c",
   "metadata": {},
   "outputs": [
    {
     "name": "stdout",
     "output_type": "stream",
     "text": [
      "uoy evol I\n"
     ]
    }
   ],
   "source": [
    "sentence = \"I love you\"\n",
    "reverse_sen = \"\"\n",
    "\n",
    "for char in sentence:\n",
    "    reverse_sen = char + reverse_sen\n",
    "print(reverse_sen)"
   ]
  },
  {
   "cell_type": "code",
   "execution_count": 11,
   "id": "b3ea101a",
   "metadata": {},
   "outputs": [
    {
     "name": "stdout",
     "output_type": "stream",
     "text": [
      "I love you\n",
      "\n",
      "I\n",
      "I\n",
      " \n",
      " I\n",
      "l\n",
      "l I\n",
      "o\n",
      "ol I\n",
      "v\n",
      "vol I\n",
      "e\n",
      "evol I\n",
      " \n",
      " evol I\n",
      "y\n",
      "y evol I\n",
      "o\n",
      "oy evol I\n",
      "u\n",
      "uoy evol I\n"
     ]
    }
   ],
   "source": [
    "sentence = \"I love you\"\n",
    "reverse_sen = \"\"\n",
    "\n",
    "print(sentence)\n",
    "print(reverse_sen)\n",
    "\n",
    "for char in sentence:\n",
    "    reverse_sen = char + reverse_sen\n",
    "    print(char)\n",
    "    print(reverse_sen)"
   ]
  },
  {
   "cell_type": "code",
   "execution_count": 20,
   "id": "c47ebe19",
   "metadata": {},
   "outputs": [
    {
     "name": "stdout",
     "output_type": "stream",
     "text": [
      "십진수를 입력해주세요: 100\n",
      "remainder value: 0\n",
      "decimal value: 50\n",
      "remainder value: 0\n",
      "decimal value: 25\n",
      "remainder value: 1\n",
      "decimal value: 12\n",
      "remainder value: 0\n",
      "decimal value: 6\n",
      "remainder value: 0\n",
      "decimal value: 3\n",
      "remainder value: 1\n",
      "decimal value: 1\n",
      "remainder value: 1\n",
      "decimal value: 0\n",
      "1100100\n"
     ]
    }
   ],
   "source": [
    "decimal = int(input(\"십진수를 입력해주세요: \"))\n",
    "result = ''\n",
    "\n",
    "while(decimal > 0):\n",
    "    remainder = decimal % 2    # 나머지\n",
    "    decimal = decimal // 2     # 몫 \n",
    "    result = str(remainder) + result\n",
    "\n",
    "    print(f\"remainder value: {remainder}\")  # 중간 값 확인    \n",
    "    print(f\"decimal value: {decimal}\")\n",
    "\n",
    "print(result)  # 최종 값"
   ]
  },
  {
   "cell_type": "code",
   "execution_count": null,
   "id": "0d0b0605",
   "metadata": {},
   "outputs": [],
   "source": []
  }
 ],
 "metadata": {
  "kernelspec": {
   "display_name": "Python 3 (ipykernel)",
   "language": "python",
   "name": "python3"
  },
  "language_info": {
   "codemirror_mode": {
    "name": "ipython",
    "version": 3
   },
   "file_extension": ".py",
   "mimetype": "text/x-python",
   "name": "python",
   "nbconvert_exporter": "python",
   "pygments_lexer": "ipython3",
   "version": "3.8.13"
  }
 },
 "nbformat": 4,
 "nbformat_minor": 5
}
