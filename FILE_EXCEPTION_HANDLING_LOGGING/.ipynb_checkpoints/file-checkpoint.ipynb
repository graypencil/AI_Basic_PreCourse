{
 "cells": [
  {
   "cell_type": "markdown",
   "id": "f618b4c1",
   "metadata": {},
   "source": [
    "# File Read"
   ]
  },
  {
   "cell_type": "code",
   "execution_count": 17,
   "id": "dc993784",
   "metadata": {
    "scrolled": true
   },
   "outputs": [
    {
     "name": "stdout",
     "output_type": "stream",
     "text": [
      "I am happy to join with you today in what will go down in history as the greatest demonstration for freedom in the history of our nation.\n",
      "\n",
      "Five score years ago, a great American, in whose symbolic shadow we stand today, signed the Emancipation Proclamation. This momentous decree came as a great beacon light of hope to millions of Negro slaves who had been seared in the flames of withering injustice. It came as a joyous daybreak to end the long night of their captivity.\n",
      "\n",
      "But one hundred years later, the Negro still is not free. One hundred years later, the life of the Negro is still sadly crippled by the manacles of segregation and the chains of discrimination. One hundred years later, the Negro lives on a lonely island of poverty in the midst of a vast ocean of material prosperity. One hundred years later, the Negro is still languishing in the corners of American society and finds himself an exile in his own land. So we have come here today to dramatize a shameful condition.\n",
      "\n",
      "In a sense we have come to our nation's capital to cash a check. When the architects of our republic wrote the magnificent words of the Constitution and the Declaration of Independence, they were signing a promissory note to which every American was to fall heir. This note was a promise that all men, -yes, black men as well as white men,- would be guaranteed the unalienable rights of life, liberty, and the pursuit of happiness.\n",
      "\n",
      "It is obvious today that America has defaulted on this promissory note insofar as her citizens of color are concerned. Instead of honoring this sacred obligation, America has given the Negro people a bad check, a check which has come back marked \"insufficient funds.\" But we refuse to believe that the bank of justice is bankrupt. We refuse to believe that there are insufficient funds in the great vaults of opportunity of this nation. So we have come to cash this check — a check that will give us upon demand the riches of freedom and the security of justice.\n",
      "\n",
      "We have also come to this hallowed spot to remind America of the fierce urgency of now. This is no time to engage in the luxury of cooling off or to take the tranquilizing drug of gradualism. Now is the time to make real the promises of democracy. Now is the time to rise from the dark and desolate valley of segregation to the sunlit path of racial justice. Now is the time to lift our nation from the quick sands of racial injustice to the solid rock of brotherhood. Now is the time to make justice a reality for all of God's children.\n",
      "\n",
      "It would be fatal for the nation to overlook the urgency of the moment. This sweltering summer of the Negro's legitimate discontent will not pass until there is an invigorating autumn of freedom and equality. Nineteen sixty-three is not an end, but a beginning. Those who hope that the Negro needed to blow off steam and will now be content will have a rude awakening if the nation returns to business as usual. There will be neither rest nor tranquility in America until the Negro is granted his citizenship rights. The whirlwinds of revolt will continue to shake the foundations of our nation until the bright day of justice emerges.\n",
      "\n",
      "But there is something that I must say to my people who stand on the warm threshold which leads into the palace of justice. In the process of gaining our rightful place we must not be guilty of wrongful deeds. Let us not seek to satisfy our thirst for freedom by drinking from the cup of bitterness and hatred.\n",
      "\n",
      "We must forever conduct our struggle on the high plane of dignity and discipline. We must not allow our creative protest to degenerate into physical violence. Again and again we must rise to the majestic heights of meeting physical force with soul force. The marvelous new militancy which has engulfed the Negro community must not lead us to a distrust of all white people, for many of our white brothers, as evidenced by their presence here today, have come to realize that their destiny is tied up with our destiny. They have come to realize that their freedom is inextricably bound to our freedom. We cannot walk alone.\n",
      "\n",
      "As we walk, we must make the pledge that we shall always march ahead. We cannot turn back. There are those who are asking the devotees of civil rights, \"When will you be satisfied?\" We can never be satisfied as long as the Negro is the victim of the unspeakable horrors of police brutality. We can never be satisfied, as long as our bodies, heavy with the fatigue of travel, cannot gain lodging in the motels of the highways and the hotels of the cities. We cannot be satisfied as long as the Negro's basic mobility is from a smaller ghetto to a larger one. We can never be satisfied as long as our children are stripped of their selfhood and robbed of their dignity by signs stating \"For Whites Only\". We cannot be satisfied as long as a Negro in Mississippi cannot vote and a Negro in New York believes he has nothing for which to vote. No, no, we are not satisfied, and we will not be satisfied until justice rolls down like waters and righteousness like a mighty stream.\n",
      "\n",
      "I am not unmindful that some of you have come here out of great trials and tribulations. Some of you have come fresh from narrow jail cells. Some of you have come from areas where your quest for freedom left you battered by the storms of persecution and staggered by the winds of police brutality. You have been the veterans of creative suffering. Continue to work with the faith that unearned suffering is redemptive.\n",
      "\n",
      "Go back to Mississippi, go back to Alabama, go back to South Carolina, go back to Georgia, go back to Louisiana, go back to the slums and ghettos of our northern cities, knowing that somehow this situation can and will be changed. Let us not wallow in the valley of despair.\n",
      "\n",
      "I say to you today, my friends, so even though we face the difficulties of today and tomorrow, I still have a dream. It is a dream deeply rooted in the American dream.\n",
      "\n",
      "I have a dream that one day this nation will rise up and live out the true meaning of its creed: \"We hold these truths to be self-evident: that all men are created equal.\"\n",
      "\n",
      "I have a dream that one day on the red hills of Georgia the sons of former slaves and the sons of former slave owners will be able to sit down together at the table of brotherhood.\n",
      "\n",
      "I have a dream that one day even the state of Mississippi, a state sweltering with the heat of injustice, sweltering with the heat of oppression, will be transformed into an oasis of freedom and justice.\n",
      "\n",
      "I have a dream that my four little children will one day live in a nation where they will not be judged by the color of their skin, but by the content of their character.\n",
      "\n",
      "I have a dream today.\n",
      "\n",
      "I have a dream that one day, down in Alabama, with its vicious racists, with its governor having his lips dripping with the words of interposition and nullification; one day right there in Alabama, little black boys and black girls will be able to join hands with little white boys and white girls as sisters and brothers.\n",
      "\n",
      "I have a dream today.\n",
      "\n",
      "I have a dream that one day every valley shall be exalted, every hill and mountain shall be made low, the rough places will be made plain, and the crooked places will be made straight, and the glory of the Lord shall be revealed, and all flesh shall see it together.\n",
      "\n",
      "This is our hope. This is the faith that I go back to the South with. With this faith we will be able to hew out of the mountain of despair a stone of hope. With this faith we will be able to transform the jangling discords of our nation into a beautiful symphony of brotherhood. With this faith we will be able to work together, to pray together, to struggle together, to go to jail together, to stand up for freedom together, knowing that we will be free one day.\n",
      "\n",
      "This will be the day when all of God's children will be able to sing with a new meaning, \"My country, 'tis of thee, sweet land of liberty, of thee I sing. Land where my fathers died, land of the pilgrim's pride, from every mountainside, let freedom ring.\"\n",
      "\n",
      "And if America is to be a great nation this must become true.\n",
      "\n",
      "So let freedom ring from the prodigious hilltops of New Hampshire.\n",
      "\n",
      "Let freedom ring from the mighty mountains of New York. Let freedom ring from the heightening Alleghenies of Pennsylvania!\n",
      "\n",
      "Let freedom ring from the snowcapped Rockies of Colorado!\n",
      "\n",
      "Let freedom ring from the curvaceous slopes of California!\n",
      "\n",
      "But not only that; let freedom ring from Stone Mountain of Georgia!\n",
      "\n",
      "Let freedom ring from Lookout Mountain of Tennessee!\n",
      "\n",
      "Let freedom ring from every hill and molehill of Mississippi.\n",
      "\n",
      "From every mountainside, let freedom ring.\n",
      "\n",
      "And when this happens, when we allow freedom to ring, when we let it ring from every village and every hamlet, from every state and every city, we will be able to speed up that day when all of God's children, black men and white men, Jews and Gentiles, Protestants and Catholics, will be able to join hands and sing in the words of the old Negro spiritual,\n",
      "\n",
      "\"Free at last! Free at last! Thank God Almighty, we are free at last!\"\n"
     ]
    }
   ],
   "source": [
    "f = open(\"i_have_a_dream.txt\", \"r\", encoding = \"UTF-8\")\n",
    "contents = f.read()\n",
    "print(contents)\n",
    "f.close()"
   ]
  },
  {
   "cell_type": "code",
   "execution_count": 11,
   "id": "a118328b",
   "metadata": {},
   "outputs": [
    {
     "name": "stdout",
     "output_type": "stream",
     "text": [
      "<_io.TextIOWrapper name='i_have_a_dream.txt' mode='r' encoding='UTF-8'>\n"
     ]
    }
   ],
   "source": [
    "with open(\"i_have_a_dream.txt\", \"r\", encoding = \"UTF-8\") as f:\n",
    "    contents = f.read()\n",
    "    #print(contents)\n",
    "print(f)"
   ]
  },
  {
   "cell_type": "code",
   "execution_count": 13,
   "id": "565fa300",
   "metadata": {
    "scrolled": true
   },
   "outputs": [
    {
     "name": "stdout",
     "output_type": "stream",
     "text": [
      "<class 'list'>\n",
      "['I am happy to join with you today in what will go down in history as the greatest demonstration for freedom in the history of our nation.\\n', '\\n', 'Five score years ago, a great American, in whose symbolic shadow we stand today, signed the Emancipation Proclamation. This momentous decree came as a great beacon light of hope to millions of Negro slaves who had been seared in the flames of withering injustice. It came as a joyous daybreak to end the long night of their captivity.\\n', '\\n', 'But one hundred years later, the Negro still is not free. One hundred years later, the life of the Negro is still sadly crippled by the manacles of segregation and the chains of discrimination. One hundred years later, the Negro lives on a lonely island of poverty in the midst of a vast ocean of material prosperity. One hundred years later, the Negro is still languishing in the corners of American society and finds himself an exile in his own land. So we have come here today to dramatize a shameful condition.\\n', '\\n', \"In a sense we have come to our nation's capital to cash a check. When the architects of our republic wrote the magnificent words of the Constitution and the Declaration of Independence, they were signing a promissory note to which every American was to fall heir. This note was a promise that all men, -yes, black men as well as white men,- would be guaranteed the unalienable rights of life, liberty, and the pursuit of happiness.\\n\", '\\n', 'It is obvious today that America has defaulted on this promissory note insofar as her citizens of color are concerned. Instead of honoring this sacred obligation, America has given the Negro people a bad check, a check which has come back marked \"insufficient funds.\" But we refuse to believe that the bank of justice is bankrupt. We refuse to believe that there are insufficient funds in the great vaults of opportunity of this nation. So we have come to cash this check — a check that will give us upon demand the riches of freedom and the security of justice.\\n', '\\n', \"We have also come to this hallowed spot to remind America of the fierce urgency of now. This is no time to engage in the luxury of cooling off or to take the tranquilizing drug of gradualism. Now is the time to make real the promises of democracy. Now is the time to rise from the dark and desolate valley of segregation to the sunlit path of racial justice. Now is the time to lift our nation from the quick sands of racial injustice to the solid rock of brotherhood. Now is the time to make justice a reality for all of God's children.\\n\", '\\n', \"It would be fatal for the nation to overlook the urgency of the moment. This sweltering summer of the Negro's legitimate discontent will not pass until there is an invigorating autumn of freedom and equality. Nineteen sixty-three is not an end, but a beginning. Those who hope that the Negro needed to blow off steam and will now be content will have a rude awakening if the nation returns to business as usual. There will be neither rest nor tranquility in America until the Negro is granted his citizenship rights. The whirlwinds of revolt will continue to shake the foundations of our nation until the bright day of justice emerges.\\n\", '\\n', 'But there is something that I must say to my people who stand on the warm threshold which leads into the palace of justice. In the process of gaining our rightful place we must not be guilty of wrongful deeds. Let us not seek to satisfy our thirst for freedom by drinking from the cup of bitterness and hatred.\\n', '\\n', 'We must forever conduct our struggle on the high plane of dignity and discipline. We must not allow our creative protest to degenerate into physical violence. Again and again we must rise to the majestic heights of meeting physical force with soul force. The marvelous new militancy which has engulfed the Negro community must not lead us to a distrust of all white people, for many of our white brothers, as evidenced by their presence here today, have come to realize that their destiny is tied up with our destiny. They have come to realize that their freedom is inextricably bound to our freedom. We cannot walk alone.\\n', '\\n', 'As we walk, we must make the pledge that we shall always march ahead. We cannot turn back. There are those who are asking the devotees of civil rights, \"When will you be satisfied?\" We can never be satisfied as long as the Negro is the victim of the unspeakable horrors of police brutality. We can never be satisfied, as long as our bodies, heavy with the fatigue of travel, cannot gain lodging in the motels of the highways and the hotels of the cities. We cannot be satisfied as long as the Negro\\'s basic mobility is from a smaller ghetto to a larger one. We can never be satisfied as long as our children are stripped of their selfhood and robbed of their dignity by signs stating \"For Whites Only\". We cannot be satisfied as long as a Negro in Mississippi cannot vote and a Negro in New York believes he has nothing for which to vote. No, no, we are not satisfied, and we will not be satisfied until justice rolls down like waters and righteousness like a mighty stream.\\n', '\\n', 'I am not unmindful that some of you have come here out of great trials and tribulations. Some of you have come fresh from narrow jail cells. Some of you have come from areas where your quest for freedom left you battered by the storms of persecution and staggered by the winds of police brutality. You have been the veterans of creative suffering. Continue to work with the faith that unearned suffering is redemptive.\\n', '\\n', 'Go back to Mississippi, go back to Alabama, go back to South Carolina, go back to Georgia, go back to Louisiana, go back to the slums and ghettos of our northern cities, knowing that somehow this situation can and will be changed. Let us not wallow in the valley of despair.\\n', '\\n', 'I say to you today, my friends, so even though we face the difficulties of today and tomorrow, I still have a dream. It is a dream deeply rooted in the American dream.\\n', '\\n', 'I have a dream that one day this nation will rise up and live out the true meaning of its creed: \"We hold these truths to be self-evident: that all men are created equal.\"\\n', '\\n', 'I have a dream that one day on the red hills of Georgia the sons of former slaves and the sons of former slave owners will be able to sit down together at the table of brotherhood.\\n', '\\n', 'I have a dream that one day even the state of Mississippi, a state sweltering with the heat of injustice, sweltering with the heat of oppression, will be transformed into an oasis of freedom and justice.\\n', '\\n', 'I have a dream that my four little children will one day live in a nation where they will not be judged by the color of their skin, but by the content of their character.\\n', '\\n', 'I have a dream today.\\n', '\\n', 'I have a dream that one day, down in Alabama, with its vicious racists, with its governor having his lips dripping with the words of interposition and nullification; one day right there in Alabama, little black boys and black girls will be able to join hands with little white boys and white girls as sisters and brothers.\\n', '\\n', 'I have a dream today.\\n', '\\n', 'I have a dream that one day every valley shall be exalted, every hill and mountain shall be made low, the rough places will be made plain, and the crooked places will be made straight, and the glory of the Lord shall be revealed, and all flesh shall see it together.\\n', '\\n', 'This is our hope. This is the faith that I go back to the South with. With this faith we will be able to hew out of the mountain of despair a stone of hope. With this faith we will be able to transform the jangling discords of our nation into a beautiful symphony of brotherhood. With this faith we will be able to work together, to pray together, to struggle together, to go to jail together, to stand up for freedom together, knowing that we will be free one day.\\n', '\\n', 'This will be the day when all of God\\'s children will be able to sing with a new meaning, \"My country, \\'tis of thee, sweet land of liberty, of thee I sing. Land where my fathers died, land of the pilgrim\\'s pride, from every mountainside, let freedom ring.\"\\n', '\\n', 'And if America is to be a great nation this must become true.\\n', '\\n', 'So let freedom ring from the prodigious hilltops of New Hampshire.\\n', '\\n', 'Let freedom ring from the mighty mountains of New York. Let freedom ring from the heightening Alleghenies of Pennsylvania!\\n', '\\n', 'Let freedom ring from the snowcapped Rockies of Colorado!\\n', '\\n', 'Let freedom ring from the curvaceous slopes of California!\\n', '\\n', 'But not only that; let freedom ring from Stone Mountain of Georgia!\\n', '\\n', 'Let freedom ring from Lookout Mountain of Tennessee!\\n', '\\n', 'Let freedom ring from every hill and molehill of Mississippi.\\n', '\\n', 'From every mountainside, let freedom ring.\\n', '\\n', \"And when this happens, when we allow freedom to ring, when we let it ring from every village and every hamlet, from every state and every city, we will be able to speed up that day when all of God's children, black men and white men, Jews and Gentiles, Protestants and Catholics, will be able to join hands and sing in the words of the old Negro spiritual,\\n\", '\\n', '\"Free at last! Free at last! Thank God Almighty, we are free at last!\"']\n"
     ]
    },
    {
     "data": {
      "text/plain": [
       "'I am happy to join with you today in what will go down in history as the greatest demonstration for freedom in the history of our nation.\\n'"
      ]
     },
     "execution_count": 13,
     "metadata": {},
     "output_type": "execute_result"
    }
   ],
   "source": [
    "with open(\"i_have_a_dream.txt\", \"r\", encoding = \"UTF-8\") as my_file:\n",
    "    content_list = my_file.readlines()\n",
    "    print(type(content_list))\n",
    "    print(content_list)\n",
    "content_list[0]"
   ]
  },
  {
   "cell_type": "code",
   "execution_count": 14,
   "id": "3252f3e4",
   "metadata": {},
   "outputs": [
    {
     "name": "stdout",
     "output_type": "stream",
     "text": [
      "0 ====I am happy to join with you today in what will go down in history as the greatest demonstration for freedom in the history of our nation.\n",
      "\n",
      "1 ====\n",
      "\n",
      "2 ====Five score years ago, a great American, in whose symbolic shadow we stand today, signed the Emancipation Proclamation. This momentous decree came as a great beacon light of hope to millions of Negro slaves who had been seared in the flames of withering injustice. It came as a joyous daybreak to end the long night of their captivity.\n",
      "\n",
      "3 ====\n",
      "\n",
      "4 ====But one hundred years later, the Negro still is not free. One hundred years later, the life of the Negro is still sadly crippled by the manacles of segregation and the chains of discrimination. One hundred years later, the Negro lives on a lonely island of poverty in the midst of a vast ocean of material prosperity. One hundred years later, the Negro is still languishing in the corners of American society and finds himself an exile in his own land. So we have come here today to dramatize a shameful condition.\n",
      "\n",
      "5 ====\n",
      "\n",
      "6 ====In a sense we have come to our nation's capital to cash a check. When the architects of our republic wrote the magnificent words of the Constitution and the Declaration of Independence, they were signing a promissory note to which every American was to fall heir. This note was a promise that all men, -yes, black men as well as white men,- would be guaranteed the unalienable rights of life, liberty, and the pursuit of happiness.\n",
      "\n",
      "7 ====\n",
      "\n",
      "8 ====It is obvious today that America has defaulted on this promissory note insofar as her citizens of color are concerned. Instead of honoring this sacred obligation, America has given the Negro people a bad check, a check which has come back marked \"insufficient funds.\" But we refuse to believe that the bank of justice is bankrupt. We refuse to believe that there are insufficient funds in the great vaults of opportunity of this nation. So we have come to cash this check — a check that will give us upon demand the riches of freedom and the security of justice.\n",
      "\n",
      "9 ====\n",
      "\n",
      "10 ====We have also come to this hallowed spot to remind America of the fierce urgency of now. This is no time to engage in the luxury of cooling off or to take the tranquilizing drug of gradualism. Now is the time to make real the promises of democracy. Now is the time to rise from the dark and desolate valley of segregation to the sunlit path of racial justice. Now is the time to lift our nation from the quick sands of racial injustice to the solid rock of brotherhood. Now is the time to make justice a reality for all of God's children.\n",
      "\n",
      "11 ====\n",
      "\n",
      "12 ====It would be fatal for the nation to overlook the urgency of the moment. This sweltering summer of the Negro's legitimate discontent will not pass until there is an invigorating autumn of freedom and equality. Nineteen sixty-three is not an end, but a beginning. Those who hope that the Negro needed to blow off steam and will now be content will have a rude awakening if the nation returns to business as usual. There will be neither rest nor tranquility in America until the Negro is granted his citizenship rights. The whirlwinds of revolt will continue to shake the foundations of our nation until the bright day of justice emerges.\n",
      "\n",
      "13 ====\n",
      "\n",
      "14 ====But there is something that I must say to my people who stand on the warm threshold which leads into the palace of justice. In the process of gaining our rightful place we must not be guilty of wrongful deeds. Let us not seek to satisfy our thirst for freedom by drinking from the cup of bitterness and hatred.\n",
      "\n",
      "15 ====\n",
      "\n",
      "16 ====We must forever conduct our struggle on the high plane of dignity and discipline. We must not allow our creative protest to degenerate into physical violence. Again and again we must rise to the majestic heights of meeting physical force with soul force. The marvelous new militancy which has engulfed the Negro community must not lead us to a distrust of all white people, for many of our white brothers, as evidenced by their presence here today, have come to realize that their destiny is tied up with our destiny. They have come to realize that their freedom is inextricably bound to our freedom. We cannot walk alone.\n",
      "\n",
      "17 ====\n",
      "\n",
      "18 ====As we walk, we must make the pledge that we shall always march ahead. We cannot turn back. There are those who are asking the devotees of civil rights, \"When will you be satisfied?\" We can never be satisfied as long as the Negro is the victim of the unspeakable horrors of police brutality. We can never be satisfied, as long as our bodies, heavy with the fatigue of travel, cannot gain lodging in the motels of the highways and the hotels of the cities. We cannot be satisfied as long as the Negro's basic mobility is from a smaller ghetto to a larger one. We can never be satisfied as long as our children are stripped of their selfhood and robbed of their dignity by signs stating \"For Whites Only\". We cannot be satisfied as long as a Negro in Mississippi cannot vote and a Negro in New York believes he has nothing for which to vote. No, no, we are not satisfied, and we will not be satisfied until justice rolls down like waters and righteousness like a mighty stream.\n",
      "\n",
      "19 ====\n",
      "\n",
      "20 ====I am not unmindful that some of you have come here out of great trials and tribulations. Some of you have come fresh from narrow jail cells. Some of you have come from areas where your quest for freedom left you battered by the storms of persecution and staggered by the winds of police brutality. You have been the veterans of creative suffering. Continue to work with the faith that unearned suffering is redemptive.\n",
      "\n",
      "21 ====\n",
      "\n",
      "22 ====Go back to Mississippi, go back to Alabama, go back to South Carolina, go back to Georgia, go back to Louisiana, go back to the slums and ghettos of our northern cities, knowing that somehow this situation can and will be changed. Let us not wallow in the valley of despair.\n",
      "\n",
      "23 ====\n",
      "\n",
      "24 ====I say to you today, my friends, so even though we face the difficulties of today and tomorrow, I still have a dream. It is a dream deeply rooted in the American dream.\n",
      "\n",
      "25 ====\n",
      "\n",
      "26 ====I have a dream that one day this nation will rise up and live out the true meaning of its creed: \"We hold these truths to be self-evident: that all men are created equal.\"\n",
      "\n",
      "27 ====\n",
      "\n",
      "28 ====I have a dream that one day on the red hills of Georgia the sons of former slaves and the sons of former slave owners will be able to sit down together at the table of brotherhood.\n",
      "\n",
      "29 ====\n",
      "\n",
      "30 ====I have a dream that one day even the state of Mississippi, a state sweltering with the heat of injustice, sweltering with the heat of oppression, will be transformed into an oasis of freedom and justice.\n",
      "\n",
      "31 ====\n",
      "\n",
      "32 ====I have a dream that my four little children will one day live in a nation where they will not be judged by the color of their skin, but by the content of their character.\n",
      "\n",
      "33 ====\n",
      "\n",
      "34 ====I have a dream today.\n",
      "\n",
      "35 ====\n",
      "\n",
      "36 ====I have a dream that one day, down in Alabama, with its vicious racists, with its governor having his lips dripping with the words of interposition and nullification; one day right there in Alabama, little black boys and black girls will be able to join hands with little white boys and white girls as sisters and brothers.\n",
      "\n",
      "37 ====\n",
      "\n",
      "38 ====I have a dream today.\n",
      "\n",
      "39 ====\n",
      "\n",
      "40 ====I have a dream that one day every valley shall be exalted, every hill and mountain shall be made low, the rough places will be made plain, and the crooked places will be made straight, and the glory of the Lord shall be revealed, and all flesh shall see it together.\n",
      "\n",
      "41 ====\n",
      "\n",
      "42 ====This is our hope. This is the faith that I go back to the South with. With this faith we will be able to hew out of the mountain of despair a stone of hope. With this faith we will be able to transform the jangling discords of our nation into a beautiful symphony of brotherhood. With this faith we will be able to work together, to pray together, to struggle together, to go to jail together, to stand up for freedom together, knowing that we will be free one day.\n",
      "\n",
      "43 ====\n",
      "\n",
      "44 ====This will be the day when all of God's children will be able to sing with a new meaning, \"My country, 'tis of thee, sweet land of liberty, of thee I sing. Land where my fathers died, land of the pilgrim's pride, from every mountainside, let freedom ring.\"\n",
      "\n",
      "45 ====\n",
      "\n",
      "46 ====And if America is to be a great nation this must become true.\n",
      "\n",
      "47 ====\n",
      "\n",
      "48 ====So let freedom ring from the prodigious hilltops of New Hampshire.\n",
      "\n",
      "49 ====\n",
      "\n",
      "50 ====Let freedom ring from the mighty mountains of New York. Let freedom ring from the heightening Alleghenies of Pennsylvania!\n",
      "\n",
      "51 ====\n",
      "\n",
      "52 ====Let freedom ring from the snowcapped Rockies of Colorado!\n",
      "\n",
      "53 ====\n",
      "\n",
      "54 ====Let freedom ring from the curvaceous slopes of California!\n",
      "\n",
      "55 ====\n",
      "\n",
      "56 ====But not only that; let freedom ring from Stone Mountain of Georgia!\n",
      "\n",
      "57 ====\n",
      "\n",
      "58 ====Let freedom ring from Lookout Mountain of Tennessee!\n",
      "\n",
      "59 ====\n",
      "\n",
      "60 ====Let freedom ring from every hill and molehill of Mississippi.\n",
      "\n",
      "61 ====\n",
      "\n",
      "62 ====From every mountainside, let freedom ring.\n",
      "\n",
      "63 ====\n",
      "\n",
      "64 ====And when this happens, when we allow freedom to ring, when we let it ring from every village and every hamlet, from every state and every city, we will be able to speed up that day when all of God's children, black men and white men, Jews and Gentiles, Protestants and Catholics, will be able to join hands and sing in the words of the old Negro spiritual,\n",
      "\n",
      "65 ====\n",
      "\n",
      "66 ====\"Free at last! Free at last! Thank God Almighty, we are free at last!\"\n"
     ]
    },
    {
     "data": {
      "text/plain": [
       "''"
      ]
     },
     "execution_count": 14,
     "metadata": {},
     "output_type": "execute_result"
    }
   ],
   "source": [
    "with open(\"i_have_a_dream.txt\", \"r\", encoding = \"UTF-8\") as my_file:\n",
    "    i = 0\n",
    "    while True:\n",
    "        line = my_file.readline()\n",
    "        if not line:\n",
    "            break\n",
    "        print(\"{0} ===={1}\".format(i, line))\n",
    "        i += 1\n",
    "line"
   ]
  },
  {
   "cell_type": "code",
   "execution_count": 16,
   "id": "420ee383",
   "metadata": {},
   "outputs": [
    {
     "name": "stdout",
     "output_type": "stream",
     "text": [
      "Total Number of Characters:  9067\n",
      "Total Number of Words:  1619\n",
      "Total Number of Lines:  67\n"
     ]
    }
   ],
   "source": [
    "with open(\"i_have_a_dream.txt\", \"r\", encoding = \"UTF-8\") as my_file:\n",
    "    content_list = my_file.read()\n",
    "    word_list = contents.split(\" \") # 빈칸 기준으로 단어를 분리, 리스트\n",
    "    line_list = contents.split(\"\\n\") # 한 줄씩 분리하여 리스트\n",
    "\n",
    "print(\"Total Number of Characters: \", len(contents))\n",
    "print(\"Total Number of Words: \", len(word_list))\n",
    "print(\"Total Number of Lines: \", len(line_list))"
   ]
  },
  {
   "cell_type": "markdown",
   "id": "427f3d75",
   "metadata": {},
   "source": [
    "# File Write"
   ]
  },
  {
   "cell_type": "code",
   "execution_count": 19,
   "id": "db71b0de",
   "metadata": {},
   "outputs": [],
   "source": [
    "f = open(\"count_log.txt\", mode = \"w\", encoding = \"UTF8\")\n",
    "for i in range(1, 11):\n",
    "    data = \"{0}번째 줄입니다. \\n\".format(i)\n",
    "    f.write(data)\n",
    "f.close()"
   ]
  },
  {
   "cell_type": "code",
   "execution_count": 21,
   "id": "4f2b187f",
   "metadata": {},
   "outputs": [],
   "source": [
    "with open(\"count_log.txt\", mode = \"a\", encoding = \"UTF8\") as f:  #'a' mode : append\n",
    "    for i in range(11, 21):\n",
    "        data = \"{0}번째 줄입니다. \\n\".format(i)\n",
    "        f.write(data)"
   ]
  },
  {
   "cell_type": "markdown",
   "id": "99920cfe",
   "metadata": {},
   "source": [
    "# OS module"
   ]
  },
  {
   "cell_type": "code",
   "execution_count": 22,
   "id": "64232ae9",
   "metadata": {},
   "outputs": [],
   "source": [
    "import os\n",
    "os.mkdir(\"log\")"
   ]
  },
  {
   "cell_type": "code",
   "execution_count": 23,
   "id": "2421d389",
   "metadata": {},
   "outputs": [
    {
     "name": "stdout",
     "output_type": "stream",
     "text": [
      "Already created\n"
     ]
    }
   ],
   "source": [
    "try:\n",
    "    os.mkdir(\"log\")\n",
    "except FileExistsError as e:\n",
    "    print(\"Already created\")"
   ]
  },
  {
   "cell_type": "code",
   "execution_count": 24,
   "id": "0d7f6807",
   "metadata": {},
   "outputs": [
    {
     "data": {
      "text/plain": [
       "True"
      ]
     },
     "execution_count": 24,
     "metadata": {},
     "output_type": "execute_result"
    }
   ],
   "source": [
    "os.path.exists(\"log\")  # log 라는 폴더가 존재하는가"
   ]
  },
  {
   "cell_type": "code",
   "execution_count": 25,
   "id": "78134eec",
   "metadata": {},
   "outputs": [
    {
     "data": {
      "text/plain": [
       "True"
      ]
     },
     "execution_count": 25,
     "metadata": {},
     "output_type": "execute_result"
    }
   ],
   "source": [
    "os.path.isfile(\"file.ipynb\")  # file.ipynb라는 파일이 존재하는가"
   ]
  },
  {
   "cell_type": "code",
   "execution_count": 26,
   "id": "cdc415df",
   "metadata": {},
   "outputs": [
    {
     "ename": "AttributeError",
     "evalue": "'str' object has no attribute 'dest'",
     "output_type": "error",
     "traceback": [
      "\u001b[1;31m---------------------------------------------------------------------------\u001b[0m",
      "\u001b[1;31mAttributeError\u001b[0m                            Traceback (most recent call last)",
      "Input \u001b[1;32mIn [26]\u001b[0m, in \u001b[0;36m<cell line: 6>\u001b[1;34m()\u001b[0m\n\u001b[0;32m      3\u001b[0m source \u001b[38;5;241m=\u001b[39m \u001b[38;5;124m\"\u001b[39m\u001b[38;5;124mfile.ipynb\u001b[39m\u001b[38;5;124m\"\u001b[39m\n\u001b[0;32m      4\u001b[0m dest \u001b[38;5;241m=\u001b[39m os\u001b[38;5;241m.\u001b[39mpath\u001b[38;5;241m.\u001b[39mjoin(\u001b[38;5;124m\"\u001b[39m\u001b[38;5;124mabc\u001b[39m\u001b[38;5;124m\"\u001b[39m, \u001b[38;5;124m\"\u001b[39m\u001b[38;5;124mfile.ipynb\u001b[39m\u001b[38;5;124m\"\u001b[39m)\n\u001b[1;32m----> 6\u001b[0m shutil\u001b[38;5;241m.\u001b[39mcopy(\u001b[43msource\u001b[49m\u001b[38;5;241;43m.\u001b[39;49m\u001b[43m \u001b[49m\u001b[43mdest\u001b[49m)\n",
      "\u001b[1;31mAttributeError\u001b[0m: 'str' object has no attribute 'dest'"
     ]
    }
   ],
   "source": [
    "import shutil # 파일을 이동시킬 때\n",
    "\n",
    "source = \"file.ipynb\"\n",
    "dest = os.path.join(\"abc\", \"file.ipynb\")\n",
    "\n",
    "shutil.copy(source. dest)"
   ]
  }
 ],
 "metadata": {
  "kernelspec": {
   "display_name": "Python 3 (ipykernel)",
   "language": "python",
   "name": "python3"
  },
  "language_info": {
   "codemirror_mode": {
    "name": "ipython",
    "version": 3
   },
   "file_extension": ".py",
   "mimetype": "text/x-python",
   "name": "python",
   "nbconvert_exporter": "python",
   "pygments_lexer": "ipython3",
   "version": "3.8.13"
  }
 },
 "nbformat": 4,
 "nbformat_minor": 5
}
