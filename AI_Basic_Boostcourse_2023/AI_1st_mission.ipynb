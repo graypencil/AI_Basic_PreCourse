{
  "nbformat": 4,
  "nbformat_minor": 0,
  "metadata": {
    "colab": {
      "provenance": []
    },
    "kernelspec": {
      "name": "python3",
      "display_name": "Python 3"
    },
    "language_info": {
      "name": "python"
    }
  },
  "cells": [
    {
      "cell_type": "markdown",
      "source": [
        "# **1st week Mission**\n",
        "#### by.Grey (턴태_team_01)\n",
        "\n",
        "\n",
        "\n",
        "\n",
        "\n"
      ],
      "metadata": {
        "id": "r1ef1-WVsDtF"
      }
    },
    {
      "cell_type": "markdown",
      "source": [
        "Q1. 파이썬에서는 리스트 형태의 데이터를 자주 사용합니다. 그래서 리스트 를 잘 다루는 것이 중요한데, 다음으로 주어진 리스트 데이터를 다뤄봅시다.😎\n",
        "\n",
        "- 다양한 데이터를 수집해서 아래와 같은 num_list를 얻었습니다.\n",
        "- 하지만 우리에게 필요한 데이터는 홀수 데이터입니다.\n",
        "- 그렇다면 num_list 가 홀수인 데이터만 출력하도록 하는 함수를 작성해보세요."
      ],
      "metadata": {
        "id": "gvEj23HisZwk"
      }
    },
    {
      "cell_type": "code",
      "source": [
        "# 주어진 리스트 -------------------------------------------\n",
        "num_list = [1, 5, 7, 15, 16, 22, 28, 29]\n",
        "\n",
        "\n",
        "# 홀수인 데이터만 출력하도록 하는 함수 --------------------\n",
        "def get_odd_num(num_list):\n",
        "\n",
        "  # 홀수인 원소의 리스트 정의(초기화)\n",
        "  odd_list = [] \n",
        "\n",
        "  # 홀수인 원소만 추출하여 리스트로 만들기    \n",
        "  for i in num_list:\n",
        "    if i % 2 == 1:      \n",
        "      odd_list.append(i)  \n",
        "  \n",
        "  return print(odd_list) # 출력까지 구현\n",
        "\n",
        "\n",
        "# 실행 ----------------------------------------------------- \n",
        "get_odd_num(num_list)"
      ],
      "metadata": {
        "colab": {
          "base_uri": "https://localhost:8080/"
        },
        "id": "8SOj5eoIsZdM",
        "outputId": "ef60d1e5-d49e-4cef-feab-f4de4fddcaff"
      },
      "execution_count": 24,
      "outputs": [
        {
          "output_type": "stream",
          "name": "stdout",
          "text": [
            "[1, 5, 7, 15, 29]\n"
          ]
        }
      ]
    },
    {
      "cell_type": "markdown",
      "source": [
        "Q2. 데이터 처리를 위해서 문자열을 입력받았습니다. 그런데, 문자열을 받았 더니 단어 단위로 거꾸로 입력되었습니다. 이를 다시 원래대로 출력하는 함수 를 작성해보세요.😎\n",
        "\n",
        "- string 문장을 받아 단어를 역순으로 출력하는 함수를 작성하세요.\n",
        "- string 연산을 이용해보세요."
      ],
      "metadata": {
        "id": "iqZraT0xtO_N"
      }
    },
    {
      "cell_type": "code",
      "execution_count": 52,
      "metadata": {
        "colab": {
          "base_uri": "https://localhost:8080/"
        },
        "id": "ozjsAgwGr-q9",
        "outputId": "c3cb6ec3-b802-4390-d900-48bc8962ad5f"
      },
      "outputs": [
        {
          "output_type": "stream",
          "name": "stdout",
          "text": [
            "Where there is a will there is a way\n"
          ]
        }
      ],
      "source": [
        "# 주어진 문자열 ---------------------------------------\n",
        "sentence = \"way a is there will a is there Where\"\n",
        "\n",
        "\n",
        "# 문자열을 역순으로 출력하는 함수 ---------------------\n",
        "def reverse_sentence(sentence):\n",
        "\n",
        "  # 문장을 단어로 분리하여 리스트에 넣기\n",
        "  words_list = sentence.split()\n",
        "  \n",
        "  # 리스트 원소를 뒤집기\n",
        "  reverse_list = []\n",
        "  for word in words_list[::-1]:\n",
        "    reverse_list.append(word)\n",
        "\n",
        "  # 리스트를 문자열로 변환하기\n",
        "  result = ' '.join(w for w in reverse_list)\n",
        "  \n",
        "  return print(result) # 출력까지 구현\n",
        "  \n",
        "\n",
        "# 실행 ---------------------------------------------------\n",
        "reverse_sentence(sentence)"
      ]
    },
    {
      "cell_type": "markdown",
      "source": [
        "Q3. 이번 학기의 중간고사, 기말고사 점수가 발표되었습니다. 각 학생들의 점수가 튜플 형태로 저장되어 있고, 이를 포함한 리스트가 있습니다. 이를 이용해 각 학생들의 평균 점수를 출력하는 함수를 제작하세요. 😎\n",
        "- 리스트와 반복문을 사용해 데이터를 불러오세요.\n",
        "- 이를 이용해 각 학생별 평균을 구해보세요 "
      ],
      "metadata": {
        "id": "Edkns61ctPfO"
      }
    },
    {
      "cell_type": "code",
      "source": [
        "# 입력 데이터 -----------------------------------------------------\n",
        "score = [(100,100), (95,90), (55,60), (75,80), (70,70)]\n",
        "\n",
        "\n",
        "# 학생들의 평균 점수 출력하는 함수 --------------------------------\n",
        "def get_avg(score):\n",
        "\n",
        "  # 학생 점수 추출 및 평균 구하기\n",
        "  i = 0 # 학생 번호 초기화\n",
        "  for s in score:\n",
        "    sum = s[0] + s[1]\n",
        "    avg = sum / len(s)  \n",
        "    i += 1 # 학생 번호 매기기\n",
        "    print(f\"{i} 번, 평균 : {avg}\") # 출력 format 구현\n",
        "    \n",
        "\n",
        "# 실행 ------------------------------------------------------------\n",
        "get_avg(score)"
      ],
      "metadata": {
        "colab": {
          "base_uri": "https://localhost:8080/"
        },
        "id": "rqXax0TjtOd2",
        "outputId": "fc74bc58-bcd4-4432-8e22-971c7f73a9b8"
      },
      "execution_count": 74,
      "outputs": [
        {
          "output_type": "stream",
          "name": "stdout",
          "text": [
            "1 번, 평균 : 100.0\n",
            "2 번, 평균 : 92.5\n",
            "3 번, 평균 : 57.5\n",
            "4 번, 평균 : 77.5\n",
            "5 번, 평균 : 70.0\n"
          ]
        }
      ]
    },
    {
      "cell_type": "markdown",
      "source": [
        "Q4. 두개의 납품처에서 각각 과일과 야채들이 납품되었습니다. 이를 각각 물 품의 갯수를 나타내는 2개의 딕셔너리로 정리했습니다. 물품을 정리하기 위해서 2 개의 딕셔너리 객체를 합쳐 출력하는 함수를 제작하세요.😎\n",
        "- 중복되는 물품은 합쳐서 표시하세요.\n",
        "- 각 딕셔너리 데이터의 데이터의 키값을 이용해 중복을 확인해보세요."
      ],
      "metadata": {
        "id": "y2WxwQkt6ZBo"
      }
    },
    {
      "cell_type": "code",
      "source": [
        "dict_first = {'사과': 30, '배':15, '감':10, '포도':10}\n",
        "dict_second = {'사과': 5, '감':25, '배':15, '귤':25}\n",
        "\n",
        "#def merge_dict(dict_first, dict_second):\n",
        "dict01 = sorted(dict_first.items())\n",
        "dict02 = sorted(dict_second.items())\n",
        "for key1 in dict_first.keys():\n",
        "  if key1 in dict_second.keys():\n",
        "    int new_val = int(dict_first.get('key1')) + int(dict_second.get('key1'))\n",
        "    dict_first['key1'] = new_val\n",
        "    del(dict_second['key1'])\n",
        "   \n",
        "  \n",
        "dict_first.update(dict_second)\n",
        "  \n",
        "print(dict_first)\n",
        "\n",
        "\n",
        "\n",
        "\n"
      ],
      "metadata": {
        "colab": {
          "base_uri": "https://localhost:8080/",
          "height": 137
        },
        "id": "e1vbRqxy6M3o",
        "outputId": "55cbce28-c8a0-4c5f-aa32-d81f25df9f9c"
      },
      "execution_count": 88,
      "outputs": [
        {
          "output_type": "error",
          "ename": "SyntaxError",
          "evalue": "ignored",
          "traceback": [
            "\u001b[0;36m  File \u001b[0;32m\"<ipython-input-88-dfd16dad9e96>\"\u001b[0;36m, line \u001b[0;32m7\u001b[0m\n\u001b[0;31m    int new_val = int(dict_first.get('key1')) + int(dict_second.get('key1'))\u001b[0m\n\u001b[0m        ^\u001b[0m\n\u001b[0;31mSyntaxError\u001b[0m\u001b[0;31m:\u001b[0m invalid syntax\n"
          ]
        }
      ]
    },
    {
      "cell_type": "markdown",
      "source": [
        "Q5. 단어들을 입력받았는데, 자꾸만 숫자들이 섞여들어가는 문제가 있습니 다. 이를 처리하기 위해서 함수에 string을 전달 받은 뒤, string 안에서의 숫 자를 제거한 후 string만 남은 리스트를 출력하세요. 😎\n",
        "- string 연산을 이용해서 문자열을 자르는 연산을 사용해보세요."
      ],
      "metadata": {
        "id": "UqucrdtT60hR"
      }
    },
    {
      "cell_type": "code",
      "source": [
        "from string import digits\n",
        "\n",
        "# 입력 문자열 ----------------------------------------------\n",
        "inputs = \"cat32dog15cow5\"\n",
        "\n",
        "\n",
        "# 입력받은 단어만 추출하는 함수 ----------------------------\n",
        "def find_string(inputs):\n",
        "  \n",
        "  # 각각 문자를 받을 리스트\n",
        "  char_list = [] # 초기화\n",
        "  char_count = len(inputs) # 문자의 개수\n",
        "\n",
        "  # 문자열을 각 문자로 이루어진 리스트로 변환\n",
        "  for i in range(char_count):\n",
        "    char_list.append(inputs[i])\n",
        "  \n",
        "  # 문자 리스트 중 리스트 값이 숫자인 것을 null로 치환\n",
        "  for char in char_list:\n",
        "    if char.isdigit() == 1:\n",
        "      index = char_list.index(char)\n",
        "      char_list[index] = ' '\n",
        "  # print(char_list) # 중간 점검(숫자-> null 변환 확인)\n",
        "\n",
        "  # 숫자를 null로 치환하고 리스트를 문자열로 변환\n",
        "  join_str = ''.join(c for c in char_list)\n",
        "  # print(join_str) # 중간 점검(문자열 확인)\n",
        "\n",
        "  # 공백을 기준으로 문자열을 리스트로 전환 (단어로 추출)\n",
        "  word_list = join_str.split(' ')\n",
        "  # print(word_list) # 중간 점검(단어 리스트 확인)\n",
        "\n",
        "  # 리스트 null 값 제거하기\n",
        "  # word_list = [w for w in word_list if w] # 방법 1\n",
        "  word_list = list(filter(None, word_list)) # 방법 2\n",
        "  # print(word_list) # 중간 점검(단어 리스트 내 null 값 여부 확인)\n",
        "  return word_list\n",
        "\n",
        "\n",
        "# 실행 -----------------------------------------------------------\n",
        "string_list = find_string(inputs)\n",
        "print(string_list)"
      ],
      "metadata": {
        "colab": {
          "base_uri": "https://localhost:8080/"
        },
        "id": "fMSADDWQ64Sv",
        "outputId": "0a791d6a-75f0-4352-9feb-0c07212c848c"
      },
      "execution_count": 110,
      "outputs": [
        {
          "output_type": "stream",
          "name": "stdout",
          "text": [
            "['cat', 'dog', 'cow']\n"
          ]
        }
      ]
    }
  ]
}