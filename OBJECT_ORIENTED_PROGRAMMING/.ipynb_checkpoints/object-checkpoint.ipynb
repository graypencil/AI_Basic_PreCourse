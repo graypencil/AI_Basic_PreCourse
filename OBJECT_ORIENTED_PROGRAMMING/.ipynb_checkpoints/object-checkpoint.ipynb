{
 "cells": [
  {
   "cell_type": "code",
   "execution_count": 3,
   "id": "463bf7ca",
   "metadata": {},
   "outputs": [
    {
     "ename": "NameError",
     "evalue": "name 'SoccerPlayer' is not defined",
     "output_type": "error",
     "traceback": [
      "\u001b[1;31m---------------------------------------------------------------------------\u001b[0m",
      "\u001b[1;31mNameError\u001b[0m                                 Traceback (most recent call last)",
      "Input \u001b[1;32mIn [3]\u001b[0m, in \u001b[0;36m<cell line: 4>\u001b[1;34m()\u001b[0m\n\u001b[0;32m      1\u001b[0m \u001b[38;5;28;01mclass\u001b[39;00m \u001b[38;5;21;01mSoccorPlayer\u001b[39;00m(\u001b[38;5;28mobject\u001b[39m): \u001b[38;5;66;03m# 클래스\u001b[39;00m\n\u001b[0;32m      2\u001b[0m     \u001b[38;5;28;01mpass\u001b[39;00m\n\u001b[1;32m----> 4\u001b[0m abc \u001b[38;5;241m=\u001b[39m \u001b[43mSoccerPlayer\u001b[49m()  \u001b[38;5;66;03m# 객체\u001b[39;00m\n\u001b[0;32m      5\u001b[0m ddd \u001b[38;5;241m=\u001b[39m SoccerPlayer()  \u001b[38;5;66;03m# 객체\u001b[39;00m\n\u001b[0;32m      6\u001b[0m eee \u001b[38;5;241m=\u001b[39m SoccerPlayer()\n",
      "\u001b[1;31mNameError\u001b[0m: name 'SoccerPlayer' is not defined"
     ]
    }
   ],
   "source": [
    "class SoccorPlayer(object): # 클래스 생성\n",
    "    # pass\n",
    "\n",
    "abc = SoccerPlayer()  # 객체\n",
    "ddd = SoccerPlayer()  # 객체\n",
    "eee = SoccerPlayer()  # 객체"
   ]
  },
  {
   "cell_type": "code",
   "execution_count": 27,
   "id": "50f0f5ff",
   "metadata": {},
   "outputs": [],
   "source": [
    "class SoccerPlayer(object): # 클래스 생성\n",
    "    # def __init__(self, name, position, back_number): # 이렇게도 가능\n",
    "    def __init__(self, name :  str , position : str, back_number : int): # 일종의 설계도\n",
    "        self.name = name\n",
    "        self.position = position\n",
    "        self.back_number = back_number\n",
    "        \n",
    "    def __str__(self):\n",
    "        return \"Hellow, My name is %s. My back number is %d\" % \\\n",
    "                (self.name, self.back_number)\n",
    "        \n",
    "    def __add__(self, other):\n",
    "        return self.name + other.name\n",
    "        "
   ]
  },
  {
   "cell_type": "code",
   "execution_count": 28,
   "id": "48fa9710",
   "metadata": {},
   "outputs": [
    {
     "name": "stdout",
     "output_type": "stream",
     "text": [
      "Hellow, My name is son. My back number is 7\n"
     ]
    }
   ],
   "source": [
    "abc = SoccerPlayer(\"son\", \"FW\", 7) \n",
    "park = SoccerPlayer(\"park\", \"WF\", 13) \n",
    "\n",
    "print(abc) # __str__ 없을 경우  객의 메모리 주소가 나오게 됨"
   ]
  },
  {
   "cell_type": "code",
   "execution_count": 29,
   "id": "de247495",
   "metadata": {},
   "outputs": [
    {
     "name": "stdout",
     "output_type": "stream",
     "text": [
      "Hellow, My name is park. My back number is 13\n"
     ]
    }
   ],
   "source": [
    "print(park) # __str__ 있을 경우  객의 메모리 주소가 나오게 됨"
   ]
  },
  {
   "cell_type": "code",
   "execution_count": 30,
   "id": "ff628a00",
   "metadata": {},
   "outputs": [
    {
     "data": {
      "text/plain": [
       "'sonpark'"
      ]
     },
     "execution_count": 30,
     "metadata": {},
     "output_type": "execute_result"
    }
   ],
   "source": [
    "abc + park"
   ]
  },
  {
   "cell_type": "code",
   "execution_count": 36,
   "id": "3f73889e",
   "metadata": {},
   "outputs": [],
   "source": [
    "class SoccerPlayer(object): # 클래스 생성\n",
    "    def __init__(self, name :  str , position : str, back_number : int): # 일종의 설계도\n",
    "        self.name = name\n",
    "        self.position = position\n",
    "        self.back_number = back_number\n",
    "        \n",
    "    def change_back_number(self, new_number):\n",
    "        print(\"선수의 등번호 변경: From %d to %d\" % \\\n",
    "                 (self.back_number, new_number))\n",
    "        \n",
    "    def __str__(self):\n",
    "        return \"Hellow, My name is %s. My back number is %d\" % \\\n",
    "                (self.name, self.back_number)\n"
   ]
  },
  {
   "cell_type": "code",
   "execution_count": 34,
   "id": "07362ad3",
   "metadata": {},
   "outputs": [
    {
     "name": "stdout",
     "output_type": "stream",
     "text": [
      "Hellow, My name is Jihyun. My back number is 10\n"
     ]
    }
   ],
   "source": [
    "choi = SoccerPlayer(\"Jihyun\", \"MF\", 10)\n",
    "print(choi)"
   ]
  },
  {
   "cell_type": "code",
   "execution_count": 37,
   "id": "1d11235f",
   "metadata": {},
   "outputs": [
    {
     "name": "stdout",
     "output_type": "stream",
     "text": [
      "선수 등번호 변경: From 10 to 7\n",
      "Hellow, My name is Jihyun. My back number is 10\n"
     ]
    }
   ],
   "source": [
    "choi.change_back_number(7)\n",
    "print(choi)"
   ]
  },
  {
   "cell_type": "code",
   "execution_count": null,
   "id": "a0262bfa",
   "metadata": {},
   "outputs": [],
   "source": [
    "choi.back_number = 20 # 이렇게 바꿀 수도 있지만, 권장 안 함.\n",
    "print(choi)"
   ]
  },
  {
   "cell_type": "code",
   "execution_count": null,
   "id": "87839ca6",
   "metadata": {},
   "outputs": [],
   "source": []
  }
 ],
 "metadata": {
  "kernelspec": {
   "display_name": "Python 3 (ipykernel)",
   "language": "python",
   "name": "python3"
  },
  "language_info": {
   "codemirror_mode": {
    "name": "ipython",
    "version": 3
   },
   "file_extension": ".py",
   "mimetype": "text/x-python",
   "name": "python",
   "nbconvert_exporter": "python",
   "pygments_lexer": "ipython3",
   "version": "3.8.13"
  }
 },
 "nbformat": 4,
 "nbformat_minor": 5
}
