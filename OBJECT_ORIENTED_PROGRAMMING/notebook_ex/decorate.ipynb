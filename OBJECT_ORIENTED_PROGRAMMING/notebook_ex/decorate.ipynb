{
 "cells": [
  {
   "cell_type": "markdown",
   "id": "e18c1e12",
   "metadata": {},
   "source": [
    "# First-class object"
   ]
  },
  {
   "cell_type": "code",
   "execution_count": 3,
   "id": "a5c0a015",
   "metadata": {},
   "outputs": [],
   "source": [
    "def square(x):\n",
    "    return x * x\n",
    "\n",
    "def cube(x):\n",
    "    return x * x * x \n",
    "\n",
    "def formula(method, argument_list):  # 함수를 parameter로 사용\n",
    "    return [method(value) for value in argument_list]"
   ]
  },
  {
   "cell_type": "code",
   "execution_count": 4,
   "id": "932651c7",
   "metadata": {},
   "outputs": [
    {
     "data": {
      "text/plain": [
       "25"
      ]
     },
     "execution_count": 4,
     "metadata": {},
     "output_type": "execute_result"
    }
   ],
   "source": [
    "square(5)  # 함수면서도 value 로도 사용"
   ]
  },
  {
   "cell_type": "code",
   "execution_count": 5,
   "id": "eedde607",
   "metadata": {},
   "outputs": [
    {
     "ename": "TypeError",
     "evalue": "'int' object is not iterable",
     "output_type": "error",
     "traceback": [
      "\u001b[1;31m---------------------------------------------------------------------------\u001b[0m",
      "\u001b[1;31mTypeError\u001b[0m                                 Traceback (most recent call last)",
      "Input \u001b[1;32mIn [5]\u001b[0m, in \u001b[0;36m<cell line: 1>\u001b[1;34m()\u001b[0m\n\u001b[1;32m----> 1\u001b[0m \u001b[43mformula\u001b[49m\u001b[43m(\u001b[49m\u001b[43msquare\u001b[49m\u001b[43m,\u001b[49m\u001b[43m \u001b[49m\u001b[38;5;241;43m2\u001b[39;49m\u001b[43m)\u001b[49m\n\u001b[0;32m      2\u001b[0m formula(cube, \u001b[38;5;241m3\u001b[39m)\n",
      "Input \u001b[1;32mIn [3]\u001b[0m, in \u001b[0;36mformula\u001b[1;34m(method, argument_list)\u001b[0m\n\u001b[0;32m      7\u001b[0m \u001b[38;5;28;01mdef\u001b[39;00m \u001b[38;5;21mformula\u001b[39m(method, argument_list):\n\u001b[1;32m----> 8\u001b[0m     \u001b[38;5;28;01mreturn\u001b[39;00m [method(value) \u001b[38;5;28;01mfor\u001b[39;00m value \u001b[38;5;129;01min\u001b[39;00m argument_list]\n",
      "\u001b[1;31mTypeError\u001b[0m: 'int' object is not iterable"
     ]
    }
   ],
   "source": [
    "formula(square, 2)\n",
    "formula(cube, 3)"
   ]
  },
  {
   "cell_type": "markdown",
   "id": "b6d028e3",
   "metadata": {},
   "source": [
    "# Inner function"
   ]
  },
  {
   "cell_type": "code",
   "execution_count": 8,
   "id": "3b6b9c57",
   "metadata": {},
   "outputs": [],
   "source": [
    "def print_msg(msg):\n",
    "    def printer():\n",
    "        print(msg)\n",
    "    printer() "
   ]
  },
  {
   "cell_type": "code",
   "execution_count": 9,
   "id": "760be9bd",
   "metadata": {},
   "outputs": [
    {
     "name": "stdout",
     "output_type": "stream",
     "text": [
      "Hello, Python\n"
     ]
    }
   ],
   "source": [
    "print_msg(\"Hello, Python\")"
   ]
  },
  {
   "cell_type": "code",
   "execution_count": 11,
   "id": "8f24719d",
   "metadata": {},
   "outputs": [],
   "source": [
    "# closures \n",
    "def print_msg(msg):\n",
    "    def printer():\n",
    "        print(msg)\n",
    "    return printer    "
   ]
  },
  {
   "cell_type": "code",
   "execution_count": 12,
   "id": "aaa5ef4e",
   "metadata": {},
   "outputs": [
    {
     "name": "stdout",
     "output_type": "stream",
     "text": [
      "Hello, Python\n"
     ]
    }
   ],
   "source": [
    "another = print_msg(\"Hello, Python\")\n",
    "another()"
   ]
  },
  {
   "cell_type": "markdown",
   "id": "1b41e096",
   "metadata": {},
   "source": [
    "# closure"
   ]
  },
  {
   "cell_type": "code",
   "execution_count": 14,
   "id": "b798a022",
   "metadata": {},
   "outputs": [],
   "source": [
    "def tag_func(tag, text):\n",
    "    text = text\n",
    "    tag = tag\n",
    "    \n",
    "    def inner_func():\n",
    "        return '<{0}>{1}<{0}>'.format(tag, text)\n",
    "    \n",
    "    return inner_func"
   ]
  },
  {
   "cell_type": "code",
   "execution_count": 15,
   "id": "e597e07b",
   "metadata": {},
   "outputs": [],
   "source": [
    "h1_func = tag_func('title', \"This is Python Class\")\n",
    "p_func = tag_func('p', \"Data Academy\")"
   ]
  },
  {
   "cell_type": "markdown",
   "id": "4388e4ca",
   "metadata": {},
   "source": [
    "# decorator function"
   ]
  },
  {
   "cell_type": "code",
   "execution_count": 17,
   "id": "d9bc22d7",
   "metadata": {},
   "outputs": [],
   "source": [
    "def star(func):\n",
    "    def inner(*args, **kwargs):\n",
    "        print(args[1] * 30)\n",
    "        func(*args, **kwargs)\n",
    "        print(args[1] * 30)\n",
    "    return inner\n",
    "\n",
    "@star  # 아래의 함수가 func 로 대입 됨\n",
    "def printer(msg, mark):\n",
    "    print(msg)       "
   ]
  },
  {
   "cell_type": "code",
   "execution_count": 18,
   "id": "29f8e62c",
   "metadata": {},
   "outputs": [
    {
     "name": "stdout",
     "output_type": "stream",
     "text": [
      "******************************\n",
      "Hello\n",
      "******************************\n"
     ]
    }
   ],
   "source": [
    "printer(\"Hello\", \"*\")"
   ]
  },
  {
   "cell_type": "code",
   "execution_count": 19,
   "id": "29eb24c5",
   "metadata": {},
   "outputs": [
    {
     "name": "stdout",
     "output_type": "stream",
     "text": [
      "&&&&&&&&&&&&&&&&&&&&&&&&&&&&&&\n",
      "Hello\n",
      "&&&&&&&&&&&&&&&&&&&&&&&&&&&&&&\n"
     ]
    }
   ],
   "source": [
    "printer(\"Hello\", \"&\")"
   ]
  },
  {
   "cell_type": "code",
   "execution_count": 24,
   "id": "92e18840",
   "metadata": {},
   "outputs": [],
   "source": [
    "def star(func):\n",
    "    def inner(*args, **kwargs):\n",
    "        print(\"*\" * 30)\n",
    "        func(*args, **kwargs)\n",
    "        print(\"*\" * 30)\n",
    "    return inner\n",
    "\n",
    "def percent(func):\n",
    "    def inner(*args, **kwargs):\n",
    "        print(\"%\" * 30)\n",
    "        func(*args, **kwargs)\n",
    "        print(\"%\" * 30)\n",
    "    return inner\n",
    "\n",
    "@star  # 아래의 함수가 func 로 대입 됨\n",
    "@percent # 다단계로도 삽입 가능\n",
    "def printer(msg):\n",
    "    print(msg)       "
   ]
  },
  {
   "cell_type": "code",
   "execution_count": 25,
   "id": "648f56c1",
   "metadata": {},
   "outputs": [
    {
     "name": "stdout",
     "output_type": "stream",
     "text": [
      "******************************\n",
      "%%%%%%%%%%%%%%%%%%%%%%%%%%%%%%\n",
      "Hello\n",
      "%%%%%%%%%%%%%%%%%%%%%%%%%%%%%%\n",
      "******************************\n"
     ]
    }
   ],
   "source": [
    "printer(\"Hello\")"
   ]
  },
  {
   "cell_type": "code",
   "execution_count": 40,
   "id": "521ad4b3",
   "metadata": {},
   "outputs": [],
   "source": [
    "def generate_power(exponent): # exponent에 2가 대입\n",
    "    def wrapper(f): # raise_two가 대입\n",
    "        def inner(*args):\n",
    "            result = f(*args)   # (n**2)\n",
    "            print(\">>>>>\", result) \n",
    "            return exponent ** result  # 2**(n**2)결국은 2^(n^2) 를 구하는 문제였음\n",
    "        return inner\n",
    "    return wrapper\n",
    "\n",
    "@generate_power(2) # \n",
    "def raise_two(n):\n",
    "    return n**2"
   ]
  },
  {
   "cell_type": "code",
   "execution_count": 41,
   "id": "4c2ade65",
   "metadata": {},
   "outputs": [
    {
     "name": "stdout",
     "output_type": "stream",
     "text": [
      ">>>>> 49\n",
      "562949953421312\n"
     ]
    }
   ],
   "source": [
    "print(raise_two(7))"
   ]
  },
  {
   "cell_type": "code",
   "execution_count": 36,
   "id": "7c738756",
   "metadata": {},
   "outputs": [
    {
     "data": {
      "text/plain": [
       "562949953421312"
      ]
     },
     "execution_count": 36,
     "metadata": {},
     "output_type": "execute_result"
    }
   ],
   "source": [
    "(2**7)**7"
   ]
  }
 ],
 "metadata": {
  "kernelspec": {
   "display_name": "Python 3 (ipykernel)",
   "language": "python",
   "name": "python3"
  },
  "language_info": {
   "codemirror_mode": {
    "name": "ipython",
    "version": 3
   },
   "file_extension": ".py",
   "mimetype": "text/x-python",
   "name": "python",
   "nbconvert_exporter": "python",
   "pygments_lexer": "ipython3",
   "version": "3.8.13"
  }
 },
 "nbformat": 4,
 "nbformat_minor": 5
}
