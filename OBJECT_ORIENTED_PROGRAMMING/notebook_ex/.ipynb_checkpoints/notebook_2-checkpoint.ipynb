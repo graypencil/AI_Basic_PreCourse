{
 "cells": [
  {
   "cell_type": "code",
   "execution_count": 18,
   "id": "e2a6f848",
   "metadata": {},
   "outputs": [],
   "source": [
    "from notebook_ex import Note\n",
    "from notebook_ex import NoteBook # from 파일명"
   ]
  },
  {
   "cell_type": "code",
   "execution_count": 19,
   "id": "19fe6047",
   "metadata": {},
   "outputs": [
    {
     "data": {
      "text/plain": [
       "<notebook_ex.NoteBook at 0x19ebf8ffd00>"
      ]
     },
     "execution_count": 19,
     "metadata": {},
     "output_type": "execute_result"
    }
   ],
   "source": [
    "my_notebook = NoteBook(\"파이썬 강의 노트\")\n",
    "my_notebook"
   ]
  },
  {
   "cell_type": "code",
   "execution_count": 20,
   "id": "f19228de",
   "metadata": {},
   "outputs": [
    {
     "data": {
      "text/plain": [
       "'파이썬 강의 노트'"
      ]
     },
     "execution_count": 20,
     "metadata": {},
     "output_type": "execute_result"
    }
   ],
   "source": [
    "my_notebook.title"
   ]
  },
  {
   "cell_type": "code",
   "execution_count": 21,
   "id": "2dd02b7d",
   "metadata": {},
   "outputs": [
    {
     "data": {
      "text/plain": [
       "<notebook_ex.Note at 0x19ebf6ae670>"
      ]
     },
     "execution_count": 21,
     "metadata": {},
     "output_type": "execute_result"
    }
   ],
   "source": [
    "new_note = Note(\"파이썬은 쉬워요\")\n",
    "new_note"
   ]
  },
  {
   "cell_type": "code",
   "execution_count": 22,
   "id": "e50ee90f",
   "metadata": {},
   "outputs": [
    {
     "name": "stdout",
     "output_type": "stream",
     "text": [
      "노트에 적힌 내용: 파이썬은 쉬워요\n"
     ]
    }
   ],
   "source": [
    "print(new_note)"
   ]
  },
  {
   "cell_type": "code",
   "execution_count": 23,
   "id": "24151ff1",
   "metadata": {},
   "outputs": [
    {
     "name": "stdout",
     "output_type": "stream",
     "text": [
      "노트에 적힌 내용: 파이썬 강의\n"
     ]
    }
   ],
   "source": [
    "new_note_2 = Note(\"파이썬 강의\")\n",
    "print(new_note_2)"
   ]
  },
  {
   "cell_type": "code",
   "execution_count": 24,
   "id": "2850fa5c",
   "metadata": {},
   "outputs": [
    {
     "data": {
      "text/plain": [
       "<notebook_ex.Note at 0x19ebf6a3ca0>"
      ]
     },
     "execution_count": 24,
     "metadata": {},
     "output_type": "execute_result"
    }
   ],
   "source": [
    "new_note_2"
   ]
  },
  {
   "cell_type": "code",
   "execution_count": 34,
   "id": "8df70199",
   "metadata": {},
   "outputs": [
    {
     "data": {
      "text/plain": [
       "{100: <notebook_ex.Note at 0x19ebf6a3ca0>,\n",
       " 2: <notebook_ex.Note at 0x19ebe5507c0>,\n",
       " 3: <notebook_ex.Note at 0x19ebf6ae670>}"
      ]
     },
     "execution_count": 34,
     "metadata": {},
     "output_type": "execute_result"
    }
   ],
   "source": [
    "my_notebook.notes"
   ]
  },
  {
   "cell_type": "code",
   "execution_count": 33,
   "id": "a6c9f306",
   "metadata": {},
   "outputs": [],
   "source": [
    "my_notebook.add_note(new_note)  # 페이지 추가하기"
   ]
  },
  {
   "cell_type": "code",
   "execution_count": 27,
   "id": "887326e7",
   "metadata": {},
   "outputs": [],
   "source": [
    "my_notebook.add_note(new_note_2, 100) # 특정한 페이지에 추가하기"
   ]
  },
  {
   "cell_type": "code",
   "execution_count": 30,
   "id": "e1a15ec0",
   "metadata": {},
   "outputs": [
    {
     "name": "stdout",
     "output_type": "stream",
     "text": [
      "노트에 적힌 내용: 파이썬 강의\n"
     ]
    }
   ],
   "source": [
    "print(my_notebook.notes[100])"
   ]
  },
  {
   "cell_type": "code",
   "execution_count": 31,
   "id": "9df37e53",
   "metadata": {},
   "outputs": [
    {
     "name": "stdout",
     "output_type": "stream",
     "text": [
      "노트에 적힌 내용: 안녕\n"
     ]
    }
   ],
   "source": [
    "my_notebook.notes[2] = Note(\"안녕\")\n",
    "print(my_notebook.notes[2])"
   ]
  },
  {
   "cell_type": "code",
   "execution_count": 35,
   "id": "d371f88e",
   "metadata": {},
   "outputs": [
    {
     "data": {
      "text/plain": [
       "3"
      ]
     },
     "execution_count": 35,
     "metadata": {},
     "output_type": "execute_result"
    }
   ],
   "source": [
    "my_notebook.get_number_of_pages()"
   ]
  }
 ],
 "metadata": {
  "kernelspec": {
   "display_name": "Python 3 (ipykernel)",
   "language": "python",
   "name": "python3"
  },
  "language_info": {
   "codemirror_mode": {
    "name": "ipython",
    "version": 3
   },
   "file_extension": ".py",
   "mimetype": "text/x-python",
   "name": "python",
   "nbconvert_exporter": "python",
   "pygments_lexer": "ipython3",
   "version": "3.8.13"
  }
 },
 "nbformat": 4,
 "nbformat_minor": 5
}
