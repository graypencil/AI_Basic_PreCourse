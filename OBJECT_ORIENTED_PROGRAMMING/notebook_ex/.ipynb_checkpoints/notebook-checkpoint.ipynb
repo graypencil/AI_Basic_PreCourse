{
 "cells": [
  {
   "cell_type": "markdown",
   "id": "5930f780",
   "metadata": {},
   "source": [
    "# Note, Notebook"
   ]
  },
  {
   "cell_type": "code",
   "execution_count": null,
   "id": "390406b7",
   "metadata": {},
   "outputs": [],
   "source": [
    "#초기에 짠 코드 (구성을 먼저 짜보자)"
   ]
  },
  {
   "cell_type": "code",
   "execution_count": null,
   "id": "d503f214",
   "metadata": {},
   "outputs": [],
   "source": [
    "# Note \n",
    "#  - value: title, note, page, content\n",
    "#  - method : insert, delete, remove\n",
    "# Notebook\n",
    "#  - value: title, page_number, note_number\n",
    "#  - method : count, add, remove"
   ]
  },
  {
   "cell_type": "code",
   "execution_count": 2,
   "id": "7b6c1550",
   "metadata": {},
   "outputs": [],
   "source": [
    "# class Note():\n",
    "    \n",
    "#     def __init__ (self, note, content):\n",
    "#         self.page = page\n",
    "#         self.content = content\n",
    "         \n",
    "#         self.remove\n",
    "    \n",
    "#     def insert_note(self, new_content):\n",
    "#         if(self.page < 300):\n",
    "#             self.content += new_content\n",
    "#             self.page += self.page\n",
    "#         else : \n",
    "#             print(\"write on the next note book, please\")\n",
    "    \n",
    "#     def delete_note(self, new_content):\n",
    "#         self.content -= new_content\n",
    "#         self.page -= self.page\n",
    "    \n",
    "    \n",
    "        \n",
    "#     def __str__(self):\n",
    "#         return \"Hellow, My name is %s. My back number is %d\" % \\\n",
    "#                 (self.name, self.back_number)\n",
    "        \n",
    "#     def __add__(self, content):\n",
    "#         return self.name + other.name"
   ]
  },
  {
   "cell_type": "code",
   "execution_count": 3,
   "id": "225b7acb",
   "metadata": {},
   "outputs": [],
   "source": [
    "# class Notebook():\n",
    "    \n",
    "#     def __init__(self, note):\n",
    "#         self.note = note\n",
    "        \n",
    "#     def __add__(self, note):\n",
    "#         return self.note + new_note"
   ]
  },
  {
   "cell_type": "code",
   "execution_count": null,
   "id": "76111009",
   "metadata": {},
   "outputs": [],
   "source": [
    "# 선생님 답안"
   ]
  },
  {
   "cell_type": "code",
   "execution_count": 1,
   "id": "1c389d70",
   "metadata": {},
   "outputs": [],
   "source": [
    "class Note(object):\n",
    "    def __init__(self, content = None):\n",
    "        self.content = content\n",
    "        \n",
    "    def write_content(self, content):\n",
    "        self.content = content\n",
    "        \n",
    "    def remove_all(self):\n",
    "        self.content = \"\"\n",
    "        \n",
    "    def __add__(self, other):\n",
    "        return self.content + other.content\n",
    "    \n",
    "    def __str__(self):\n",
    "        return {\"노트에 메모된 내용: {0}\".format(self.content)"
   ]
  },
  {
   "cell_type": "code",
   "execution_count": 2,
   "id": "4cd413c5",
   "metadata": {},
   "outputs": [],
   "source": [
    "class NoteBook(object):\n",
    "    def __init__(self, title):\n",
    "        self.title = title\n",
    "        self.page_number = 1\n",
    "        self.notes = {}\n",
    "        \n",
    "    def add_note(self, note, page = 0):\n",
    "        if self.page_number < 300:\n",
    "            if page == 0:\n",
    "                self.notes[self.page_number] = note\n",
    "                self.page_number += 1\n",
    "            else:\n",
    "                self.notes = {page : note}\n",
    "                self.page_number += 1\n",
    "        else:\n",
    "            print(\"Page가 모두 채워졌습니다.\")\n",
    "                \n",
    "    def remove_note(self, page_number):\n",
    "        if page_number in self.notes.keys():\n",
    "            return self.notes.pop(page_number)\n",
    "        else:\n",
    "            print(\"해당 페이지는 존재하지 않습니다.\")\n",
    "            \n",
    "    def get_number_of_pages(self):\n",
    "        return len(self.notes.keys())"
   ]
  }
 ],
 "metadata": {
  "kernelspec": {
   "display_name": "Python 3 (ipykernel)",
   "language": "python",
   "name": "python3"
  },
  "language_info": {
   "codemirror_mode": {
    "name": "ipython",
    "version": 3
   },
   "file_extension": ".py",
   "mimetype": "text/x-python",
   "name": "python",
   "nbconvert_exporter": "python",
   "pygments_lexer": "ipython3",
   "version": "3.8.13"
  }
 },
 "nbformat": 4,
 "nbformat_minor": 5
}
