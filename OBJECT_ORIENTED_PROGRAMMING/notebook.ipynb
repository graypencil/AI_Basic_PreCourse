{
 "cells": [
  {
   "cell_type": "markdown",
   "id": "5930f780",
   "metadata": {},
   "source": [
    "# Note 정리 프로그램"
   ]
  },
  {
   "cell_type": "code",
   "execution_count": null,
   "id": "7b6c1550",
   "metadata": {},
   "outputs": [],
   "source": [
    "class Notebook():\n",
    "    \n",
    "    def __init__ (self, note, content):\n",
    "        self.page = page\n",
    "        self.content = conten\n",
    " \n",
    "        self.remove\n",
    "        \n",
    "        \n",
    "        \n",
    "        \n",
    "    def __str__(self):\n",
    "        return \"Hellow, My name is %s. My back number is %d\" % \\\n",
    "                (self.name, self.back_number)\n",
    "        \n",
    "    def __add__(self, other):\n",
    "        return self.name + other.name"
   ]
  },
  {
   "cell_type": "code",
   "execution_count": null,
   "id": "225b7acb",
   "metadata": {},
   "outputs": [],
   "source": [
    "## 아직 미완성임"
   ]
  },
  {
   "cell_type": "code",
   "execution_count": null,
   "id": "9a3fb39e",
   "metadata": {},
   "outputs": [],
   "source": []
  },
  {
   "cell_type": "code",
   "execution_count": null,
   "id": "76111009",
   "metadata": {},
   "outputs": [],
   "source": []
  },
  {
   "cell_type": "code",
   "execution_count": null,
   "id": "1c389d70",
   "metadata": {},
   "outputs": [],
   "source": []
  },
  {
   "cell_type": "code",
   "execution_count": null,
   "id": "4cd413c5",
   "metadata": {},
   "outputs": [],
   "source": []
  }
 ],
 "metadata": {
  "kernelspec": {
   "display_name": "Python 3 (ipykernel)",
   "language": "python",
   "name": "python3"
  },
  "language_info": {
   "codemirror_mode": {
    "name": "ipython",
    "version": 3
   },
   "file_extension": ".py",
   "mimetype": "text/x-python",
   "name": "python",
   "nbconvert_exporter": "python",
   "pygments_lexer": "ipython3",
   "version": "3.8.13"
  }
 },
 "nbformat": 4,
 "nbformat_minor": 5
}
