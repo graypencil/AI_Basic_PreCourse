{
 "cells": [
  {
   "cell_type": "code",
   "execution_count": 2,
   "id": "e2a6f848",
   "metadata": {},
   "outputs": [
    {
     "ename": "ImportError",
     "evalue": "cannot import name 'Note' from 'notebook' (C:\\Users\\heago\\miniconda3\\lib\\site-packages\\notebook\\__init__.py)",
     "output_type": "error",
     "traceback": [
      "\u001b[1;31m---------------------------------------------------------------------------\u001b[0m",
      "\u001b[1;31mImportError\u001b[0m                               Traceback (most recent call last)",
      "Input \u001b[1;32mIn [2]\u001b[0m, in \u001b[0;36m<cell line: 1>\u001b[1;34m()\u001b[0m\n\u001b[1;32m----> 1\u001b[0m \u001b[38;5;28;01mfrom\u001b[39;00m \u001b[38;5;21;01mnotebook\u001b[39;00m \u001b[38;5;28;01mimport\u001b[39;00m Note\n\u001b[0;32m      2\u001b[0m \u001b[38;5;28;01mfrom\u001b[39;00m \u001b[38;5;21;01mnotebook\u001b[39;00m \u001b[38;5;28;01mimport\u001b[39;00m NoteBook\n",
      "\u001b[1;31mImportError\u001b[0m: cannot import name 'Note' from 'notebook' (C:\\Users\\heago\\miniconda3\\lib\\site-packages\\notebook\\__init__.py)"
     ]
    }
   ],
   "source": [
    "from notebook import Note\n",
    "from notebook import NoteBook # from 파일명"
   ]
  },
  {
   "cell_type": "code",
   "execution_count": 3,
   "id": "19fe6047",
   "metadata": {},
   "outputs": [
    {
     "ename": "NameError",
     "evalue": "name 'NoteBook' is not defined",
     "output_type": "error",
     "traceback": [
      "\u001b[1;31m---------------------------------------------------------------------------\u001b[0m",
      "\u001b[1;31mNameError\u001b[0m                                 Traceback (most recent call last)",
      "Input \u001b[1;32mIn [3]\u001b[0m, in \u001b[0;36m<cell line: 1>\u001b[1;34m()\u001b[0m\n\u001b[1;32m----> 1\u001b[0m my_notebook \u001b[38;5;241m=\u001b[39m \u001b[43mNoteBook\u001b[49m(\u001b[38;5;124m\"\u001b[39m\u001b[38;5;124m파이썬 메모\u001b[39m\u001b[38;5;124m\"\u001b[39m)\n\u001b[0;32m      2\u001b[0m my_notebook\n",
      "\u001b[1;31mNameError\u001b[0m: name 'NoteBook' is not defined"
     ]
    }
   ],
   "source": [
    "my_notebook = NoteBook(\"파이썬 메모\")\n",
    "my_notebook"
   ]
  },
  {
   "cell_type": "code",
   "execution_count": null,
   "id": "f19228de",
   "metadata": {},
   "outputs": [],
   "source": [
    "my_notebook.title"
   ]
  },
  {
   "cell_type": "code",
   "execution_count": null,
   "id": "2dd02b7d",
   "metadata": {},
   "outputs": [],
   "source": [
    "new_note = Note(\"파이썬은 재밌어요\")\n",
    "print(new_note)"
   ]
  },
  {
   "cell_type": "code",
   "execution_count": null,
   "id": "e50ee90f",
   "metadata": {},
   "outputs": [],
   "source": [
    "print(new_note)"
   ]
  },
  {
   "cell_type": "code",
   "execution_count": null,
   "id": "24151ff1",
   "metadata": {},
   "outputs": [],
   "source": [
    "new_note_2 = Note(\"파이썬 강의\")\n",
    "print(new_note)"
   ]
  },
  {
   "cell_type": "code",
   "execution_count": null,
   "id": "2850fa5c",
   "metadata": {},
   "outputs": [],
   "source": [
    "new_note_2"
   ]
  },
  {
   "cell_type": "code",
   "execution_count": null,
   "id": "887326e7",
   "metadata": {},
   "outputs": [],
   "source": [
    "my_notebook.add_note(new_note)  # 페이지 추가하기\n",
    "my_notebook.add_note(new_note_2, 100) # 특정한 페이지에 추가하기"
   ]
  },
  {
   "cell_type": "code",
   "execution_count": null,
   "id": "e1a15ec0",
   "metadata": {},
   "outputs": [],
   "source": [
    "print(my_notebook.notes[1])"
   ]
  },
  {
   "cell_type": "code",
   "execution_count": null,
   "id": "d371f88e",
   "metadata": {},
   "outputs": [],
   "source": [
    "my_notebook.get_number_of_pages()"
   ]
  }
 ],
 "metadata": {
  "kernelspec": {
   "display_name": "Python 3 (ipykernel)",
   "language": "python",
   "name": "python3"
  },
  "language_info": {
   "codemirror_mode": {
    "name": "ipython",
    "version": 3
   },
   "file_extension": ".py",
   "mimetype": "text/x-python",
   "name": "python",
   "nbconvert_exporter": "python",
   "pygments_lexer": "ipython3",
   "version": "3.8.13"
  }
 },
 "nbformat": 4,
 "nbformat_minor": 5
}
