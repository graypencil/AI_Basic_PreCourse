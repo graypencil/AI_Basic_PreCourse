{
 "cells": [
  {
   "cell_type": "markdown",
   "id": "535dc3a0",
   "metadata": {},
   "source": [
    "# Keyword arguments"
   ]
  },
  {
   "cell_type": "code",
   "execution_count": 1,
   "id": "ef98628b",
   "metadata": {},
   "outputs": [
    {
     "name": "stdout",
     "output_type": "stream",
     "text": [
      "Hello TEAMLAB, My name is Sungchul\n"
     ]
    }
   ],
   "source": [
    "def print_something(my_name, your_name, third_name):\n",
    "    print(\"Hello {0}, My name is {1}\".format(your_name, my_name))\n",
    "    \n",
    "print_something(third_name = \"abc\", my_name = \"Sungchul\", your_name = \"TEAMLAB\") # 순서대로 넣지 않을 경우 키워드 지정할 것"
   ]
  },
  {
   "cell_type": "code",
   "execution_count": 2,
   "id": "7e3d3643",
   "metadata": {},
   "outputs": [
    {
     "name": "stdout",
     "output_type": "stream",
     "text": [
      "Hello Sungchul, My name is abc\n"
     ]
    }
   ],
   "source": [
    "print_something(\"abc\", \"Sungchul\", \"TEAMLAB\")"
   ]
  },
  {
   "cell_type": "markdown",
   "id": "27707a18",
   "metadata": {},
   "source": [
    "# Default arguments"
   ]
  },
  {
   "cell_type": "code",
   "execution_count": 4,
   "id": "a2a447e8",
   "metadata": {},
   "outputs": [
    {
     "name": "stdout",
     "output_type": "stream",
     "text": [
      "Hello TEAMLAB, My name is Sungchul\n"
     ]
    }
   ],
   "source": [
    "def print_something_2(my_name, your_name = \"TEAMLAB\"):\n",
    "    print(\"Hello {0}, My name is {1}\".format(your_name, my_name))\n",
    "    \n",
    "print_something_2(\"Sungchul\")"
   ]
  },
  {
   "cell_type": "code",
   "execution_count": 5,
   "id": "391ceaf2",
   "metadata": {},
   "outputs": [
    {
     "name": "stdout",
     "output_type": "stream",
     "text": [
      "Hello NAVER, My name is Sungchul\n"
     ]
    }
   ],
   "source": [
    "def print_something_2(my_name, your_name = \"TEAMLAB\"):\n",
    "    print(\"Hello {0}, My name is {1}\".format(your_name, my_name))\n",
    "    \n",
    "print_something_2(\"Sungchul\", \"NAVER\")"
   ]
  },
  {
   "cell_type": "markdown",
   "id": "c008f4a1",
   "metadata": {},
   "source": [
    "# Variable-length asterisk"
   ]
  },
  {
   "cell_type": "code",
   "execution_count": 7,
   "id": "5008a79f",
   "metadata": {},
   "outputs": [
    {
     "name": "stdout",
     "output_type": "stream",
     "text": [
      "[3, 4, 5]\n",
      "<class 'tuple'>\n"
     ]
    },
    {
     "data": {
      "text/plain": [
       "15"
      ]
     },
     "execution_count": 7,
     "metadata": {},
     "output_type": "execute_result"
    }
   ],
   "source": [
    "def asterisk_test(a, b, *args):\n",
    "    print(list(args))\n",
    "    print(type(args))\n",
    "    return a+b+sum(args)\n",
    "\n",
    "asterisk_test(1,2,3,4,5)"
   ]
  },
  {
   "cell_type": "code",
   "execution_count": 8,
   "id": "73eb63d3",
   "metadata": {},
   "outputs": [
    {
     "data": {
      "text/plain": [
       "(1, 2, 3)"
      ]
     },
     "execution_count": 8,
     "metadata": {},
     "output_type": "execute_result"
    }
   ],
   "source": [
    "def asterisk_test(*args):\n",
    "    x, y, z = args\n",
    "    return x, y, z\n",
    "\n",
    "asterisk_test(1,2,3)"
   ]
  },
  {
   "cell_type": "code",
   "execution_count": null,
   "id": "be29c17b",
   "metadata": {},
   "outputs": [],
   "source": [
    "# Keyword variable-length"
   ]
  },
  {
   "cell_type": "code",
   "execution_count": 11,
   "id": "2513eae3",
   "metadata": {},
   "outputs": [
    {
     "name": "stdout",
     "output_type": "stream",
     "text": [
      "{'first': 3, 'second': 4, 'third': 5}\n",
      "<class 'dict'>\n"
     ]
    }
   ],
   "source": [
    "def kwargs_test_1(**kwargs):\n",
    "    print(kwargs)\n",
    "    print(type(kwargs))\n",
    "    \n",
    "kwargs_test_1(first = 3, second = 4, third = 5) # dict type으로 들어감. 머신러닝에서 많이 사용"
   ]
  },
  {
   "cell_type": "code",
   "execution_count": 14,
   "id": "2f063612",
   "metadata": {},
   "outputs": [
    {
     "ename": "SyntaxError",
     "evalue": "positional argument follows keyword argument (3166880899.py, line 7)",
     "output_type": "error",
     "traceback": [
      "\u001b[1;36m  Input \u001b[1;32mIn [14]\u001b[1;36m\u001b[0m\n\u001b[1;33m    kwargs_test_3(one=10, two=30, 3,5,6,7,8, first=3, second=4, third=5) # 이 경우 가변인자는 인정 안 됨 (에러남)\u001b[0m\n\u001b[1;37m                                  ^\u001b[0m\n\u001b[1;31mSyntaxError\u001b[0m\u001b[1;31m:\u001b[0m positional argument follows keyword argument\n"
     ]
    }
   ],
   "source": [
    "def kwargs_test_3(one, two, *args, **kwargs): # 파라미터, 가변인자, keyword 가변인자, 순으로 넣을 것)\n",
    "    print(one+two+sum(args))\n",
    "    print(args)\n",
    "    print(kwargs)\n",
    "    \n",
    "kwargs_test_3(10, 30, 3,5,6,7,8, first=3, second=4, third=5) # 순서를 무시할 경우 error가 남!\n",
    "kwargs_test_3(one=10, two=30, 3,5,6,7,8, first=3, second=4, third=5) # 이 경우 가변인자는 인정 안 됨 (에러남)\n",
    "kwargs_test_3(one=10, two=30, first=3, second=4, third=5) # *args(가변인자 값) 안 넣어도 순서만 맞다면 에러 안 남"
   ]
  },
  {
   "cell_type": "code",
   "execution_count": null,
   "id": "a60a8901",
   "metadata": {},
   "outputs": [],
   "source": []
  },
  {
   "cell_type": "code",
   "execution_count": null,
   "id": "4a20be0e",
   "metadata": {},
   "outputs": [],
   "source": []
  },
  {
   "cell_type": "code",
   "execution_count": null,
   "id": "b6a8903a",
   "metadata": {},
   "outputs": [],
   "source": []
  }
 ],
 "metadata": {
  "kernelspec": {
   "display_name": "Python 3 (ipykernel)",
   "language": "python",
   "name": "python3"
  },
  "language_info": {
   "codemirror_mode": {
    "name": "ipython",
    "version": 3
   },
   "file_extension": ".py",
   "mimetype": "text/x-python",
   "name": "python",
   "nbconvert_exporter": "python",
   "pygments_lexer": "ipython3",
   "version": "3.8.13"
  }
 },
 "nbformat": 4,
 "nbformat_minor": 5
}
