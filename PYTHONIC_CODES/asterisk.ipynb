{
 "cells": [
  {
   "cell_type": "markdown",
   "id": "9433cc66",
   "metadata": {},
   "source": [
    "# asterisk"
   ]
  },
  {
   "cell_type": "code",
   "execution_count": 2,
   "id": "f806d421",
   "metadata": {},
   "outputs": [
    {
     "name": "stdout",
     "output_type": "stream",
     "text": [
      "1 2 3 4 5 6\n",
      "1 (2, 3, 4, 5, 6)\n",
      "<class 'tuple'>\n"
     ]
    }
   ],
   "source": [
    "def asterisk_test(a, *args):\n",
    "    print(a, *args)\n",
    "    print(a, args)\n",
    "    print(type(args))\n",
    "    \n",
    "test = (2,3,4,5,6) # tuple 형태\n",
    "asterisk_test(1, *test) # <- unpacking 형태로 asterisk_test 함수에 들어가게 됨"
   ]
  },
  {
   "cell_type": "code",
   "execution_count": 3,
   "id": "16ac5921",
   "metadata": {},
   "outputs": [
    {
     "name": "stdout",
     "output_type": "stream",
     "text": [
      "1 (2, 3, 4, 5, 6)\n",
      "1 ((2, 3, 4, 5, 6),)\n",
      "<class 'tuple'>\n"
     ]
    }
   ],
   "source": [
    "asterisk_test(1, test) # <- tuple 형태로 들어가게 됨"
   ]
  },
  {
   "cell_type": "code",
   "execution_count": 5,
   "id": "bbf18be5",
   "metadata": {},
   "outputs": [
    {
     "name": "stdout",
     "output_type": "stream",
     "text": [
      "1 2 3 4\n",
      "['1', '2', '3', '4']\n",
      "1 2 3 4\n"
     ]
    }
   ],
   "source": [
    "print(\"1\",\"2\",\"3\",\"4\")  # 4개의 값이 들어가게 됨\n",
    "print([\"1\",\"2\",\"3\",\"4\"]) #1개의 값이 들어가게 됨\n",
    "print(*[\"1\",\"2\",\"3\",\"4\"]) # 리스트 unpaking 되서 개의 값이 들어가게 됨"
   ]
  },
  {
   "cell_type": "code",
   "execution_count": 6,
   "id": "92d8c75e",
   "metadata": {},
   "outputs": [
    {
     "name": "stdout",
     "output_type": "stream",
     "text": [
      "[1, 2] [3, 4] [5, 6]\n",
      "[1, 2] [3, 4] [5, 6]\n"
     ]
    }
   ],
   "source": [
    "a, b, c = ([1,2],[3,4],[5,6])\n",
    "print(a, b, c)\n",
    "\n",
    "data = ([1,2],[3,4],[5,6])\n",
    "print(*data)"
   ]
  },
  {
   "cell_type": "code",
   "execution_count": 7,
   "id": "d72af59c",
   "metadata": {},
   "outputs": [
    {
     "name": "stdout",
     "output_type": "stream",
     "text": [
      "10 1 2 3\n"
     ]
    }
   ],
   "source": [
    "def asterisk_test(a, b, c, d):\n",
    "    print(a, b, c, d)\n",
    "data = {\"b\":1, \"c\":2, \"d\":3}\n",
    "asterisk_test(10, **data)"
   ]
  },
  {
   "cell_type": "code",
   "execution_count": 10,
   "id": "c02a72ad",
   "metadata": {},
   "outputs": [
    {
     "name": "stdout",
     "output_type": "stream",
     "text": [
      "(1, 3, 5)\n",
      "(2, 4, 6)\n"
     ]
    }
   ],
   "source": [
    "for data in zip(*([1,2], [3,4], [5,6])):\n",
    "    print(data)"
   ]
  },
  {
   "cell_type": "markdown",
   "id": "809156aa",
   "metadata": {},
   "source": [
    "# with zip"
   ]
  },
  {
   "cell_type": "code",
   "execution_count": 15,
   "id": "42e4cb6b",
   "metadata": {},
   "outputs": [
    {
     "data": {
      "text/plain": [
       "([1, 2], [3, 4], [5, 6], [5, 6], [5, 6])"
      ]
     },
     "execution_count": 15,
     "metadata": {},
     "output_type": "execute_result"
    }
   ],
   "source": [
    "ex = ([1,2], [3,4], [5,6], [5,6], [5,6])\n",
    "ex"
   ]
  },
  {
   "cell_type": "code",
   "execution_count": 16,
   "id": "4ccdd7a3",
   "metadata": {},
   "outputs": [
    {
     "name": "stdout",
     "output_type": "stream",
     "text": [
      "([1, 2],)\n",
      "([3, 4],)\n",
      "([5, 6],)\n",
      "([5, 6],)\n",
      "([5, 6],)\n"
     ]
    }
   ],
   "source": [
    "for value in zip(ex):\n",
    "    print(value)"
   ]
  },
  {
   "cell_type": "code",
   "execution_count": 17,
   "id": "53e1d52b",
   "metadata": {},
   "outputs": [
    {
     "name": "stdout",
     "output_type": "stream",
     "text": [
      "(1, 3, 5, 5, 5)\n",
      "(2, 4, 6, 6, 6)\n"
     ]
    }
   ],
   "source": [
    "for value in zip(*ex): # unpaking 이 일어나서 배열문제 풀 때도 편하게 이용가능\n",
    "    print(value)"
   ]
  },
  {
   "cell_type": "code",
   "execution_count": 18,
   "id": "77cc5ea1",
   "metadata": {},
   "outputs": [
    {
     "name": "stdout",
     "output_type": "stream",
     "text": [
      "(1, 3, 5)\n",
      "(2, 4, 6)\n"
     ]
    }
   ],
   "source": [
    "ex1 = ([1,2], [3,4], [5,6])\n",
    "a, b, c = ex1\n",
    "for value in zip(a,b,c):\n",
    "    print(value)"
   ]
  },
  {
   "cell_type": "code",
   "execution_count": 20,
   "id": "6f6f482c",
   "metadata": {},
   "outputs": [
    {
     "name": "stdout",
     "output_type": "stream",
     "text": [
      "(1, 3, 5)\n",
      "(2, 4, 6)\n"
     ]
    }
   ],
   "source": [
    "for value in zip(*ex1):\n",
    "    print(value)"
   ]
  }
 ],
 "metadata": {
  "kernelspec": {
   "display_name": "Python 3 (ipykernel)",
   "language": "python",
   "name": "python3"
  },
  "language_info": {
   "codemirror_mode": {
    "name": "ipython",
    "version": 3
   },
   "file_extension": ".py",
   "mimetype": "text/x-python",
   "name": "python",
   "nbconvert_exporter": "python",
   "pygments_lexer": "ipython3",
   "version": "3.8.13"
  }
 },
 "nbformat": 4,
 "nbformat_minor": 5
}
