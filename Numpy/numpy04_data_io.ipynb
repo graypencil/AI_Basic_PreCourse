{
 "cells": [
  {
   "cell_type": "markdown",
   "id": "8e5bf05d",
   "metadata": {},
   "source": [
    "# load text"
   ]
  },
  {
   "cell_type": "code",
   "execution_count": null,
   "id": "ad92da73",
   "metadata": {},
   "outputs": [],
   "source": [
    "path = '주소'\n",
    "a = np.loadtxt(\"path\")\n",
    "a[:10]"
   ]
  },
  {
   "cell_type": "code",
   "execution_count": null,
   "id": "cec8d57a",
   "metadata": {},
   "outputs": [],
   "source": [
    "a_int = a.astype(int)\n",
    "a_int[:3]"
   ]
  },
  {
   "cell_type": "code",
   "execution_count": null,
   "id": "eb03985b",
   "metadata": {},
   "outputs": [],
   "source": [
    "np.savetxt('int_data.csv', a_int, delimiter= ',')"
   ]
  },
  {
   "cell_type": "markdown",
   "id": "5d55b4da",
   "metadata": {},
   "source": [
    "# numpy object -npy"
   ]
  },
  {
   "cell_type": "code",
   "execution_count": null,
   "id": "030b00b7",
   "metadata": {},
   "outputs": [],
   "source": [
    "np.save('npy_test', arr=a_int)"
   ]
  },
  {
   "cell_type": "code",
   "execution_count": null,
   "id": "e676a233",
   "metadata": {},
   "outputs": [],
   "source": [
    "npy_array = np.load(file='npy_test.npy')\n",
    "npy_array[:3]"
   ]
  }
 ],
 "metadata": {
  "kernelspec": {
   "display_name": "Python 3 (ipykernel)",
   "language": "python",
   "name": "python3"
  },
  "language_info": {
   "codemirror_mode": {
    "name": "ipython",
    "version": 3
   },
   "file_extension": ".py",
   "mimetype": "text/x-python",
   "name": "python",
   "nbconvert_exporter": "python",
   "pygments_lexer": "ipython3",
   "version": "3.9.12"
  }
 },
 "nbformat": 4,
 "nbformat_minor": 5
}
