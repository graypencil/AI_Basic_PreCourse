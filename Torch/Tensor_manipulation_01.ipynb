{
  "nbformat": 4,
  "nbformat_minor": 0,
  "metadata": {
    "colab": {
      "provenance": []
    },
    "kernelspec": {
      "name": "python3",
      "display_name": "Python 3"
    },
    "language_info": {
      "name": "python"
    }
  },
  "cells": [
    {
      "cell_type": "markdown",
      "source": [
        "# PyTorch Basic Tensor Manipulation\n",
        "- Vector, Matrix, Tensor\n",
        "- NumPy Review\n",
        "- PyTorch Tensor Allocation\n",
        "- Matrix Multiplication\n",
        "- Other Basic Ops"
      ],
      "metadata": {
        "id": "g1FHED9t3Los"
      }
    },
    {
      "cell_type": "code",
      "execution_count": null,
      "metadata": {
        "id": "H6LAELoq3E0D"
      },
      "outputs": [],
      "source": [
        "import numpy as np\n",
        "import torch"
      ]
    },
    {
      "cell_type": "markdown",
      "source": [
        "1D Array with NumPy"
      ],
      "metadata": {
        "id": "IzxeEDxm-3PU"
      }
    },
    {
      "cell_type": "code",
      "source": [
        "t = np.array([0.,1.,2.,3.,4.,5.,6.])\n",
        "print(t)"
      ],
      "metadata": {
        "colab": {
          "base_uri": "https://localhost:8080/"
        },
        "id": "2g56ZrWL-5ez",
        "outputId": "71050d9e-9c82-4053-943b-e4109ac19144"
      },
      "execution_count": null,
      "outputs": [
        {
          "output_type": "stream",
          "name": "stdout",
          "text": [
            "[0. 1. 2. 3. 4. 5. 6.]\n"
          ]
        }
      ]
    },
    {
      "cell_type": "code",
      "source": [
        "print(\"Rank of t:\", t.ndim)\n",
        "print(\"Shape of t:\", t.shape)"
      ],
      "metadata": {
        "id": "dc-TtilB--rk",
        "outputId": "bad7ee1b-5940-4242-c6b0-9c7a38a01e5d",
        "colab": {
          "base_uri": "https://localhost:8080/"
        }
      },
      "execution_count": null,
      "outputs": [
        {
          "output_type": "stream",
          "name": "stdout",
          "text": [
            "Rank of t: 1\n",
            "Shape of t: (7,)\n"
          ]
        }
      ]
    }
  ]
}