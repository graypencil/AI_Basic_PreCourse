{
 "cells": [
  {
   "cell_type": "markdown",
   "id": "6bb0a486",
   "metadata": {},
   "source": [
    "# Maximum Likelihood Estimation (MLE)\n",
    "- likelihood (가능도, 우도) \n",
    "- 최대 가능도 추정 / 최대 우도 추정"
   ]
  },
  {
   "cell_type": "markdown",
   "id": "848a3314",
   "metadata": {},
   "source": [
    "$K \\sim B(n,\\theta)  $ <br><br>\n",
    "$ P(K = k) = \\binom{n}{k}\\theta^{k}(1-\\theta)^{n-k} $ <br><br>\n",
    "         $ = \\frac{n!}{k!(n-k)!} \\cdot\\theta^{k}(1-\\theta)^{n-k}$ <br><br>\n",
    "- observation 을 가장 잘 나타내는 $\\theta$ 를 찾아내는 과정"
   ]
  },
  {
   "cell_type": "markdown",
   "id": "763906a9",
   "metadata": {},
   "source": [
    "# Optimization via Gradient Descent"
   ]
  },
  {
   "cell_type": "markdown",
   "id": "3344a688",
   "metadata": {},
   "source": [
    "# Overfitting and Regurlarization"
   ]
  },
  {
   "cell_type": "code",
   "execution_count": null,
   "id": "d8a6648a",
   "metadata": {},
   "outputs": [],
   "source": []
  },
  {
   "cell_type": "markdown",
   "id": "783f8b5b",
   "metadata": {},
   "source": [
    "# Training and Test Dataset"
   ]
  },
  {
   "cell_type": "markdown",
   "id": "e77f6c32",
   "metadata": {},
   "source": [
    "# Learing Rate"
   ]
  },
  {
   "cell_type": "markdown",
   "id": "8777c960",
   "metadata": {},
   "source": [
    "# Data Processing"
   ]
  },
  {
   "cell_type": "code",
   "execution_count": null,
   "id": "2744731e",
   "metadata": {},
   "outputs": [],
   "source": []
  },
  {
   "cell_type": "code",
   "execution_count": null,
   "id": "e9ef7ab9",
   "metadata": {},
   "outputs": [],
   "source": []
  },
  {
   "cell_type": "code",
   "execution_count": null,
   "id": "022202cc",
   "metadata": {},
   "outputs": [],
   "source": []
  },
  {
   "cell_type": "code",
   "execution_count": null,
   "id": "d899cdc9",
   "metadata": {},
   "outputs": [],
   "source": []
  },
  {
   "cell_type": "code",
   "execution_count": null,
   "id": "26d0fb7b",
   "metadata": {},
   "outputs": [],
   "source": []
  },
  {
   "cell_type": "code",
   "execution_count": null,
   "id": "1f420c8e",
   "metadata": {},
   "outputs": [],
   "source": []
  },
  {
   "cell_type": "code",
   "execution_count": null,
   "id": "710dae68",
   "metadata": {},
   "outputs": [],
   "source": []
  },
  {
   "cell_type": "code",
   "execution_count": null,
   "id": "c1a920cd",
   "metadata": {},
   "outputs": [],
   "source": []
  },
  {
   "cell_type": "code",
   "execution_count": null,
   "id": "bafa5ae1",
   "metadata": {},
   "outputs": [],
   "source": []
  },
  {
   "cell_type": "code",
   "execution_count": null,
   "id": "91da6208",
   "metadata": {},
   "outputs": [],
   "source": []
  },
  {
   "cell_type": "markdown",
   "id": "62cef5b2",
   "metadata": {},
   "source": [
    "# 5주차 퀴즈 관련 풀이"
   ]
  },
  {
   "cell_type": "code",
   "execution_count": 3,
   "id": "7b94dd4f",
   "metadata": {},
   "outputs": [
    {
     "name": "stdout",
     "output_type": "stream",
     "text": [
      "tensor([[1., 2., 3.],\n",
      "        [4., 5., 6.],\n",
      "        [7., 8., 9.]]) torch.Size([3, 3])\n"
     ]
    }
   ],
   "source": [
    "import torch\n",
    "torch_tensor = torch.FloatTensor([[[1],[2],[3]],[[4],[5],[6]], [[7],[8],[9]]])\n",
    "print(torch_tensor.squeeze(), torch_tensor.squeeze().shape)"
   ]
  },
  {
   "cell_type": "code",
   "execution_count": 4,
   "id": "dc315120",
   "metadata": {},
   "outputs": [
    {
     "name": "stdout",
     "output_type": "stream",
     "text": [
      "tensor([[5., 6., 7.],\n",
      "        [6., 7., 8.],\n",
      "        [7., 8., 9.]])\n"
     ]
    }
   ],
   "source": [
    "torch_t1 = torch.FloatTensor([1,2,3])\n",
    "torch_t2 = torch.FloatTensor([[4],[5],[6]])\n",
    "print(torch_t1+torch_t2)"
   ]
  },
  {
   "cell_type": "code",
   "execution_count": 5,
   "id": "705ea14a",
   "metadata": {},
   "outputs": [
    {
     "name": "stdout",
     "output_type": "stream",
     "text": [
      "tensor([[1., 2.],\n",
      "        [3., 4.],\n",
      "        [5., 6.],\n",
      "        [7., 8.]])\n"
     ]
    }
   ],
   "source": [
    "torch_tensor = torch.FloatTensor([[1,2,3,4],[5,6,7,8]])\n",
    "torch_tensor = torch_tensor.view([-1,2])\n",
    "print(torch_tensor)"
   ]
  },
  {
   "cell_type": "code",
   "execution_count": 7,
   "id": "2e78277d",
   "metadata": {},
   "outputs": [
    {
     "name": "stdout",
     "output_type": "stream",
     "text": [
      "tensor([[1., 2., 3., 4.],\n",
      "        [5., 6., 7., 8.]])\n"
     ]
    }
   ],
   "source": [
    "torch_tensor1 = torch.FloatTensor([[1,2,3,4]])\n",
    "torch_tensor2 = torch.FloatTensor([[5,6,7,8]])\n",
    "print(torch.cat([torch_tensor1, torch_tensor2], axis = 0))"
   ]
  }
 ],
 "metadata": {
  "kernelspec": {
   "display_name": "Python 3 (ipykernel)",
   "language": "python",
   "name": "python3"
  },
  "language_info": {
   "codemirror_mode": {
    "name": "ipython",
    "version": 3
   },
   "file_extension": ".py",
   "mimetype": "text/x-python",
   "name": "python",
   "nbconvert_exporter": "python",
   "pygments_lexer": "ipython3",
   "version": "3.9.12"
  }
 },
 "nbformat": 4,
 "nbformat_minor": 5
}
