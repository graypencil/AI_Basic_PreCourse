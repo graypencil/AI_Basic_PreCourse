{
  "cells": [
    {
      "cell_type": "markdown",
      "id": "6bb0a486",
      "metadata": {
        "id": "6bb0a486"
      },
      "source": [
        "# Maximum Likelihood Estimation (MLE)\n",
        "- likelihood (가능도, 우도) \n",
        "- 최대 가능도 추정 / 최대 우도 추정"
      ]
    },
    {
      "cell_type": "markdown",
      "id": "848a3314",
      "metadata": {
        "id": "848a3314"
      },
      "source": [
        "$K \\sim B(n,\\theta)  $ <br><br>\n",
        "$ P(K = k) = \\binom{n}{k}\\theta^{k}(1-\\theta)^{n-k} $ <br><br>\n",
        "         $ = \\frac{n!}{k!(n-k)!} \\cdot\\theta^{k}(1-\\theta)^{n-k}$ <br><br>\n",
        "- observation 을 가장 잘 나타내는 $\\theta$ 를 찾아내는 과정"
      ]
    },
    {
      "cell_type": "markdown",
      "id": "763906a9",
      "metadata": {
        "id": "763906a9"
      },
      "source": [
        "# Optimization via Gradient Descent"
      ]
    },
    {
      "cell_type": "markdown",
      "id": "3344a688",
      "metadata": {
        "id": "3344a688"
      },
      "source": [
        "# Overfitting and Regurlarization\n",
        "- Dataset = train(0.8)/dev(혹은 val, 0 ~ 0.1)/test(0.1 ~ 0.2) 로 구성\n",
        "## Overfitting 방지하는 방법\n",
        "- More Data\n",
        "- Less features (데이터 분포를 나타내는 데이터)\n",
        "- Regularization\n",
        "## Regularization (overfitting 방지)\n",
        "- Early Stopping : validation Loss 가 더 이상 낮아지지 않을 때\n",
        "- Reducing network size \n",
        "- Weight Decay (parameter 크기 제한)\n",
        "- **Dropout (많이 사용)**\n",
        "- **Batch normalization (많이 사용)**\n",
        "## Basic Approach to Train DNN\n",
        "1. 신경망 구조 만들기\n",
        "2. Train, 모델이 오버 피팅이 되었는지 확인하기\n",
        " - 오버 피팅이 되지 않았다면, model size를 증가(deeper & wider)\n",
        " - 오버 피팅이 되면, regularization (drop-out, batch-normalization) 추가한다.\n",
        "3. 2번의 단계를 반복"
      ]
    },
    {
      "cell_type": "markdown",
      "source": [
        "## Import"
      ],
      "metadata": {
        "id": "4wOAt5YzF7Dw"
      },
      "id": "4wOAt5YzF7Dw"
    },
    {
      "cell_type": "code",
      "execution_count": null,
      "id": "d8a6648a",
      "metadata": {
        "id": "d8a6648a"
      },
      "outputs": [],
      "source": [
        "import torch\n",
        "import torch.nn as nn\n",
        "import torch.nn.functional as F\n",
        "import torch.optim as optim"
      ]
    },
    {
      "cell_type": "code",
      "source": [
        "# 재현성을 좋게 하기 위해서\n",
        "torch.manual_seed(1)"
      ],
      "metadata": {
        "colab": {
          "base_uri": "https://localhost:8080/"
        },
        "id": "-2sSSXKZGFwQ",
        "outputId": "3a3b5046-c973-453b-834d-3d2c20e7afcb"
      },
      "id": "-2sSSXKZGFwQ",
      "execution_count": null,
      "outputs": [
        {
          "output_type": "execute_result",
          "data": {
            "text/plain": [
              "<torch._C.Generator at 0x7f724409f170>"
            ]
          },
          "metadata": {},
          "execution_count": 2
        }
      ]
    },
    {
      "cell_type": "markdown",
      "id": "783f8b5b",
      "metadata": {
        "id": "783f8b5b"
      },
      "source": [
        "## Training and Test Dataset"
      ]
    },
    {
      "cell_type": "code",
      "execution_count": null,
      "id": "2744731e",
      "metadata": {
        "id": "2744731e"
      },
      "outputs": [],
      "source": [
        "x_train = torch.FloatTensor([[1,2,1], \n",
        "                             [1,3,2,],\n",
        "                             [1,3,4],\n",
        "                             [1,5,5],\n",
        "                             [1,7,5],\n",
        "                             [1,2,5],\n",
        "                             [1,6,6],\n",
        "                             [1,7,7]])       #(m,3)\n",
        "y_train = torch.LongTensor([2,2,2,1,1,1,0,0])  # (m,)"
      ]
    },
    {
      "cell_type": "code",
      "source": [
        "x_test = torch.FloatTensor([[2,1,1],[3,1,2],[3,3,4]]) # (m',3)\n",
        "y_test = torch.LongTensor([2,2,2]) # (m', )"
      ],
      "metadata": {
        "id": "PQWZ-TjBGyUY"
      },
      "id": "PQWZ-TjBGyUY",
      "execution_count": null,
      "outputs": []
    },
    {
      "cell_type": "markdown",
      "source": [
        "## Model"
      ],
      "metadata": {
        "id": "XdXcNsNvHntw"
      },
      "id": "XdXcNsNvHntw"
    },
    {
      "cell_type": "code",
      "source": [
        "class SoftmaxClassifierModel(nn.Module):\n",
        "  def __init__(self):\n",
        "    super().__init__()\n",
        "    self.linear = nn.Linear(3,3)\n",
        "  def forward(self, x):\n",
        "    return self.linear(x)"
      ],
      "metadata": {
        "id": "QTv0LmluHpPJ"
      },
      "id": "QTv0LmluHpPJ",
      "execution_count": null,
      "outputs": []
    },
    {
      "cell_type": "code",
      "source": [
        "model = SoftmaxClassifierModel()"
      ],
      "metadata": {
        "id": "fjHgYaqwH3Qi"
      },
      "id": "fjHgYaqwH3Qi",
      "execution_count": null,
      "outputs": []
    },
    {
      "cell_type": "code",
      "source": [
        "# Optimizer\n",
        "optimizer = optim.SGD(model.parameters(), lr = 0.1)"
      ],
      "metadata": {
        "id": "oL_9Pkk8Ruwu"
      },
      "id": "oL_9Pkk8Ruwu",
      "execution_count": null,
      "outputs": []
    },
    {
      "cell_type": "markdown",
      "source": [
        "## Training"
      ],
      "metadata": {
        "id": "E0kR2Y4QSDwi"
      },
      "id": "E0kR2Y4QSDwi"
    },
    {
      "cell_type": "code",
      "source": [
        "def train(model, optimizer, x_train, y_train):\n",
        "  nb_epochs = 20\n",
        "  for epoch in range(nb_epochs):\n",
        "\n",
        "    # H(x) 계산\n",
        "    prediction = model(x_train)\n",
        "\n",
        "    # cost 계산\n",
        "    cost = F.cross_entropy(prediction, y_train)\n",
        "\n",
        "    # cost 로 H(x) update\n",
        "    optimizer.zero_grad()\n",
        "    cost.backward()\n",
        "    optimizer.step()\n",
        "\n",
        "    print('Epoch {:4d}/{} Cost: {:.6f}'.format(epoch, nb_epochs, cost.item()))\n",
        "                     "
      ],
      "metadata": {
        "id": "TnXvXw5vSE7r"
      },
      "id": "TnXvXw5vSE7r",
      "execution_count": null,
      "outputs": []
    },
    {
      "cell_type": "markdown",
      "source": [
        "## Test (Valication)"
      ],
      "metadata": {
        "id": "_5eIzM7rSrj_"
      },
      "id": "_5eIzM7rSrj_"
    },
    {
      "cell_type": "code",
      "source": [
        "def test(model, optimizer, x_test, y_test):\n",
        "  prediction = model(x_test)\n",
        "  predicted_classes = prediction.max(1)[1]\n",
        "  correct_count = (predicted_classes == y_test).sum().item()\n",
        "  cost = F.cross_entropy(prediction, y_test)\n",
        "\n",
        "  print('Accuracy: {}% Cost: {:.6f}'.format(correct_count / len(y_test) * 100, cost.item()))"
      ],
      "metadata": {
        "id": "OrhmCg6hStS7"
      },
      "id": "OrhmCg6hStS7",
      "execution_count": null,
      "outputs": []
    },
    {
      "cell_type": "markdown",
      "source": [
        "## Run"
      ],
      "metadata": {
        "id": "BQ1NIRV-TNOj"
      },
      "id": "BQ1NIRV-TNOj"
    },
    {
      "cell_type": "code",
      "source": [
        "train(model, optimizer, x_train, y_train)"
      ],
      "metadata": {
        "colab": {
          "base_uri": "https://localhost:8080/"
        },
        "id": "srx6jVGYTM2g",
        "outputId": "3cd3fb93-57ef-4160-e5a3-cf1326c2c475"
      },
      "id": "srx6jVGYTM2g",
      "execution_count": null,
      "outputs": [
        {
          "output_type": "stream",
          "name": "stdout",
          "text": [
            "Epoch    0/20 Cost: 2.203667\n",
            "Epoch    1/20 Cost: 1.199645\n",
            "Epoch    2/20 Cost: 1.142985\n",
            "Epoch    3/20 Cost: 1.117769\n",
            "Epoch    4/20 Cost: 1.100901\n",
            "Epoch    5/20 Cost: 1.089523\n",
            "Epoch    6/20 Cost: 1.079872\n",
            "Epoch    7/20 Cost: 1.071320\n",
            "Epoch    8/20 Cost: 1.063325\n",
            "Epoch    9/20 Cost: 1.055720\n",
            "Epoch   10/20 Cost: 1.048378\n",
            "Epoch   11/20 Cost: 1.041245\n",
            "Epoch   12/20 Cost: 1.034285\n",
            "Epoch   13/20 Cost: 1.027478\n",
            "Epoch   14/20 Cost: 1.020813\n",
            "Epoch   15/20 Cost: 1.014279\n",
            "Epoch   16/20 Cost: 1.007872\n",
            "Epoch   17/20 Cost: 1.001586\n",
            "Epoch   18/20 Cost: 0.995419\n",
            "Epoch   19/20 Cost: 0.989365\n"
          ]
        }
      ]
    },
    {
      "cell_type": "code",
      "source": [
        "test(model, optimizer, x_test, y_test)"
      ],
      "metadata": {
        "colab": {
          "base_uri": "https://localhost:8080/"
        },
        "id": "HZ8v4Vy3TXDL",
        "outputId": "52fa5b7a-0ac8-4a00-a2d4-b12112e0a4fe"
      },
      "id": "HZ8v4Vy3TXDL",
      "execution_count": null,
      "outputs": [
        {
          "output_type": "stream",
          "name": "stdout",
          "text": [
            "Accuracy: 0.0% Cost: 1.425844\n"
          ]
        }
      ]
    },
    {
      "cell_type": "markdown",
      "id": "e77f6c32",
      "metadata": {
        "id": "e77f6c32"
      },
      "source": [
        "# Learing Rate\n",
        "- learning rate 가 너무 크면 diverge 하면서 cost가 overshooting\n",
        "- $ \\theta \\leftarrow \\theta - \\alpha \\nabla_{\\theta} L(X_{i}\\theta) $ (학습률)"
      ]
    },
    {
      "cell_type": "code",
      "source": [
        "model = SoftmaxClassifierModel()"
      ],
      "metadata": {
        "id": "y1GfgISGYCml"
      },
      "id": "y1GfgISGYCml",
      "execution_count": null,
      "outputs": []
    },
    {
      "cell_type": "code",
      "source": [
        "optimizer = optim.SGD(model.parameters(), lr = 1e5)"
      ],
      "metadata": {
        "id": "cGjgRZsZY7yv"
      },
      "id": "cGjgRZsZY7yv",
      "execution_count": null,
      "outputs": []
    },
    {
      "cell_type": "code",
      "source": [
        "train(model, optimizer, x_train, y_train)"
      ],
      "metadata": {
        "colab": {
          "base_uri": "https://localhost:8080/"
        },
        "id": "vuKls8mqZ8TH",
        "outputId": "bc5309ea-0993-4979-9a82-b62208548b27"
      },
      "id": "vuKls8mqZ8TH",
      "execution_count": null,
      "outputs": [
        {
          "output_type": "stream",
          "name": "stdout",
          "text": [
            "Epoch    0/20 Cost: 1.280268\n",
            "Epoch    1/20 Cost: 976950.750000\n",
            "Epoch    2/20 Cost: 1279135.250000\n",
            "Epoch    3/20 Cost: 1198378.875000\n",
            "Epoch    4/20 Cost: 1098825.750000\n",
            "Epoch    5/20 Cost: 1968197.750000\n",
            "Epoch    6/20 Cost: 284763.250000\n",
            "Epoch    7/20 Cost: 1532260.250000\n",
            "Epoch    8/20 Cost: 1651503.750000\n",
            "Epoch    9/20 Cost: 521878.593750\n",
            "Epoch   10/20 Cost: 1397263.250000\n",
            "Epoch   11/20 Cost: 750986.375000\n",
            "Epoch   12/20 Cost: 918691.375000\n",
            "Epoch   13/20 Cost: 1487888.250000\n",
            "Epoch   14/20 Cost: 1582260.250000\n",
            "Epoch   15/20 Cost: 685818.125000\n",
            "Epoch   16/20 Cost: 1140048.875000\n",
            "Epoch   17/20 Cost: 940566.375000\n",
            "Epoch   18/20 Cost: 931638.250000\n",
            "Epoch   19/20 Cost: 1971322.750000\n"
          ]
        }
      ]
    },
    {
      "cell_type": "markdown",
      "source": [
        "- learning rate 가 너무 작으면 cost가 거의 줄어들지 않음"
      ],
      "metadata": {
        "id": "guOcXRh3aFhY"
      },
      "id": "guOcXRh3aFhY"
    },
    {
      "cell_type": "code",
      "source": [
        "model = SoftmaxClassifierModel()"
      ],
      "metadata": {
        "id": "902zIHGBaK5u"
      },
      "id": "902zIHGBaK5u",
      "execution_count": null,
      "outputs": []
    },
    {
      "cell_type": "code",
      "source": [
        "optimizer = optim.SGD(model.parameters(), lr = 1e-10)"
      ],
      "metadata": {
        "id": "6xHZ20VQaMbF"
      },
      "id": "6xHZ20VQaMbF",
      "execution_count": null,
      "outputs": []
    },
    {
      "cell_type": "code",
      "source": [
        "train(model, optimizer, x_train, y_train)"
      ],
      "metadata": {
        "colab": {
          "base_uri": "https://localhost:8080/"
        },
        "id": "mbxRFo3HaPXN",
        "outputId": "3393d8b6-1e65-4198-d488-4c6240710429"
      },
      "id": "mbxRFo3HaPXN",
      "execution_count": null,
      "outputs": [
        {
          "output_type": "stream",
          "name": "stdout",
          "text": [
            "Epoch    0/20 Cost: 3.187324\n",
            "Epoch    1/20 Cost: 3.187324\n",
            "Epoch    2/20 Cost: 3.187324\n",
            "Epoch    3/20 Cost: 3.187324\n",
            "Epoch    4/20 Cost: 3.187324\n",
            "Epoch    5/20 Cost: 3.187324\n",
            "Epoch    6/20 Cost: 3.187324\n",
            "Epoch    7/20 Cost: 3.187324\n",
            "Epoch    8/20 Cost: 3.187324\n",
            "Epoch    9/20 Cost: 3.187324\n",
            "Epoch   10/20 Cost: 3.187324\n",
            "Epoch   11/20 Cost: 3.187324\n",
            "Epoch   12/20 Cost: 3.187324\n",
            "Epoch   13/20 Cost: 3.187324\n",
            "Epoch   14/20 Cost: 3.187324\n",
            "Epoch   15/20 Cost: 3.187324\n",
            "Epoch   16/20 Cost: 3.187324\n",
            "Epoch   17/20 Cost: 3.187324\n",
            "Epoch   18/20 Cost: 3.187324\n",
            "Epoch   19/20 Cost: 3.187324\n"
          ]
        }
      ]
    },
    {
      "cell_type": "markdown",
      "source": [
        "- 적절한 숫자로 시작해 발산하면 작게, cost가 줄어들지 않으면 크게 조정."
      ],
      "metadata": {
        "id": "DjBfed0DaWTO"
      },
      "id": "DjBfed0DaWTO"
    },
    {
      "cell_type": "code",
      "source": [
        "model = SoftmaxClassifierModel()"
      ],
      "metadata": {
        "id": "RUR7w2RBbm62"
      },
      "id": "RUR7w2RBbm62",
      "execution_count": null,
      "outputs": []
    },
    {
      "cell_type": "code",
      "source": [
        "optimizer = optim.SGD(model.parameters(), lr = 1e-1)"
      ],
      "metadata": {
        "id": "aUPtW5CAaaOQ"
      },
      "id": "aUPtW5CAaaOQ",
      "execution_count": null,
      "outputs": []
    },
    {
      "cell_type": "code",
      "source": [
        "train(model, optimizer, x_train, y_train)"
      ],
      "metadata": {
        "colab": {
          "base_uri": "https://localhost:8080/"
        },
        "id": "Ugw3ywE7aZX-",
        "outputId": "63ef4b0a-24e0-44a7-80c4-ebcb15d8ef6b"
      },
      "id": "Ugw3ywE7aZX-",
      "execution_count": null,
      "outputs": [
        {
          "output_type": "stream",
          "name": "stdout",
          "text": [
            "Epoch    0/20 Cost: 2.939317\n",
            "Epoch    1/20 Cost: 1.887239\n",
            "Epoch    2/20 Cost: 1.055398\n",
            "Epoch    3/20 Cost: 0.936401\n",
            "Epoch    4/20 Cost: 0.917493\n",
            "Epoch    5/20 Cost: 0.911811\n",
            "Epoch    6/20 Cost: 0.906384\n",
            "Epoch    7/20 Cost: 0.901102\n",
            "Epoch    8/20 Cost: 0.895959\n",
            "Epoch    9/20 Cost: 0.890947\n",
            "Epoch   10/20 Cost: 0.886062\n",
            "Epoch   11/20 Cost: 0.881298\n",
            "Epoch   12/20 Cost: 0.876650\n",
            "Epoch   13/20 Cost: 0.872114\n",
            "Epoch   14/20 Cost: 0.867685\n",
            "Epoch   15/20 Cost: 0.863359\n",
            "Epoch   16/20 Cost: 0.859132\n",
            "Epoch   17/20 Cost: 0.855000\n",
            "Epoch   18/20 Cost: 0.850961\n",
            "Epoch   19/20 Cost: 0.847009\n"
          ]
        }
      ]
    },
    {
      "cell_type": "markdown",
      "id": "8777c960",
      "metadata": {
        "id": "8777c960"
      },
      "source": [
        "# Data Processing"
      ]
    },
    {
      "cell_type": "code",
      "execution_count": null,
      "id": "e9ef7ab9",
      "metadata": {
        "id": "e9ef7ab9"
      },
      "outputs": [],
      "source": [
        "x_train = torch.FloatTensor([[73, 80, 75],\n",
        "                             [93, 88, 93],\n",
        "                             [89, 91, 90],\n",
        "                             [96, 98, 100],\n",
        "                             [73, 66, 70]])\n",
        "y_train = torch.FloatTensor([[152], [185], [180], [196], [142]])"
      ]
    },
    {
      "cell_type": "markdown",
      "source": [
        "$ X'_{j} = \\frac{x_{j}-\\mu_{j}}{𝜎_{j}} $ (정규분포화 가정)<br><br>\n",
        "𝜎 는 standard deviation, μ:  평균 값"
      ],
      "metadata": {
        "id": "A7vgEpfLemrf"
      },
      "id": "A7vgEpfLemrf"
    },
    {
      "cell_type": "code",
      "execution_count": null,
      "id": "022202cc",
      "metadata": {
        "id": "022202cc"
      },
      "outputs": [],
      "source": [
        "mu = x_train.mean(dim =0)"
      ]
    },
    {
      "cell_type": "code",
      "execution_count": null,
      "id": "d899cdc9",
      "metadata": {
        "id": "d899cdc9"
      },
      "outputs": [],
      "source": [
        "sigma = x_train.std(dim = 0)"
      ]
    },
    {
      "cell_type": "code",
      "execution_count": null,
      "id": "26d0fb7b",
      "metadata": {
        "id": "26d0fb7b"
      },
      "outputs": [],
      "source": [
        "norm_x_train = (x_train - mu) / sigma"
      ]
    },
    {
      "cell_type": "code",
      "execution_count": null,
      "id": "1f420c8e",
      "metadata": {
        "id": "1f420c8e",
        "colab": {
          "base_uri": "https://localhost:8080/"
        },
        "outputId": "0e593922-22f8-4e34-fe04-14b1c2f8c293"
      },
      "outputs": [
        {
          "output_type": "stream",
          "name": "stdout",
          "text": [
            "tensor([[-1.0674, -0.3758, -0.8398],\n",
            "        [ 0.7418,  0.2778,  0.5863],\n",
            "        [ 0.3799,  0.5229,  0.3486],\n",
            "        [ 1.0132,  1.0948,  1.1409],\n",
            "        [-1.0674, -1.5197, -1.2360]])\n"
          ]
        }
      ],
      "source": [
        "print(norm_x_train) # ~N(0,1) 정규분포를 따름"
      ]
    },
    {
      "cell_type": "markdown",
      "source": [
        "## Training with Preprocessed Data"
      ],
      "metadata": {
        "id": "GhBv8kBriDjB"
      },
      "id": "GhBv8kBriDjB"
    },
    {
      "cell_type": "code",
      "source": [
        "class MultivariateLinearRegressionModel(nn.Module):\n",
        "  def __init__(self):\n",
        "    super().__init__()\n",
        "    self.linear = nn.Linear(3,1)\n",
        "  \n",
        "  def forward(self, x):\n",
        "    return self.linear(x)"
      ],
      "metadata": {
        "id": "EKvWn0pyiDXZ"
      },
      "id": "EKvWn0pyiDXZ",
      "execution_count": null,
      "outputs": []
    },
    {
      "cell_type": "code",
      "execution_count": null,
      "id": "710dae68",
      "metadata": {
        "id": "710dae68"
      },
      "outputs": [],
      "source": [
        "model = MultivariateLinearRegressionModel()"
      ]
    },
    {
      "cell_type": "code",
      "execution_count": null,
      "id": "c1a920cd",
      "metadata": {
        "id": "c1a920cd"
      },
      "outputs": [],
      "source": [
        "optimizer = optim.SGD(model.parameters(), lr=1e-1)"
      ]
    },
    {
      "cell_type": "code",
      "execution_count": null,
      "id": "bafa5ae1",
      "metadata": {
        "id": "bafa5ae1"
      },
      "outputs": [],
      "source": [
        "def train(model, optimizer, x_train, y_train):\n",
        "  nb_epochs = 20\n",
        "  for epoch in range(nb_epochs):\n",
        "    \n",
        "    # H(x) 계산\n",
        "    prediction = model(x_train)\n",
        "\n",
        "    # cost 계산\n",
        "    cost = F.mse_loss(prediction, y_train)\n",
        "\n",
        "    # cost 로 H(x) update\n",
        "    optimizer.zero_grad()\n",
        "    cost.backward()\n",
        "    optimizer.step()\n",
        "\n",
        "    print('Epoch {:4d}/{} Cost: {:.6f}'.format(epoch, nb_epochs, cost.item()))"
      ]
    },
    {
      "cell_type": "code",
      "execution_count": null,
      "id": "91da6208",
      "metadata": {
        "id": "91da6208",
        "colab": {
          "base_uri": "https://localhost:8080/"
        },
        "outputId": "9ca12376-68b4-49e1-95c9-4a66fce30531"
      },
      "outputs": [
        {
          "output_type": "stream",
          "name": "stdout",
          "text": [
            "Epoch    0/20 Cost: 29474.621094\n",
            "Epoch    1/20 Cost: 18722.042969\n",
            "Epoch    2/20 Cost: 11941.124023\n",
            "Epoch    3/20 Cost: 7630.645996\n",
            "Epoch    4/20 Cost: 4880.464844\n",
            "Epoch    5/20 Cost: 3122.821289\n",
            "Epoch    6/20 Cost: 1998.639404\n",
            "Epoch    7/20 Cost: 1279.363037\n",
            "Epoch    8/20 Cost: 819.076416\n",
            "Epoch    9/20 Cost: 524.500732\n",
            "Epoch   10/20 Cost: 335.968170\n",
            "Epoch   11/20 Cost: 215.298920\n",
            "Epoch   12/20 Cost: 138.062103\n",
            "Epoch   13/20 Cost: 88.621628\n",
            "Epoch   14/20 Cost: 56.971245\n",
            "Epoch   15/20 Cost: 36.706795\n",
            "Epoch   16/20 Cost: 23.729731\n",
            "Epoch   17/20 Cost: 15.416880\n",
            "Epoch   18/20 Cost: 10.089418\n",
            "Epoch   19/20 Cost: 6.672885\n"
          ]
        }
      ],
      "source": [
        "train(model, optimizer, norm_x_train, y_train)"
      ]
    },
    {
      "cell_type": "markdown",
      "id": "62cef5b2",
      "metadata": {
        "id": "62cef5b2"
      },
      "source": [
        "# 5주차 퀴즈 관련 풀이"
      ]
    },
    {
      "cell_type": "code",
      "execution_count": null,
      "id": "7b94dd4f",
      "metadata": {
        "id": "7b94dd4f",
        "outputId": "0a83adcc-fd4d-49b8-a542-98e20a01d1a6"
      },
      "outputs": [
        {
          "name": "stdout",
          "output_type": "stream",
          "text": [
            "tensor([[1., 2., 3.],\n",
            "        [4., 5., 6.],\n",
            "        [7., 8., 9.]]) torch.Size([3, 3])\n"
          ]
        }
      ],
      "source": [
        "import torch\n",
        "torch_tensor = torch.FloatTensor([[[1],[2],[3]],[[4],[5],[6]], [[7],[8],[9]]])\n",
        "print(torch_tensor.squeeze(), torch_tensor.squeeze().shape)"
      ]
    },
    {
      "cell_type": "code",
      "execution_count": null,
      "id": "dc315120",
      "metadata": {
        "id": "dc315120",
        "outputId": "573b2c72-c231-4845-96eb-02a4c19f860a"
      },
      "outputs": [
        {
          "name": "stdout",
          "output_type": "stream",
          "text": [
            "tensor([[5., 6., 7.],\n",
            "        [6., 7., 8.],\n",
            "        [7., 8., 9.]])\n"
          ]
        }
      ],
      "source": [
        "torch_t1 = torch.FloatTensor([1,2,3])\n",
        "torch_t2 = torch.FloatTensor([[4],[5],[6]])\n",
        "print(torch_t1+torch_t2)"
      ]
    },
    {
      "cell_type": "code",
      "execution_count": null,
      "id": "705ea14a",
      "metadata": {
        "id": "705ea14a",
        "outputId": "04dd6aaa-df8b-48f6-fde3-53bd387ed5aa"
      },
      "outputs": [
        {
          "name": "stdout",
          "output_type": "stream",
          "text": [
            "tensor([[1., 2.],\n",
            "        [3., 4.],\n",
            "        [5., 6.],\n",
            "        [7., 8.]])\n"
          ]
        }
      ],
      "source": [
        "torch_tensor = torch.FloatTensor([[1,2,3,4],[5,6,7,8]])\n",
        "torch_tensor = torch_tensor.view([-1,2])\n",
        "print(torch_tensor)"
      ]
    },
    {
      "cell_type": "code",
      "execution_count": null,
      "id": "2e78277d",
      "metadata": {
        "id": "2e78277d",
        "outputId": "c3a444c9-da39-4e7d-ceeb-d5322f82fdac"
      },
      "outputs": [
        {
          "name": "stdout",
          "output_type": "stream",
          "text": [
            "tensor([[1., 2., 3., 4.],\n",
            "        [5., 6., 7., 8.]])\n"
          ]
        }
      ],
      "source": [
        "torch_tensor1 = torch.FloatTensor([[1,2,3,4]])\n",
        "torch_tensor2 = torch.FloatTensor([[5,6,7,8]])\n",
        "print(torch.cat([torch_tensor1, torch_tensor2], axis = 0))"
      ]
    }
  ],
  "metadata": {
    "kernelspec": {
      "display_name": "Python 3 (ipykernel)",
      "language": "python",
      "name": "python3"
    },
    "language_info": {
      "codemirror_mode": {
        "name": "ipython",
        "version": 3
      },
      "file_extension": ".py",
      "mimetype": "text/x-python",
      "name": "python",
      "nbconvert_exporter": "python",
      "pygments_lexer": "ipython3",
      "version": "3.9.12"
    },
    "colab": {
      "provenance": [],
      "collapsed_sections": [
        "62cef5b2"
      ]
    }
  },
  "nbformat": 4,
  "nbformat_minor": 5
}