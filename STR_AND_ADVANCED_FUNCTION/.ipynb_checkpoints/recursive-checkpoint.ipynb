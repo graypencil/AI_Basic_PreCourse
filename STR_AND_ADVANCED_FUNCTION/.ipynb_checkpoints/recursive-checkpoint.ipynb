{
 "cells": [
  {
   "cell_type": "code",
   "execution_count": 7,
   "id": "eb7c2cf5",
   "metadata": {},
   "outputs": [
    {
     "name": "stdout",
     "output_type": "stream",
     "text": [
      "Input number for Factorial calculation: 5\n",
      "120\n"
     ]
    }
   ],
   "source": [
    "def factorial(n):\n",
    "    if n == 1:\n",
    "        return 1\n",
    "    else:\n",
    "        return n * factorial(n-1)\n",
    "print(factorial(int(input(\"Input number for Factorial calculation: \"))))"
   ]
  },
  {
   "cell_type": "code",
   "execution_count": null,
   "id": "33f9ebc2",
   "metadata": {},
   "outputs": [],
   "source": [
    "print(\"Input Number for Factorial Calculation\")\n",
    "n = int(input())\n",
    "\n",
    "while j is not 0 :\n",
    "    if 1 < n :\n",
    "        total = j*\n",
    "        j += 1\n",
    "        \n",
    "    if n == 1:\n",
    "        return 1\n",
    "    else:\n",
    "        reutn"
   ]
  }
 ],
 "metadata": {
  "kernelspec": {
   "display_name": "Python 3 (ipykernel)",
   "language": "python",
   "name": "python3"
  },
  "language_info": {
   "codemirror_mode": {
    "name": "ipython",
    "version": 3
   },
   "file_extension": ".py",
   "mimetype": "text/x-python",
   "name": "python",
   "nbconvert_exporter": "python",
   "pygments_lexer": "ipython3",
   "version": "3.8.13"
  }
 },
 "nbformat": 4,
 "nbformat_minor": 5
}
