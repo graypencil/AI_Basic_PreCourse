{
 "cells": [
  {
   "cell_type": "code",
   "execution_count": 2,
   "id": "f6c67663",
   "metadata": {},
   "outputs": [
    {
     "name": "stdout",
     "output_type": "stream",
     "text": [
      "10\n",
      "In Function: 20\n"
     ]
    },
    {
     "ename": "NameError",
     "evalue": "name 't' is not defined",
     "output_type": "error",
     "traceback": [
      "\u001b[1;31m---------------------------------------------------------------------------\u001b[0m",
      "\u001b[1;31mNameError\u001b[0m                                 Traceback (most recent call last)",
      "Input \u001b[1;32mIn [2]\u001b[0m, in \u001b[0;36m<cell line: 8>\u001b[1;34m()\u001b[0m\n\u001b[0;32m      6\u001b[0m x \u001b[38;5;241m=\u001b[39m \u001b[38;5;241m10\u001b[39m\n\u001b[0;32m      7\u001b[0m test(x)\n\u001b[1;32m----> 8\u001b[0m \u001b[38;5;28mprint\u001b[39m(\u001b[43mt\u001b[49m)\n",
      "\u001b[1;31mNameError\u001b[0m: name 't' is not defined"
     ]
    }
   ],
   "source": [
    "def test(t):\n",
    "    print(x)\n",
    "    t= 20\n",
    "    print(\"In Function:\", t)\n",
    "    \n",
    "x = 10\n",
    "test(x)\n",
    "print(t)  #  지역변수이므로 에러가 남!"
   ]
  },
  {
   "cell_type": "code",
   "execution_count": 4,
   "id": "6cd8dfe5",
   "metadata": {},
   "outputs": [
    {
     "name": "stdout",
     "output_type": "stream",
     "text": [
      "Before: 10\n",
      "In Function: 20\n",
      "After: 10\n"
     ]
    }
   ],
   "source": [
    "def test(t):\n",
    "    t= 20\n",
    "    print(\"In Function:\", t)\n",
    "    \n",
    "x = 10\n",
    "print(\"Before:\", x)\n",
    "test(x)\n",
    "print(\"After:\", x) # x는 원래값으로 돌아옴"
   ]
  },
  {
   "cell_type": "code",
   "execution_count": 5,
   "id": "674d7db7",
   "metadata": {},
   "outputs": [
    {
     "name": "stdout",
     "output_type": "stream",
     "text": [
      "I love London!\n",
      "I love Paris!\n"
     ]
    }
   ],
   "source": [
    "def f():\n",
    "    s = \"I love London!\" # 지역변수 s\n",
    "    print(s)\n",
    "    \n",
    "s = \"I love Paris!\"  # 전역변수 s\n",
    "f()\n",
    "print(s)"
   ]
  },
  {
   "cell_type": "code",
   "execution_count": 6,
   "id": "4f8c634a",
   "metadata": {},
   "outputs": [
    {
     "name": "stdout",
     "output_type": "stream",
     "text": [
      "I love London!\n",
      "I love London!\n"
     ]
    }
   ],
   "source": [
    "def f():\n",
    "    global s # 전역변수 사용 시\n",
    "    s = \"I love London!\" \n",
    "    print(s)\n",
    "    \n",
    "s = \"I love Paris!\"  # 전역변수 s\n",
    "f()\n",
    "print(s)"
   ]
  },
  {
   "cell_type": "code",
   "execution_count": 7,
   "id": "5059e7dc",
   "metadata": {},
   "outputs": [
    {
     "name": "stdout",
     "output_type": "stream",
     "text": [
      "In Program - 1\n",
      "a: 5 b: 7 a+b: 12\n",
      "In Function\n",
      "a: 5 b: 7 a+b: 12 total: 12\n",
      "After Calculation\n",
      "Total: 0 Sum: 12\n"
     ]
    }
   ],
   "source": [
    "def calculate(x, y):\n",
    "    total = x + y  # 함수 내 지역 변수 total\n",
    "    print(\"In Function\")  \n",
    "    print(\"a:\", str(a), \"b:\", str(b), \"a+b:\", str(a+b), \"total:\", str(total))\n",
    "    return total\n",
    "\n",
    "a = 5\n",
    "b = 7\n",
    "total = 0  # 전역변수\n",
    "print(\"In Program - 1\")\n",
    "print(\"a:\", str(a), \"b:\", str(b), \"a+b:\", str(a+b))\n",
    "\n",
    "sum = calculate(a,b)\n",
    "print(\"After Calculation\")\n",
    "print(\"Total:\", str(total), \"Sum:\", str(sum)) #total은 전역변수, sum 은 지역변수"
   ]
  }
 ],
 "metadata": {
  "kernelspec": {
   "display_name": "Python 3 (ipykernel)",
   "language": "python",
   "name": "python3"
  },
  "language_info": {
   "codemirror_mode": {
    "name": "ipython",
    "version": 3
   },
   "file_extension": ".py",
   "mimetype": "text/x-python",
   "name": "python",
   "nbconvert_exporter": "python",
   "pygments_lexer": "ipython3",
   "version": "3.8.13"
  }
 },
 "nbformat": 4,
 "nbformat_minor": 5
}
