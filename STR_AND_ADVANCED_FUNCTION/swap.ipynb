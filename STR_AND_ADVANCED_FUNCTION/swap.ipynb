{
 "cells": [
  {
   "cell_type": "code",
   "execution_count": 7,
   "id": "44d016ae",
   "metadata": {},
   "outputs": [
    {
     "name": "stdout",
     "output_type": "stream",
     "text": [
      "berfore: [0]\n",
      "[0, 1, 5]\n",
      "[2, 3]\n",
      "after: [0, 1, 5]\n"
     ]
    }
   ],
   "source": [
    "def spam(eggs):\n",
    "    eggs.append(1)  # 기존의 객체 주소값에 [1] 추가\n",
    "    eggs.append(5)\n",
    "    print(eggs)\n",
    "    eggs = [2, 3] # new 객체 생성\n",
    "    print(eggs)\n",
    "    \n",
    "ham = [0]\n",
    "print(\"berfore:\", ham)\n",
    "spam(ham)\n",
    "print(\"after:\", ham)"
   ]
  },
  {
   "cell_type": "code",
   "execution_count": 51,
   "id": "01e86869",
   "metadata": {},
   "outputs": [],
   "source": [
    "def swap_value (x, y):\n",
    "    temp = x\n",
    "    x = y\n",
    "    y = temp\n",
    "    print(f\"함수 내 {x}, {y}\")\n",
    "    \n",
    "def swap_offset (offset_x, offset_y):  # a 리스트의 전역 변수 값을 직접 변경\n",
    "    temp = a[offset_x]\n",
    "    a[offset_x] = a[offset_y]\n",
    "    a[offset_y] = temp\n",
    "    print(f\"함수 내 {a}\")\n",
    "    \n",
    "def swap_reference (list, offset_x, offset_y):  # a 리스트 객체의 주소값을 받아 값을 변경\n",
    "    #temp_list = list_ex[:] # 새롭게 들어오는 값을 복사를 해두는 게 좋음!\n",
    "    temp = list[offset_x]\n",
    "    list[offset_x] = list[offset_y]\n",
    "    list[offset_y] = temp\n",
    "    print(f\"함수 내 {list}\")"
   ]
  },
  {
   "cell_type": "code",
   "execution_count": 46,
   "id": "7b3b559b",
   "metadata": {},
   "outputs": [
    {
     "name": "stdout",
     "output_type": "stream",
     "text": [
      "함수 내 2, 1\n",
      "[1, 2, 3, 4, 5]\n",
      "함수 내[2, 1, 3, 4, 5]\n",
      "[2, 1, 3, 4, 5]\n"
     ]
    }
   ],
   "source": [
    "a = [1, 2, 3, 4, 5]\n",
    "swap_value(a[0], a[1])\n",
    "print(a)\n",
    "swap_offset(0, 1)\n",
    "print(a)"
   ]
  },
  {
   "cell_type": "code",
   "execution_count": 48,
   "id": "252abc81",
   "metadata": {},
   "outputs": [
    {
     "name": "stdout",
     "output_type": "stream",
     "text": [
      "함수 내 2, 1\n",
      "1 2\n"
     ]
    }
   ],
   "source": [
    "x = 1\n",
    "y = 2\n",
    "swap_value(x, y)\n",
    "print(x, y)"
   ]
  },
  {
   "cell_type": "code",
   "execution_count": 49,
   "id": "7b6980ac",
   "metadata": {},
   "outputs": [
    {
     "name": "stdout",
     "output_type": "stream",
     "text": [
      "함수 내 [2, 1, 3, 4, 5]\n"
     ]
    },
    {
     "data": {
      "text/plain": [
       "[2, 1, 3, 4, 5]"
      ]
     },
     "execution_count": 49,
     "metadata": {},
     "output_type": "execute_result"
    }
   ],
   "source": [
    "a = [1, 2, 3, 4, 5]\n",
    "swap_offset(0, 1)\n",
    "a"
   ]
  },
  {
   "cell_type": "code",
   "execution_count": 53,
   "id": "0e006d47",
   "metadata": {},
   "outputs": [
    {
     "name": "stdout",
     "output_type": "stream",
     "text": [
      "함수 내 [1, 2, 3, 5, 4]\n"
     ]
    },
    {
     "data": {
      "text/plain": [
       "[1, 2, 3, 5, 4]"
      ]
     },
     "execution_count": 53,
     "metadata": {},
     "output_type": "execute_result"
    }
   ],
   "source": [
    "a = [1, 2, 3, 4, 5]\n",
    "swap_reference(a, 3, 4)\n",
    "a"
   ]
  }
 ],
 "metadata": {
  "kernelspec": {
   "display_name": "Python 3 (ipykernel)",
   "language": "python",
   "name": "python3"
  },
  "language_info": {
   "codemirror_mode": {
    "name": "ipython",
    "version": 3
   },
   "file_extension": ".py",
   "mimetype": "text/x-python",
   "name": "python",
   "nbconvert_exporter": "python",
   "pygments_lexer": "ipython3",
   "version": "3.8.13"
  }
 },
 "nbformat": 4,
 "nbformat_minor": 5
}
