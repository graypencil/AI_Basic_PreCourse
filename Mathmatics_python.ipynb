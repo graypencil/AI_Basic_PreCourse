{
 "cells": [
  {
   "cell_type": "markdown",
   "id": "86cc707f",
   "metadata": {},
   "source": [
    "# 벡터"
   ]
  },
  {
   "cell_type": "code",
   "execution_count": 13,
   "id": "846a970b",
   "metadata": {},
   "outputs": [],
   "source": [
    "import numpy as np"
   ]
  },
  {
   "cell_type": "code",
   "execution_count": 11,
   "id": "e868e6a8",
   "metadata": {},
   "outputs": [],
   "source": [
    "x = np.array([1,7,2])\n",
    "y = np.array([5,2,1])"
   ]
  },
  {
   "cell_type": "code",
   "execution_count": 13,
   "id": "13c8416f",
   "metadata": {},
   "outputs": [
    {
     "data": {
      "text/plain": [
       "array([6, 9, 3])"
      ]
     },
     "execution_count": 13,
     "metadata": {},
     "output_type": "execute_result"
    }
   ],
   "source": [
    "x + y"
   ]
  },
  {
   "cell_type": "code",
   "execution_count": 14,
   "id": "e35818a5",
   "metadata": {},
   "outputs": [
    {
     "data": {
      "text/plain": [
       "array([-4,  5,  1])"
      ]
     },
     "execution_count": 14,
     "metadata": {},
     "output_type": "execute_result"
    }
   ],
   "source": [
    "x - y"
   ]
  },
  {
   "cell_type": "code",
   "execution_count": 15,
   "id": "772cd2dc",
   "metadata": {},
   "outputs": [
    {
     "data": {
      "text/plain": [
       "array([ 5, 14,  2])"
      ]
     },
     "execution_count": 15,
     "metadata": {},
     "output_type": "execute_result"
    }
   ],
   "source": [
    "x * y"
   ]
  },
  {
   "cell_type": "markdown",
   "id": "17261b92",
   "metadata": {},
   "source": [
    "### vector의 norm 구하기\n",
    "- L1_norm: 두 점 거리의 제곱의 합\n",
    "- L2_norm: 두 점 거리의 제곱의 합의 제곱근(유클리드 거리)"
   ]
  },
  {
   "cell_type": "code",
   "execution_count": 25,
   "id": "7c1fc6c5",
   "metadata": {},
   "outputs": [
    {
     "data": {
      "text/plain": [
       "6"
      ]
     },
     "execution_count": 25,
     "metadata": {},
     "output_type": "execute_result"
    }
   ],
   "source": [
    "x = [-1,2,-3]\n",
    "\n",
    "def l1_norm(x):\n",
    "    x_norm = np.abs(x)\n",
    "    x_norm = np.sum(x_norm)\n",
    "    return x_norm\n",
    "\n",
    "l1_norm(x)"
   ]
  },
  {
   "cell_type": "code",
   "execution_count": 36,
   "id": "d92e2333",
   "metadata": {},
   "outputs": [
    {
     "data": {
      "text/plain": [
       "1.0"
      ]
     },
     "execution_count": 36,
     "metadata": {},
     "output_type": "execute_result"
    }
   ],
   "source": [
    "x= 1\n",
    "    \n",
    "def l2_norm(x):\n",
    "    x_norm = np.linalg.norm(x)\n",
    "#     x_norm = x ** 2\n",
    "#     x_norm = np.sum(x_norm)\n",
    "#     x_norm = np.sqrt(x_norm)\n",
    "    return x_norm\n",
    "\n",
    "l2_norm(x)\n",
    "\n",
    "# l2-norm 구하는 method\n"
   ]
  },
  {
   "cell_type": "code",
   "execution_count": 24,
   "id": "43e13269",
   "metadata": {},
   "outputs": [
    {
     "data": {
      "text/plain": [
       "16"
      ]
     },
     "execution_count": 24,
     "metadata": {},
     "output_type": "execute_result"
    }
   ],
   "source": [
    "x=[1,-1,1,-1] \n",
    "y=[4,-4,4,-4] \n",
    "\n",
    "np.inner(x,y)"
   ]
  },
  {
   "cell_type": "code",
   "execution_count": 37,
   "id": "bc4c9b40",
   "metadata": {},
   "outputs": [
    {
     "data": {
      "text/plain": [
       "0.0"
      ]
     },
     "execution_count": 37,
     "metadata": {},
     "output_type": "execute_result"
    }
   ],
   "source": [
    "x = [0,1]\n",
    "y = [0,2]\n",
    "\n",
    "def angle(x, y):\n",
    "    v = np.inner(x,y) / (l2_norm(x) * l2_norm(y))\n",
    "    theta = np.arccos(v)\n",
    "    return theta\n",
    "\n",
    "angle(x,y)"
   ]
  },
  {
   "cell_type": "markdown",
   "id": "2967ca61",
   "metadata": {},
   "source": [
    "# 경사하강법(순한맛)"
   ]
  },
  {
   "cell_type": "markdown",
   "id": "fbd877fa",
   "metadata": {},
   "source": [
    "## 미분(변수 1개인 경우)"
   ]
  },
  {
   "cell_type": "code",
   "execution_count": 2,
   "id": "5693a707",
   "metadata": {},
   "outputs": [
    {
     "data": {
      "text/latex": [
       "$\\displaystyle \\operatorname{Poly}{\\left( 2 x + 2, x, domain=\\mathbb{Z} \\right)}$"
      ],
      "text/plain": [
       "Poly(2*x + 2, x, domain='ZZ')"
      ]
     },
     "execution_count": 2,
     "metadata": {},
     "output_type": "execute_result"
    }
   ],
   "source": [
    "import sympy as sym\n",
    "from sympy.abc import x\n",
    "\n",
    "sym.diff(sym.poly(x**2 + 2*x +3), x)"
   ]
  },
  {
   "cell_type": "code",
   "execution_count": 6,
   "id": "a1edb996",
   "metadata": {},
   "outputs": [
    {
     "name": "stdout",
     "output_type": "stream",
     "text": [
      "함수: Poly(x**2 + 2*x + 3, x, domain='ZZ'), 연산횟수: 561, 최소점: (-1.00000498937654,2.00000000002489)\n"
     ]
    }
   ],
   "source": [
    "import numpy as np\n",
    "\n",
    "def func(val):\n",
    "    fun = sym.poly(x**2 + 2*x +3)\n",
    "    return fun.subs(x, val), fun\n",
    "\n",
    "def func_gradient(fun, val):\n",
    "    _, function = fun(val)\n",
    "    diff = sym.diff(function, x)\n",
    "    return diff.subs(x, val), diff\n",
    "\n",
    "def gradient_descent(fun, init_point, lr_rate = 1e-2, epsilon=1e-5):\n",
    "    cnt = 0\n",
    "    val = init_point\n",
    "    diff, _ = func_gradient(fun, init_point)\n",
    "    while np.abs(diff) > epsilon:\n",
    "        val = val - lr_rate * diff\n",
    "        diff, _ = func_gradient(fun, val)\n",
    "        cnt += 1\n",
    "        \n",
    "    print(\"함수: {}, 연산횟수: {}, 최소점: ({},{})\".format(fun(val)[1], cnt, val, fun(val)[0]))\n",
    "    \n",
    "gradient_descent(fun=func, init_point=np.random.uniform(-2,2))"
   ]
  },
  {
   "cell_type": "markdown",
   "id": "403592bb",
   "metadata": {},
   "source": [
    "## 미분(변수가 여러 개인 경우)"
   ]
  },
  {
   "cell_type": "code",
   "execution_count": 7,
   "id": "1ecc8900",
   "metadata": {},
   "outputs": [
    {
     "name": "stderr",
     "output_type": "stream",
     "text": [
      "C:\\Users\\NY\\AppData\\Local\\Temp\\ipykernel_14152\\246185756.py:4: SymPyDeprecationWarning: \n",
      "\n",
      "Mixing Poly with non-polynomial expressions in binary\n",
      "operations is deprecated. Either explicitly convert\n",
      "the non-Poly operand to a Poly with as_poly() or\n",
      "convert the Poly to an Expr with as_expr().\n",
      "\n",
      "See https://docs.sympy.org/latest/explanation/active-deprecations.html#deprecated-poly-nonpoly-binary-operations\n",
      "for details.\n",
      "\n",
      "This has been deprecated since SymPy version 1.6. It\n",
      "will be removed in a future version of SymPy.\n",
      "\n",
      "  sym.diff(sym.poly(x**2 + 2*x*y +3) + sym.cos(x + 2*y), x)\n"
     ]
    },
    {
     "data": {
      "text/latex": [
       "$\\displaystyle 2 x + 2 y - \\sin{\\left(x + 2 y \\right)}$"
      ],
      "text/plain": [
       "2*x + 2*y - sin(x + 2*y)"
      ]
     },
     "execution_count": 7,
     "metadata": {},
     "output_type": "execute_result"
    }
   ],
   "source": [
    "import sympy as sym\n",
    "from sympy.abc import x, y\n",
    "\n",
    "sym.diff(sym.poly(x**2 + 2*x*y +3) + sym.cos(x + 2*y), x)"
   ]
  },
  {
   "cell_type": "code",
   "execution_count": 10,
   "id": "c79fd456",
   "metadata": {},
   "outputs": [
    {
     "name": "stdout",
     "output_type": "stream",
     "text": [
      "함수: Poly(x**2 + 2*y**2, x, y, domain='ZZ'), 연산횟수: 483, 최소점: ([ 4.99533573e-06 -1.15654457e-09],2.49533817726380E-11)\n"
     ]
    }
   ],
   "source": [
    "def eval_(fun, val):\n",
    "    val_x, val_y = val\n",
    "    fun_eval = fun.subs(x, val_x).subs(y, val_y)\n",
    "    return fun_eval\n",
    "\n",
    "def func_multi(val):\n",
    "    x_, y_ = val\n",
    "    func = sym.poly(x**2 + 2*y**2)\n",
    "    return eval_(func, [x_, y_]), func\n",
    "\n",
    "def func_gradient(fun, val):\n",
    "    x_, y_ = val\n",
    "    _, function = fun(val)\n",
    "    diff_x = sym.diff(function, x)\n",
    "    diff_y = sym.diff(function, y)\n",
    "    grad_vec = np.array([eval_(diff_x, [x_, y_]), eval_(diff_y, [x_, y_])], dtype=float)\n",
    "    return grad_vec, [diff_x, diff_y]\n",
    "\n",
    "def gradient_descent(fun, init_point, lr_rate = 1e-2, epsilon=1e-5):\n",
    "    cnt = 0\n",
    "    val = init_point\n",
    "    diff, _ = func_gradient(fun, init_point)\n",
    "    while np.linalg.norm(diff) > epsilon:\n",
    "        val = val - lr_rate * diff\n",
    "        diff, _ = func_gradient(fun, val)\n",
    "        cnt += 1\n",
    "        \n",
    "    print(\"함수: {}, 연산횟수: {}, 최소점: ({},{})\".format(fun(val)[1], cnt, val, fun(val)[0]))\n",
    "\n",
    "pt = [np.random.uniform(-2, 2), np.random.uniform(-2, 2)]\n",
    "gradient_descent(fun=func_multi, init_point=pt)"
   ]
  },
  {
   "cell_type": "markdown",
   "id": "43fb2548",
   "metadata": {},
   "source": [
    "# 경사하강법(매운맛)"
   ]
  },
  {
   "cell_type": "code",
   "execution_count": 6,
   "id": "4254cfe1",
   "metadata": {},
   "outputs": [
    {
     "name": "stdout",
     "output_type": "stream",
     "text": [
      "[1.00000367 1.99999949 2.99999516]\n"
     ]
    }
   ],
   "source": [
    "X = np.array([[1,1],[1,2],[2,2],[2,3]])\n",
    "y = np.dot(X, np.array([1,2]))+3\n",
    "\n",
    "beta_gd = [10.1, 15.1, -6.5] # [1,2,3] 이 정답\n",
    "X_= np.array([np.append(x,[1]) for x in X]) # intercept 항 추가\n",
    "\n",
    "# 학습률과 학습횟수를 적절히 넣어야 정답에 가까워짐\n",
    "for t in range(5000):\n",
    "    error = y - X_ @ beta_gd\n",
    "    grad = - np.transpose(X_) @ error\n",
    "    beta_gd = beta_gd - 0.01 * grad\n",
    "    \n",
    "print(beta_gd)"
   ]
  },
  {
   "cell_type": "markdown",
   "id": "349a88ef",
   "metadata": {},
   "source": [
    "### 확률적 경사하강법(SGD)"
   ]
  }
 ],
 "metadata": {
  "kernelspec": {
   "display_name": "Python 3 (ipykernel)",
   "language": "python",
   "name": "python3"
  },
  "language_info": {
   "codemirror_mode": {
    "name": "ipython",
    "version": 3
   },
   "file_extension": ".py",
   "mimetype": "text/x-python",
   "name": "python",
   "nbconvert_exporter": "python",
   "pygments_lexer": "ipython3",
   "version": "3.9.12"
  }
 },
 "nbformat": 4,
 "nbformat_minor": 5
}
