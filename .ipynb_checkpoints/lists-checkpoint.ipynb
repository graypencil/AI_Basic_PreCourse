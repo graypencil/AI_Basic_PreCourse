{
 "cells": [
  {
   "cell_type": "code",
   "execution_count": 2,
   "id": "3683da37",
   "metadata": {},
   "outputs": [],
   "source": [
    "colors = [\"red\", \"blue\", \"green\"]"
   ]
  },
  {
   "cell_type": "code",
   "execution_count": 5,
   "id": "6732e8d7",
   "metadata": {},
   "outputs": [
    {
     "data": {
      "text/plain": [
       "'green'"
      ]
     },
     "execution_count": 5,
     "metadata": {},
     "output_type": "execute_result"
    }
   ],
   "source": [
    "colors[2]"
   ]
  },
  {
   "cell_type": "code",
   "execution_count": 23,
   "id": "025c19fe",
   "metadata": {},
   "outputs": [
    {
     "data": {
      "text/plain": [
       "3"
      ]
     },
     "execution_count": 23,
     "metadata": {},
     "output_type": "execute_result"
    }
   ],
   "source": [
    "len(colors)"
   ]
  },
  {
   "cell_type": "code",
   "execution_count": 77,
   "id": "7ab67063",
   "metadata": {},
   "outputs": [],
   "source": [
    "color = [\"red\", \"blue\", \"green\"]\n",
    "color2 = [\"orange\", \"black\", \"white\"]"
   ]
  },
  {
   "cell_type": "code",
   "execution_count": 52,
   "id": "5c531773",
   "metadata": {},
   "outputs": [
    {
     "data": {
      "text/plain": [
       "['red', 'blue', 'green', 'orange', 'black', 'white']"
      ]
     },
     "execution_count": 52,
     "metadata": {},
     "output_type": "execute_result"
    }
   ],
   "source": [
    "color + color2"
   ]
  },
  {
   "cell_type": "code",
   "execution_count": 78,
   "id": "a07751b8",
   "metadata": {},
   "outputs": [],
   "source": [
    "color[0] = \"yellow\""
   ]
  },
  {
   "cell_type": "code",
   "execution_count": 54,
   "id": "c1d096e4",
   "metadata": {},
   "outputs": [
    {
     "data": {
      "text/plain": [
       "['yellow', 'blue', 'green']"
      ]
     },
     "execution_count": 54,
     "metadata": {},
     "output_type": "execute_result"
    }
   ],
   "source": [
    "color"
   ]
  },
  {
   "cell_type": "code",
   "execution_count": 41,
   "id": "f4a490ea",
   "metadata": {},
   "outputs": [
    {
     "data": {
      "text/plain": [
       "['yellow', 'blue', 'green', 'yellow', 'blue', 'green']"
      ]
     },
     "execution_count": 41,
     "metadata": {},
     "output_type": "execute_result"
    }
   ],
   "source": [
    "color * 2"
   ]
  },
  {
   "cell_type": "code",
   "execution_count": 43,
   "id": "316f8bad",
   "metadata": {},
   "outputs": [
    {
     "data": {
      "text/plain": [
       "False"
      ]
     },
     "execution_count": 43,
     "metadata": {},
     "output_type": "execute_result"
    }
   ],
   "source": [
    "\"blue\" in color2"
   ]
  },
  {
   "cell_type": "code",
   "execution_count": 45,
   "id": "943e8e93",
   "metadata": {},
   "outputs": [],
   "source": [
    "total_color = color + color2"
   ]
  },
  {
   "cell_type": "code",
   "execution_count": 55,
   "id": "ba2049fc",
   "metadata": {},
   "outputs": [
    {
     "data": {
      "text/plain": [
       "['yellow', 'blue', 'green', 'orange', 'black', 'white']"
      ]
     },
     "execution_count": 55,
     "metadata": {},
     "output_type": "execute_result"
    }
   ],
   "source": [
    "total_color"
   ]
  },
  {
   "cell_type": "code",
   "execution_count": 79,
   "id": "d0792418",
   "metadata": {},
   "outputs": [],
   "source": [
    "color.append(\"white\")"
   ]
  },
  {
   "cell_type": "code",
   "execution_count": 66,
   "id": "efdbe4ea",
   "metadata": {},
   "outputs": [
    {
     "data": {
      "text/plain": [
       "['red', 'blue', 'green', 'white']"
      ]
     },
     "execution_count": 66,
     "metadata": {},
     "output_type": "execute_result"
    }
   ],
   "source": [
    "color"
   ]
  },
  {
   "cell_type": "code",
   "execution_count": 80,
   "id": "b92e3ca7",
   "metadata": {},
   "outputs": [],
   "source": [
    "color.extend([\"black\", \"purple\"])"
   ]
  },
  {
   "cell_type": "code",
   "execution_count": 74,
   "id": "dd5bb99e",
   "metadata": {},
   "outputs": [
    {
     "data": {
      "text/plain": [
       "['red', 'blue', 'green', 'black', 'purple']"
      ]
     },
     "execution_count": 74,
     "metadata": {},
     "output_type": "execute_result"
    }
   ],
   "source": [
    "color"
   ]
  },
  {
   "cell_type": "code",
   "execution_count": 71,
   "id": "1fb0e331",
   "metadata": {},
   "outputs": [
    {
     "data": {
      "text/plain": [
       "['red',\n",
       " 'blue',\n",
       " 'green',\n",
       " 'white',\n",
       " 'black',\n",
       " 'purple',\n",
       " 'red',\n",
       " 'blue',\n",
       " 'green',\n",
       " 'white',\n",
       " 'black',\n",
       " 'purple']"
      ]
     },
     "execution_count": 71,
     "metadata": {},
     "output_type": "execute_result"
    }
   ],
   "source": [
    "color * 2"
   ]
  },
  {
   "cell_type": "code",
   "execution_count": 82,
   "id": "7e90ab23",
   "metadata": {},
   "outputs": [
    {
     "ename": "ValueError",
     "evalue": "list.remove(x): x not in list",
     "output_type": "error",
     "traceback": [
      "\u001b[1;31m---------------------------------------------------------------------------\u001b[0m",
      "\u001b[1;31mValueError\u001b[0m                                Traceback (most recent call last)",
      "Input \u001b[1;32mIn [82]\u001b[0m, in \u001b[0;36m<cell line: 1>\u001b[1;34m()\u001b[0m\n\u001b[1;32m----> 1\u001b[0m \u001b[43mcolor\u001b[49m\u001b[38;5;241;43m.\u001b[39;49m\u001b[43mremove\u001b[49m\u001b[43m(\u001b[49m\u001b[38;5;124;43m\"\u001b[39;49m\u001b[38;5;124;43mwhite\u001b[39;49m\u001b[38;5;124;43m\"\u001b[39;49m\u001b[43m)\u001b[49m\n",
      "\u001b[1;31mValueError\u001b[0m: list.remove(x): x not in list"
     ]
    }
   ],
   "source": [
    "color.remove(\"white\")"
   ]
  },
  {
   "cell_type": "code",
   "execution_count": 83,
   "id": "f4515ce6",
   "metadata": {},
   "outputs": [],
   "source": [
    "del color[0]"
   ]
  },
  {
   "cell_type": "code",
   "execution_count": 84,
   "id": "d7224c11",
   "metadata": {},
   "outputs": [
    {
     "data": {
      "text/plain": [
       "['blue', 'green', 'black', 'purple']"
      ]
     },
     "execution_count": 84,
     "metadata": {},
     "output_type": "execute_result"
    }
   ],
   "source": [
    "color"
   ]
  },
  {
   "cell_type": "code",
   "execution_count": 7,
   "id": "94a14518",
   "metadata": {},
   "outputs": [],
   "source": [
    "cities = ['서울', '부산', '인천', '대구', '대전', '광주', '울산', '수원']"
   ]
  },
  {
   "cell_type": "code",
   "execution_count": 9,
   "id": "0da5733a",
   "metadata": {},
   "outputs": [
    {
     "data": {
      "text/plain": [
       "['서울', '부산', '인천']"
      ]
     },
     "execution_count": 9,
     "metadata": {},
     "output_type": "execute_result"
    }
   ],
   "source": [
    "cities [0:3]"
   ]
  },
  {
   "cell_type": "code",
   "execution_count": 11,
   "id": "3ddca4b9",
   "metadata": {},
   "outputs": [
    {
     "data": {
      "text/plain": [
       "['광주', '울산', '수원']"
      ]
     },
     "execution_count": 11,
     "metadata": {},
     "output_type": "execute_result"
    }
   ],
   "source": [
    "cities [5: 10]"
   ]
  },
  {
   "cell_type": "code",
   "execution_count": 16,
   "id": "d975f9b7",
   "metadata": {},
   "outputs": [
    {
     "data": {
      "text/plain": [
       "(['서울', '부산', '인천'], 'AND', ['서울', '부산', '인천', '대구', '대전', '광주', '울산', '수원'])"
      ]
     },
     "execution_count": 16,
     "metadata": {},
     "output_type": "execute_result"
    }
   ],
   "source": [
    "cities [0:3], \"AND\", cities [-9:]"
   ]
  },
  {
   "cell_type": "code",
   "execution_count": 19,
   "id": "25cc9510",
   "metadata": {},
   "outputs": [
    {
     "data": {
      "text/plain": [
       "['서울', '인천', '대전', '울산']"
      ]
     },
     "execution_count": 19,
     "metadata": {},
     "output_type": "execute_result"
    }
   ],
   "source": [
    "cities[0:10:2]  #2자리씩 건너 뛰면서 "
   ]
  },
  {
   "cell_type": "code",
   "execution_count": 85,
   "id": "a4bcc3fa",
   "metadata": {},
   "outputs": [
    {
     "data": {
      "text/plain": [
       "['수원', '울산', '광주', '대전', '대구', '인천', '부산', '서울']"
      ]
     },
     "execution_count": 85,
     "metadata": {},
     "output_type": "execute_result"
    }
   ],
   "source": [
    "cities [::-1]"
   ]
  },
  {
   "cell_type": "code",
   "execution_count": 87,
   "id": "59999cce",
   "metadata": {},
   "outputs": [],
   "source": [
    "a = [\"color\", 1, 0.2]"
   ]
  },
  {
   "cell_type": "code",
   "execution_count": 89,
   "id": "88d2b2a7",
   "metadata": {},
   "outputs": [],
   "source": [
    "a[0] = color  # 리스트도 리스트안에 삽입이 가능함"
   ]
  },
  {
   "cell_type": "code",
   "execution_count": 91,
   "id": "403c9119",
   "metadata": {},
   "outputs": [
    {
     "data": {
      "text/plain": [
       "[['blue', 'green', 'black', 'purple'], 1, 0.2]"
      ]
     },
     "execution_count": 91,
     "metadata": {},
     "output_type": "execute_result"
    }
   ],
   "source": [
    "a"
   ]
  },
  {
   "cell_type": "code",
   "execution_count": 93,
   "id": "3e5d8f91",
   "metadata": {},
   "outputs": [],
   "source": [
    "a = [5, 4, 3, 2, 1]\n",
    "b = [1, 2, 3, 4, 5]"
   ]
  },
  {
   "cell_type": "code",
   "execution_count": 94,
   "id": "902a268a",
   "metadata": {},
   "outputs": [],
   "source": [
    "b = a   #a값을 b에 대입하기 (메모리 주소가 가리키는 게 a 값의 주소)"
   ]
  },
  {
   "cell_type": "code",
   "execution_count": 96,
   "id": "c09f6d41",
   "metadata": {},
   "outputs": [
    {
     "name": "stdout",
     "output_type": "stream",
     "text": [
      "[5, 4, 3, 2, 1]\n"
     ]
    }
   ],
   "source": [
    "print(b)"
   ]
  },
  {
   "cell_type": "code",
   "execution_count": 97,
   "id": "8f360f70",
   "metadata": {},
   "outputs": [
    {
     "data": {
      "text/plain": [
       "[5, 4, 3, 2, 1]"
      ]
     },
     "execution_count": 97,
     "metadata": {},
     "output_type": "execute_result"
    }
   ],
   "source": [
    "a"
   ]
  },
  {
   "cell_type": "code",
   "execution_count": 98,
   "id": "29d38294",
   "metadata": {},
   "outputs": [
    {
     "data": {
      "text/plain": [
       "[5, 4, 3, 2, 1]"
      ]
     },
     "execution_count": 98,
     "metadata": {},
     "output_type": "execute_result"
    }
   ],
   "source": [
    "b"
   ]
  },
  {
   "cell_type": "code",
   "execution_count": 99,
   "id": "0b0cf219",
   "metadata": {},
   "outputs": [],
   "source": [
    "a.sort()  # 원소 정렬하기"
   ]
  },
  {
   "cell_type": "code",
   "execution_count": 100,
   "id": "f575d37e",
   "metadata": {},
   "outputs": [
    {
     "data": {
      "text/plain": [
       "[1, 2, 3, 4, 5]"
      ]
     },
     "execution_count": 100,
     "metadata": {},
     "output_type": "execute_result"
    }
   ],
   "source": [
    "a"
   ]
  },
  {
   "cell_type": "code",
   "execution_count": 102,
   "id": "76b38981",
   "metadata": {},
   "outputs": [
    {
     "data": {
      "text/plain": [
       "[1, 2, 3, 4, 5]"
      ]
     },
     "execution_count": 102,
     "metadata": {},
     "output_type": "execute_result"
    }
   ],
   "source": [
    "b"
   ]
  },
  {
   "cell_type": "code",
   "execution_count": 103,
   "id": "b524664d",
   "metadata": {},
   "outputs": [],
   "source": [
    "a[3] = 100"
   ]
  },
  {
   "cell_type": "code",
   "execution_count": 104,
   "id": "4cebf86b",
   "metadata": {},
   "outputs": [
    {
     "data": {
      "text/plain": [
       "[1, 2, 3, 100, 5]"
      ]
     },
     "execution_count": 104,
     "metadata": {},
     "output_type": "execute_result"
    }
   ],
   "source": [
    "a"
   ]
  },
  {
   "cell_type": "code",
   "execution_count": 105,
   "id": "d470e516",
   "metadata": {},
   "outputs": [
    {
     "data": {
      "text/plain": [
       "[1, 2, 3, 100, 5]"
      ]
     },
     "execution_count": 105,
     "metadata": {},
     "output_type": "execute_result"
    }
   ],
   "source": [
    "b"
   ]
  },
  {
   "cell_type": "code",
   "execution_count": 106,
   "id": "85f383a9",
   "metadata": {},
   "outputs": [],
   "source": [
    "b = [1, 2, 3, 4, 5]   # b 재할당"
   ]
  },
  {
   "cell_type": "code",
   "execution_count": 107,
   "id": "e92cd558",
   "metadata": {},
   "outputs": [
    {
     "data": {
      "text/plain": [
       "[1, 2, 3, 4, 5]"
      ]
     },
     "execution_count": 107,
     "metadata": {},
     "output_type": "execute_result"
    }
   ],
   "source": [
    "b"
   ]
  },
  {
   "cell_type": "code",
   "execution_count": 108,
   "id": "25f64e25",
   "metadata": {},
   "outputs": [],
   "source": [
    "a = [5, 4, 3, 2, 1]"
   ]
  },
  {
   "cell_type": "code",
   "execution_count": 111,
   "id": "e470f58f",
   "metadata": {},
   "outputs": [],
   "source": [
    "b = a[:]   #a 의 값만 복사해서 b에 넣어주기"
   ]
  },
  {
   "cell_type": "code",
   "execution_count": 114,
   "id": "20bb1858",
   "metadata": {},
   "outputs": [],
   "source": [
    "a.sort()"
   ]
  },
  {
   "cell_type": "code",
   "execution_count": 115,
   "id": "e5ff980b",
   "metadata": {},
   "outputs": [
    {
     "data": {
      "text/plain": [
       "[1, 2, 3, 4, 5]"
      ]
     },
     "execution_count": 115,
     "metadata": {},
     "output_type": "execute_result"
    }
   ],
   "source": [
    "a"
   ]
  },
  {
   "cell_type": "code",
   "execution_count": 117,
   "id": "c006d57d",
   "metadata": {},
   "outputs": [
    {
     "data": {
      "text/plain": [
       "[5, 4, 3, 2, 1]"
      ]
     },
     "execution_count": 117,
     "metadata": {},
     "output_type": "execute_result"
    }
   ],
   "source": [
    "b"
   ]
  },
  {
   "cell_type": "code",
   "execution_count": 119,
   "id": "50f10217",
   "metadata": {},
   "outputs": [],
   "source": [
    "t = [1, 2, 3]  # 변수 t에 패킹"
   ]
  },
  {
   "cell_type": "code",
   "execution_count": 121,
   "id": "68dff99e",
   "metadata": {},
   "outputs": [],
   "source": [
    "a, b, c = t # t에 있는 값 1, 2, 3을 a, b, c,로 언패킹"
   ]
  },
  {
   "cell_type": "code",
   "execution_count": 123,
   "id": "3a9dbb2c",
   "metadata": {},
   "outputs": [
    {
     "name": "stdout",
     "output_type": "stream",
     "text": [
      "[1, 2, 3] 1 2 3\n"
     ]
    }
   ],
   "source": [
    "print(t, a, b, c)"
   ]
  },
  {
   "cell_type": "code",
   "execution_count": 140,
   "id": "91b42e17",
   "metadata": {},
   "outputs": [],
   "source": [
    "kor_score = [49, 79, 20, 100, 80]\n",
    "math_score = [43, 59, 85, 30, 90]\n",
    "eng_score = [49, 79, 48, 60, 100]\n",
    "midterm_score = [kor_score, math_score, eng_score]"
   ]
  },
  {
   "cell_type": "code",
   "execution_count": 141,
   "id": "2f4dac92",
   "metadata": {},
   "outputs": [
    {
     "data": {
      "text/plain": [
       "[[49, 79, 20, 100, 80], [43, 59, 85, 30, 90], [49, 79, 48, 60, 100]]"
      ]
     },
     "execution_count": 141,
     "metadata": {},
     "output_type": "execute_result"
    }
   ],
   "source": [
    "midterm_score"
   ]
  },
  {
   "cell_type": "code",
   "execution_count": 142,
   "id": "255e6955",
   "metadata": {},
   "outputs": [
    {
     "name": "stdout",
     "output_type": "stream",
     "text": [
      "20\n"
     ]
    }
   ],
   "source": [
    "print(midterm_score[0][2])"
   ]
  },
  {
   "cell_type": "code",
   "execution_count": 143,
   "id": "196038b9",
   "metadata": {},
   "outputs": [],
   "source": [
    "midterm_copy = midterm_score[:]  # 1차원 리스트에서는 가능하지만, 2차원 리스트에서는 적용이 안 됨"
   ]
  },
  {
   "cell_type": "code",
   "execution_count": 144,
   "id": "01c40097",
   "metadata": {},
   "outputs": [],
   "source": [
    "midterm_score[0][3] = 50"
   ]
  },
  {
   "cell_type": "code",
   "execution_count": 145,
   "id": "5b49c46d",
   "metadata": {},
   "outputs": [
    {
     "data": {
      "text/plain": [
       "[[49, 79, 20, 50, 80], [43, 59, 85, 30, 90], [49, 79, 48, 60, 100]]"
      ]
     },
     "execution_count": 145,
     "metadata": {},
     "output_type": "execute_result"
    }
   ],
   "source": [
    "midterm_score"
   ]
  },
  {
   "cell_type": "code",
   "execution_count": 147,
   "id": "bc8cb531",
   "metadata": {},
   "outputs": [
    {
     "data": {
      "text/plain": [
       "[[49, 79, 20, 50, 80], [43, 59, 85, 30, 90], [49, 79, 48, 60, 100]]"
      ]
     },
     "execution_count": 147,
     "metadata": {},
     "output_type": "execute_result"
    }
   ],
   "source": [
    "midterm_copy  # 2차원이라 복사가 적용이 안 됨"
   ]
  },
  {
   "cell_type": "code",
   "execution_count": 151,
   "id": "19606063",
   "metadata": {},
   "outputs": [],
   "source": [
    "import copy # copy 라는 모듈 사용"
   ]
  },
  {
   "cell_type": "code",
   "execution_count": 152,
   "id": "96968a6f",
   "metadata": {},
   "outputs": [],
   "source": [
    "kor_score = [49, 79, 20, 100, 80]\n",
    "math_score = [43, 59, 85, 30, 90]\n",
    "eng_score = [49, 79, 48, 60, 100]\n",
    "midterm_score = [kor_score, math_score, eng_score]"
   ]
  },
  {
   "cell_type": "code",
   "execution_count": 153,
   "id": "cb96cbf7",
   "metadata": {},
   "outputs": [],
   "source": [
    "midterm_copy = copy.deepcopy(midterm_score) # 리스트에서 기존 메모리와 구조가 다르므로 복사하는 방법도 다름!"
   ]
  },
  {
   "cell_type": "code",
   "execution_count": 155,
   "id": "d8328802",
   "metadata": {},
   "outputs": [
    {
     "data": {
      "text/plain": [
       "[[100, 79, 20, 100, 80], [43, 59, 85, 30, 90], [49, 79, 48, 60, 100]]"
      ]
     },
     "execution_count": 155,
     "metadata": {},
     "output_type": "execute_result"
    }
   ],
   "source": [
    "midterm_copy [0][0] = 100\n",
    "midterm_copy"
   ]
  },
  {
   "cell_type": "code",
   "execution_count": 156,
   "id": "cf533579",
   "metadata": {},
   "outputs": [
    {
     "data": {
      "text/plain": [
       "[[49, 79, 20, 100, 80], [43, 59, 85, 30, 90], [49, 79, 48, 60, 100]]"
      ]
     },
     "execution_count": 156,
     "metadata": {},
     "output_type": "execute_result"
    }
   ],
   "source": [
    "\n",
    "midterm_score"
   ]
  }
 ],
 "metadata": {
  "kernelspec": {
   "display_name": "Python 3 (ipykernel)",
   "language": "python",
   "name": "python3"
  },
  "language_info": {
   "codemirror_mode": {
    "name": "ipython",
    "version": 3
   },
   "file_extension": ".py",
   "mimetype": "text/x-python",
   "name": "python",
   "nbconvert_exporter": "python",
   "pygments_lexer": "ipython3",
   "version": "3.8.13"
  }
 },
 "nbformat": 4,
 "nbformat_minor": 5
}
