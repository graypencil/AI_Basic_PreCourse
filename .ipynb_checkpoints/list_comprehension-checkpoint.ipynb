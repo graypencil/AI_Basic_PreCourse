{
 "cells": [
  {
   "cell_type": "markdown",
   "id": "8c8fe3fa",
   "metadata": {},
   "source": [
    "# list comprehension"
   ]
  },
  {
   "cell_type": "code",
   "execution_count": 1,
   "id": "a33b5550",
   "metadata": {},
   "outputs": [
    {
     "data": {
      "text/plain": [
       "[0, 1, 2, 3, 4, 5, 6, 7, 8, 9]"
      ]
     },
     "execution_count": 1,
     "metadata": {},
     "output_type": "execute_result"
    }
   ],
   "source": [
    "result = [] # general code\n",
    "for i in range(10):\n",
    "    result.append(i)\n",
    "result"
   ]
  },
  {
   "cell_type": "code",
   "execution_count": 3,
   "id": "0f1645b8",
   "metadata": {},
   "outputs": [
    {
     "data": {
      "text/plain": [
       "[0, 1, 2, 3, 4, 5, 6, 7, 8, 9]"
      ]
     },
     "execution_count": 3,
     "metadata": {},
     "output_type": "execute_result"
    }
   ],
   "source": [
    "result = [i for i in range(10)]  # list comprehension\n",
    "result"
   ]
  },
  {
   "cell_type": "markdown",
   "id": "0ae1df83",
   "metadata": {},
   "source": [
    "# Nesteed for loop"
   ]
  },
  {
   "cell_type": "code",
   "execution_count": 11,
   "id": "13dc5d3f",
   "metadata": {},
   "outputs": [],
   "source": [
    "import pprint"
   ]
  },
  {
   "cell_type": "code",
   "execution_count": 26,
   "id": "35fda0a5",
   "metadata": {},
   "outputs": [
    {
     "name": "stdout",
     "output_type": "stream",
     "text": [
      "['hw', 'ho', 'hr', 'hl', 'hd', 'ew', 'eo', 'er', 'el', 'ed', 'lw', 'lo', 'lr', 'll', 'ld', 'lw', 'lo', 'lr', 'll', 'ld', 'ow', 'oo', 'or', 'ol', 'od']\n",
      "['hw',\n",
      " 'ho',\n",
      " 'hr',\n",
      " 'hl',\n",
      " 'hd',\n",
      " 'ew',\n",
      " 'eo',\n",
      " 'er',\n",
      " 'el',\n",
      " 'ed',\n",
      " 'lw',\n",
      " 'lo',\n",
      " 'lr',\n",
      " 'll',\n",
      " 'ld',\n",
      " 'lw',\n",
      " 'lo',\n",
      " 'lr',\n",
      " 'll',\n",
      " 'ld',\n",
      " 'ow',\n",
      " 'oo',\n",
      " 'or',\n",
      " 'ol',\n",
      " 'od']\n"
     ]
    }
   ],
   "source": [
    "word_1 = \"hello\"\n",
    "word_2 = \"world\"\n",
    "\n",
    "result = [i+j for i in word_1 for j in word_2]\n",
    "print(result)\n",
    "pprint.pprint(result)"
   ]
  },
  {
   "cell_type": "code",
   "execution_count": 17,
   "id": "e25eea4c",
   "metadata": {},
   "outputs": [
    {
     "data": {
      "text/plain": [
       "['hw',\n",
       " 'ho',\n",
       " 'hr',\n",
       " 'hl',\n",
       " 'hd',\n",
       " 'ew',\n",
       " 'eo',\n",
       " 'er',\n",
       " 'el',\n",
       " 'ed',\n",
       " 'lw',\n",
       " 'lo',\n",
       " 'lr',\n",
       " 'll',\n",
       " 'ld',\n",
       " 'lw',\n",
       " 'lo',\n",
       " 'lr',\n",
       " 'll',\n",
       " 'ld',\n",
       " 'ow',\n",
       " 'oo',\n",
       " 'or',\n",
       " 'ol',\n",
       " 'od',\n",
       " 'hw',\n",
       " 'ho',\n",
       " 'hr',\n",
       " 'hl',\n",
       " 'hd',\n",
       " 'ew',\n",
       " 'eo',\n",
       " 'er',\n",
       " 'el',\n",
       " 'ed',\n",
       " 'lw',\n",
       " 'lo',\n",
       " 'lr',\n",
       " 'll',\n",
       " 'ld',\n",
       " 'lw',\n",
       " 'lo',\n",
       " 'lr',\n",
       " 'll',\n",
       " 'ld',\n",
       " 'ow',\n",
       " 'oo',\n",
       " 'or',\n",
       " 'ol',\n",
       " 'od']"
      ]
     },
     "execution_count": 17,
     "metadata": {},
     "output_type": "execute_result"
    }
   ],
   "source": [
    "word_1 = \"hello\"\n",
    "word_2 = \"world\"\n",
    "\n",
    "# general code\n",
    "for i in word_1:\n",
    "    for j in word_2:\n",
    "        result.append(i+j)\n",
    "result"
   ]
  },
  {
   "cell_type": "markdown",
   "id": "a3268dfb",
   "metadata": {},
   "source": [
    "# Filter"
   ]
  },
  {
   "cell_type": "code",
   "execution_count": 21,
   "id": "eb4432e5",
   "metadata": {},
   "outputs": [
    {
     "data": {
      "text/plain": [
       "['AD', 'AE', 'BD', 'BE', 'BA', 'CD', 'CE', 'CA']"
      ]
     },
     "execution_count": 21,
     "metadata": {},
     "output_type": "execute_result"
    }
   ],
   "source": [
    "case_1 = [\"A\", \"B\", \"C\"]\n",
    "case_2 = [\"D\", \"E\", \"A\"]\n",
    "result = [i+j for i in case_1 for j in case_2]\n",
    "\n",
    "[i+j for i in case_1 for j in case_2 if not (i==j)] # Filter : i=j 이면 list에 추가 안 함"
   ]
  },
  {
   "cell_type": "code",
   "execution_count": 23,
   "id": "697d0d4b",
   "metadata": {},
   "outputs": [
    {
     "name": "stdout",
     "output_type": "stream",
     "text": [
      "['AD', 'AE', 'BEE', 'BD', 'BE', 'BA', 'CD', 'CE', 'CA']\n"
     ]
    }
   ],
   "source": [
    "pprint.pprint([i+j if not (i==j) else \"BEE\" for i in case_1 for j in case_2])"
   ]
  },
  {
   "cell_type": "markdown",
   "id": "fc2ddd1f",
   "metadata": {},
   "source": [
    "# Two dimentional list"
   ]
  },
  {
   "cell_type": "code",
   "execution_count": 30,
   "id": "f4301fac",
   "metadata": {},
   "outputs": [
    {
     "data": {
      "text/plain": [
       "['The', 'quick', 'brown', 'fox', 'jumps', 'over', 'the', 'lazy', 'dog']"
      ]
     },
     "execution_count": 30,
     "metadata": {},
     "output_type": "execute_result"
    }
   ],
   "source": [
    "words = 'The quick brown fox jumps over the lazy dog'.split()\n",
    "words"
   ]
  },
  {
   "cell_type": "code",
   "execution_count": 32,
   "id": "64619044",
   "metadata": {},
   "outputs": [
    {
     "name": "stdout",
     "output_type": "stream",
     "text": [
      "[['THE', 'the', 3], ['QUICK', 'quick', 5], ['BROWN', 'brown', 5], ['FOX', 'fox', 3], ['JUMPS', 'jumps', 5], ['OVER', 'over', 4], ['THE', 'the', 3], ['LAZY', 'lazy', 4], ['DOG', 'dog', 3]]\n"
     ]
    }
   ],
   "source": [
    "print([[w.upper(), w.lower(), len(w)] for w in words])"
   ]
  },
  {
   "cell_type": "code",
   "execution_count": 34,
   "id": "7338f86f",
   "metadata": {},
   "outputs": [
    {
     "name": "stdout",
     "output_type": "stream",
     "text": [
      "[['THE', 'the', 3],\n",
      " ['QUICK', 'quick', 5],\n",
      " ['BROWN', 'brown', 5],\n",
      " ['FOX', 'fox', 3],\n",
      " ['JUMPS', 'jumps', 5],\n",
      " ['OVER', 'over', 4],\n",
      " ['THE', 'the', 3],\n",
      " ['LAZY', 'lazy', 4],\n",
      " ['DOG', 'dog', 3]]\n"
     ]
    }
   ],
   "source": [
    "pprint.pprint([[w.upper(), w.lower(), len(w)] for w in words])"
   ]
  },
  {
   "cell_type": "code",
   "execution_count": 43,
   "id": "00a8666b",
   "metadata": {},
   "outputs": [
    {
     "data": {
      "text/plain": [
       "['AC', 'AE', 'AA', 'BC', 'BE', 'BA', 'CC', 'CE', 'CA']"
      ]
     },
     "execution_count": 43,
     "metadata": {},
     "output_type": "execute_result"
    }
   ],
   "source": [
    "case_1 = [\"A\", \"B\", \"C\"]\n",
    "case_2 = [\"C\", \"E\", \"A\"]\n",
    "# one dimensional list\n",
    "[i+j for i in case_1 for j in case_2] "
   ]
  },
  {
   "cell_type": "code",
   "execution_count": 46,
   "id": "a1870c7a",
   "metadata": {},
   "outputs": [
    {
     "data": {
      "text/plain": [
       "[['AC', 'BC', 'CC'], ['AE', 'BE', 'CE'], ['AA', 'BA', 'CA']]"
      ]
     },
     "execution_count": 46,
     "metadata": {},
     "output_type": "execute_result"
    }
   ],
   "source": [
    "# two dimentional list\n",
    "[[i+j for i in case_1] for j in case_2]"
   ]
  },
  {
   "cell_type": "code",
   "execution_count": 47,
   "id": "e219c448",
   "metadata": {},
   "outputs": [
    {
     "data": {
      "text/plain": [
       "[['CA', 'CB', 'CC'], ['EA', 'EB', 'EC'], ['AA', 'AB', 'AC']]"
      ]
     },
     "execution_count": 47,
     "metadata": {},
     "output_type": "execute_result"
    }
   ],
   "source": [
    "[[j+i for i in case_1] for j in case_2]"
   ]
  },
  {
   "cell_type": "code",
   "execution_count": 59,
   "id": "f3050948",
   "metadata": {},
   "outputs": [
    {
     "data": {
      "text/plain": [
       "['AA', 'BA', 'CA']"
      ]
     },
     "execution_count": 59,
     "metadata": {},
     "output_type": "execute_result"
    }
   ],
   "source": [
    "for j in case_2:\n",
    "    line = []\n",
    "    for i in case_1:\n",
    "        line.append(i+j)\n",
    "        \n",
    "line"
   ]
  },
  {
   "cell_type": "markdown",
   "id": "92327692",
   "metadata": {},
   "source": [
    "# enumuration"
   ]
  },
  {
   "cell_type": "code",
   "execution_count": 61,
   "id": "bcee5c30",
   "metadata": {},
   "outputs": [
    {
     "name": "stdout",
     "output_type": "stream",
     "text": [
      "0\tA\n",
      "1\tB\n",
      "2\tC\n"
     ]
    }
   ],
   "source": [
    "for i, v in enumerate(\"ABC\"):\n",
    "    print(\"{0}\\t{1}\".format(i, v))"
   ]
  },
  {
   "cell_type": "code",
   "execution_count": 66,
   "id": "1edac6cb",
   "metadata": {},
   "outputs": [
    {
     "data": {
      "text/plain": [
       "{0: 'A', 1: 'B', 2: 'C', 3: 'D'}"
      ]
     },
     "execution_count": 66,
     "metadata": {},
     "output_type": "execute_result"
    }
   ],
   "source": [
    "my_str = \"ABCD\"\n",
    "{i : v for i, v in enumerate(my_str)} #dict type"
   ]
  },
  {
   "cell_type": "code",
   "execution_count": 67,
   "id": "51f25c67",
   "metadata": {},
   "outputs": [
    {
     "data": {
      "text/plain": [
       "{'A': 0, 'B': 1, 'C': 2, 'D': 3}"
      ]
     },
     "execution_count": 67,
     "metadata": {},
     "output_type": "execute_result"
    }
   ],
   "source": [
    "{v : i for i, v in enumerate(my_str)} #dict type 실제로는 이 형태를 더 많이 씀"
   ]
  },
  {
   "cell_type": "code",
   "execution_count": 74,
   "id": "2ed34d58",
   "metadata": {},
   "outputs": [
    {
     "data": {
      "text/plain": [
       "{0: 'samsung',\n",
       " 1: 'group',\n",
       " 2: 'is',\n",
       " 3: 'a',\n",
       " 4: 'south',\n",
       " 5: 'korean',\n",
       " 6: 'multinational',\n",
       " 7: 'conglomerate',\n",
       " 8: 'headquartered',\n",
       " 9: 'in',\n",
       " 10: 'samsung',\n",
       " 11: 'town',\n",
       " 12: 'seoul.'}"
      ]
     },
     "execution_count": 74,
     "metadata": {},
     "output_type": "execute_result"
    }
   ],
   "source": [
    "text = \"Samsung Group is a South Korean multinational conglomerate headquartered in Samsung Town Seoul. \"\n",
    "{i : v.lower() for i, v in enumerate(text.split())}"
   ]
  },
  {
   "cell_type": "code",
   "execution_count": 76,
   "id": "93fa6107",
   "metadata": {},
   "outputs": [
    {
     "data": {
      "text/plain": [
       "['multinational',\n",
       " 'headquartered',\n",
       " 'conglomerate',\n",
       " 'is',\n",
       " 'a',\n",
       " 'South',\n",
       " 'Seoul.',\n",
       " 'Samsung',\n",
       " 'Group',\n",
       " 'in',\n",
       " 'Town',\n",
       " 'Korean']"
      ]
     },
     "execution_count": 76,
     "metadata": {},
     "output_type": "execute_result"
    }
   ],
   "source": [
    "set_text = list(set(text.split()))\n",
    "set_text"
   ]
  },
  {
   "cell_type": "code",
   "execution_count": 77,
   "id": "dcbec54b",
   "metadata": {},
   "outputs": [
    {
     "data": {
      "text/plain": [
       "{0: 'multinational',\n",
       " 1: 'headquartered',\n",
       " 2: 'conglomerate',\n",
       " 3: 'is',\n",
       " 4: 'a',\n",
       " 5: 'south',\n",
       " 6: 'seoul.',\n",
       " 7: 'samsung',\n",
       " 8: 'group',\n",
       " 9: 'in',\n",
       " 10: 'town',\n",
       " 11: 'korean'}"
      ]
     },
     "execution_count": 77,
     "metadata": {},
     "output_type": "execute_result"
    }
   ],
   "source": [
    "{i : v.lower() for i, v in enumerate(set_text)}"
   ]
  },
  {
   "cell_type": "markdown",
   "id": "12832674",
   "metadata": {},
   "source": [
    "# Zip"
   ]
  },
  {
   "cell_type": "code",
   "execution_count": 79,
   "id": "2161c66f",
   "metadata": {},
   "outputs": [
    {
     "data": {
      "text/plain": [
       "[['a1', 'b1'], ['a2', 'b2'], ['a3', 'b3']]"
      ]
     },
     "execution_count": 79,
     "metadata": {},
     "output_type": "execute_result"
    }
   ],
   "source": [
    "alist = [\"a1\", \"a2\", \"a3\"]\n",
    "blist = [\"b1\", \"b2\", \"b3\"]\n",
    "\n",
    "[[a, b] for a, b in zip(alist, blist)]"
   ]
  },
  {
   "cell_type": "code",
   "execution_count": 81,
   "id": "4755083c",
   "metadata": {},
   "outputs": [
    {
     "data": {
      "text/plain": [
       "[('a1', 'b1'), ('a2', 'b2'), ('a3', 'b3')]"
      ]
     },
     "execution_count": 81,
     "metadata": {},
     "output_type": "execute_result"
    }
   ],
   "source": [
    "[c for c in zip(alist, blist)] # 튜플 타입으로 묶기"
   ]
  },
  {
   "cell_type": "code",
   "execution_count": 82,
   "id": "018e8f4c",
   "metadata": {},
   "outputs": [
    {
     "data": {
      "text/plain": [
       "[93.33333333333333, 86.66666666666667, 73.33333333333333]"
      ]
     },
     "execution_count": 82,
     "metadata": {},
     "output_type": "execute_result"
    }
   ],
   "source": [
    "math = (100, 90, 80)\n",
    "kor = (90, 90, 70)\n",
    "eng = (90, 80, 70)\n",
    "\n",
    "[sum(value) / 3 for value in zip(math, kor, eng)]"
   ]
  },
  {
   "cell_type": "markdown",
   "id": "6bb0a230",
   "metadata": {},
   "source": [
    "# enumerate & zip"
   ]
  },
  {
   "cell_type": "code",
   "execution_count": 83,
   "id": "9cb2f344",
   "metadata": {},
   "outputs": [
    {
     "name": "stdout",
     "output_type": "stream",
     "text": [
      "0 ('a1', 'b1')\n",
      "1 ('a2', 'b2')\n",
      "2 ('a3', 'b3')\n"
     ]
    }
   ],
   "source": [
    "alist = [\"a1\", \"a2\", \"a3\"]\n",
    "blist = [\"b1\", \"b2\", \"b3\"]\n",
    "\n",
    "for i, values in enumerate(zip(alist,blist)):\n",
    "    print(i, values)"
   ]
  },
  {
   "cell_type": "code",
   "execution_count": 85,
   "id": "33f5a665",
   "metadata": {},
   "outputs": [
    {
     "data": {
      "text/plain": [
       "<zip at 0x26cc00ae4c0>"
      ]
     },
     "execution_count": 85,
     "metadata": {},
     "output_type": "execute_result"
    }
   ],
   "source": [
    "(zip(alist, blist))"
   ]
  },
  {
   "cell_type": "code",
   "execution_count": 87,
   "id": "dbff6a83",
   "metadata": {},
   "outputs": [
    {
     "data": {
      "text/plain": [
       "[('a1', 'b1'), ('a2', 'b2'), ('a3', 'b3')]"
      ]
     },
     "execution_count": 87,
     "metadata": {},
     "output_type": "execute_result"
    }
   ],
   "source": [
    "list(zip(alist, blist))"
   ]
  },
  {
   "cell_type": "code",
   "execution_count": 88,
   "id": "36f99753",
   "metadata": {},
   "outputs": [
    {
     "data": {
      "text/plain": [
       "[(0, ('a1', 'b1')), (1, ('a2', 'b2')), (2, ('a3', 'b3'))]"
      ]
     },
     "execution_count": 88,
     "metadata": {},
     "output_type": "execute_result"
    }
   ],
   "source": [
    "list(enumerate(zip(alist, blist)))"
   ]
  }
 ],
 "metadata": {
  "kernelspec": {
   "display_name": "Python 3 (ipykernel)",
   "language": "python",
   "name": "python3"
  },
  "language_info": {
   "codemirror_mode": {
    "name": "ipython",
    "version": 3
   },
   "file_extension": ".py",
   "mimetype": "text/x-python",
   "name": "python",
   "nbconvert_exporter": "python",
   "pygments_lexer": "ipython3",
   "version": "3.8.13"
  }
 },
 "nbformat": 4,
 "nbformat_minor": 5
}
