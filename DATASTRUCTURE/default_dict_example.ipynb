{
 "cells": [
  {
   "cell_type": "code",
   "execution_count": 8,
   "id": "02c1d9c3",
   "metadata": {},
   "outputs": [],
   "source": [
    "def default_value():  # 초기값 설정\n",
    "    return 10"
   ]
  },
  {
   "cell_type": "code",
   "execution_count": 9,
   "id": "deaae9a8",
   "metadata": {},
   "outputs": [
    {
     "data": {
      "text/plain": [
       "defaultdict(<function __main__.<lambda>()>, {})"
      ]
     },
     "execution_count": 9,
     "metadata": {},
     "output_type": "execute_result"
    }
   ],
   "source": [
    "from collections import defaultdict\n",
    "\n",
    "d = defaultdict(lambda : 0)  # 람다함수\n",
    "d"
   ]
  },
  {
   "cell_type": "code",
   "execution_count": 10,
   "id": "3af30a67",
   "metadata": {},
   "outputs": [
    {
     "data": {
      "text/plain": [
       "0"
      ]
     },
     "execution_count": 10,
     "metadata": {},
     "output_type": "execute_result"
    }
   ],
   "source": [
    "d[\"first\"]"
   ]
  },
  {
   "cell_type": "code",
   "execution_count": 11,
   "id": "7c8e81ac",
   "metadata": {},
   "outputs": [],
   "source": [
    "text = \"\"\"A press release is the quickest and easiest way to get free publicity. If well written, a press release can result in multiple published articles about your\n",
    "firm and its products. And that can mean new prospects contacting you asking you to sell to them. ….\"\"\".lower().split()"
   ]
  },
  {
   "cell_type": "code",
   "execution_count": 15,
   "id": "6fc5e665",
   "metadata": {},
   "outputs": [],
   "source": [
    "def get_key(x):\n",
    "    return x[1]"
   ]
  },
  {
   "cell_type": "code",
   "execution_count": 16,
   "id": "568cfec5",
   "metadata": {},
   "outputs": [],
   "source": [
    "from collections import OrderedDict"
   ]
  },
  {
   "cell_type": "code",
   "execution_count": 18,
   "id": "2e94d654",
   "metadata": {},
   "outputs": [
    {
     "data": {
      "text/plain": [
       "defaultdict(<function __main__.<lambda>()>, {})"
      ]
     },
     "execution_count": 18,
     "metadata": {},
     "output_type": "execute_result"
    }
   ],
   "source": [
    "d= defaultdict(lambda : 0)\n",
    "d"
   ]
  },
  {
   "cell_type": "code",
   "execution_count": 21,
   "id": "629f63c9",
   "metadata": {},
   "outputs": [
    {
     "name": "stdout",
     "output_type": "stream",
     "text": [
      "OrderedDict([('and', 9), ('to', 9), ('a', 6), ('press', 6), ('release', 6), ('can', 6), ('you', 6), ('is', 3), ('the', 3), ('quickest', 3), ('easiest', 3), ('way', 3), ('get', 3), ('free', 3), ('publicity.', 3), ('if', 3), ('well', 3), ('written,', 3), ('result', 3), ('in', 3), ('multiple', 3), ('published', 3), ('articles', 3), ('about', 3), ('your', 3), ('firm', 3), ('its', 3), ('products.', 3), ('that', 3), ('mean', 3), ('new', 3), ('prospects', 3), ('contacting', 3), ('asking', 3), ('sell', 3), ('them.', 3), ('….', 3)])\n"
     ]
    },
    {
     "data": {
      "text/plain": [
       "9"
      ]
     },
     "execution_count": 21,
     "metadata": {},
     "output_type": "execute_result"
    }
   ],
   "source": [
    "for word in text:\n",
    "    d[word] += 1\n",
    "    \n",
    "sorted_dict = OrderedDict()\n",
    "for i, v in sorted(d.items(), key = get_key, reverse = True):\n",
    "    sorted_dict[i] = v\n",
    "print(sorted_dict)    \n",
    "sorted_dict[\"to\"]"
   ]
  }
 ],
 "metadata": {
  "kernelspec": {
   "display_name": "Python 3 (ipykernel)",
   "language": "python",
   "name": "python3"
  },
  "language_info": {
   "codemirror_mode": {
    "name": "ipython",
    "version": 3
   },
   "file_extension": ".py",
   "mimetype": "text/x-python",
   "name": "python",
   "nbconvert_exporter": "python",
   "pygments_lexer": "ipython3",
   "version": "3.8.13"
  }
 },
 "nbformat": 4,
 "nbformat_minor": 5
}
