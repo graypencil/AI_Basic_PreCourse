{
 "cells": [
  {
   "cell_type": "code",
   "execution_count": 3,
   "id": "f7b8b22a",
   "metadata": {},
   "outputs": [
    {
     "name": "stdout",
     "output_type": "stream",
     "text": [
      "one two\n",
      "one two\n",
      "1 2\n",
      "1 2\n"
     ]
    }
   ],
   "source": [
    "print('%s %s' % ('one', 'two'))\n",
    "print('{} {}'.format('one', 'two'))\n",
    "print('%d %d' % (1, 2))\n",
    "print('{} {}'.format(1, 2))"
   ]
  },
  {
   "cell_type": "code",
   "execution_count": 6,
   "id": "ece7fb74",
   "metadata": {},
   "outputs": [
    {
     "name": "stdout",
     "output_type": "stream",
     "text": [
      "I eat 3 apples.\n",
      "I eat five apples.\n",
      "I ate 3 apples. I was sick for three days.\n",
      "Product: Apple, Price per unit: 5.243000\n"
     ]
    }
   ],
   "source": [
    "print(\"I eat %d apples.\" % 3)\n",
    "print(\"I eat %s apples.\" % \"five\")\n",
    "number = 3; day = \"three\"\n",
    "print(\"I ate %d apples. I was sick for %s days.\" %(number, day))\n",
    "print(\"Product: %s, Price per unit: %f\" %(\"Apple\", 5.243))"
   ]
  },
  {
   "cell_type": "code",
   "execution_count": 8,
   "id": "6e153b71",
   "metadata": {},
   "outputs": [
    {
     "name": "stdout",
     "output_type": "stream",
     "text": [
      "Product:      Apple, Price per unit:        5.2\n"
     ]
    }
   ],
   "source": [
    "print(\"Product: %10s, Price per unit: %10.1f\" %(\"Apple\", 5.243))"
   ]
  },
  {
   "cell_type": "code",
   "execution_count": 10,
   "id": "ab5e7c76",
   "metadata": {},
   "outputs": [
    {
     "name": "stdout",
     "output_type": "stream",
     "text": [
      "I'm 36 years old.\n",
      "My name is Sungchul Choi and 36 years old.\n",
      "Product: Apple, Price per unit: 5.243\n"
     ]
    }
   ],
   "source": [
    "age =36; name = 'Sungchul Choi'\n",
    "print(\"I'm {0} years old.\".format(age))\n",
    "print(\"My name is {0} and {1} years old.\".format(name, age)) #{숫자} 변수의 순서\n",
    "print(\"Product: {0}, Price per unit: {1:.3f}\".format(\"Apple\", 5.243)) "
   ]
  },
  {
   "cell_type": "code",
   "execution_count": 14,
   "id": "4c46235a",
   "metadata": {},
   "outputs": [
    {
     "name": "stdout",
     "output_type": "stream",
     "text": [
      "Product: Apple, Price per unit: 5.24300\n",
      "Product: Apple, Price per unit: 5.24300\n",
      "Product:      Apple, Price per unit:      5.243\n",
      "Product: Apple     , Price per unit:      5.243\n"
     ]
    }
   ],
   "source": [
    "print(\"Product: %5s, Price per unit: %.5f\" %(\"Apple\", 5.243))\n",
    "print(\"Product: {0:5s}, Price per unit: {1:.5f}\".format(\"Apple\", 5.243))\n",
    "print(\"Product: %10s, Price per unit: %10.3f\" % (\"Apple\", 5.243))\n",
    "print(\"Product: {0:<10s}, Price per unit: {1:10.3f}\".format(\"Apple\", 5.243))  # *padding: <10s 왼쪽 정렬, >10s 오른쪽 정렬 "
   ]
  },
  {
   "cell_type": "code",
   "execution_count": 16,
   "id": "3609c04b",
   "metadata": {},
   "outputs": [
    {
     "name": "stdout",
     "output_type": "stream",
     "text": [
      "Product:      Apple, Price per unit:    5.24300.\n"
     ]
    }
   ],
   "source": [
    "print(\"Product: %(name)10s, Price per unit: %(price)10.5f.\" % {\"name\": \"Apple\", \"price\": 5.243})"
   ]
  },
  {
   "cell_type": "code",
   "execution_count": 19,
   "id": "f5e079ae",
   "metadata": {},
   "outputs": [
    {
     "name": "stdout",
     "output_type": "stream",
     "text": [
      "Product:      Apple, Price per unit:    5.24300.\n"
     ]
    }
   ],
   "source": [
    "print(\"Product: {name:>10s}, Price per unit: {price:10.5f}.\".format(name=\"Apple\", price=5.243))"
   ]
  },
  {
   "cell_type": "code",
   "execution_count": 24,
   "id": "851177d7",
   "metadata": {},
   "outputs": [
    {
     "name": "stdout",
     "output_type": "stream",
     "text": [
      "Hello, Sungchul. You are 39.\n",
      "Sungchul            \n",
      "            Sungchul\n",
      "Sungchul************\n",
      "************Sungchul\n",
      "******Sungchul******\n",
      "3.14\n",
      "3.14******\n"
     ]
    }
   ],
   "source": [
    "#f-string\n",
    "\n",
    "name = \"Sungchul\"\n",
    "age = 39\n",
    "print(f\"Hello, {name}. You are {age}.\")  #f-string \n",
    "print(f'{name:20}')   # 왼쪽 정렬이 기본\n",
    "print(f'{name:>20}')  # 오른쪽 정렬\n",
    "print(f'{name:*<20}') # 별표로 채우기\n",
    "print(f'{name:*>20}')\n",
    "print(f'{name:*^20}') # 가운데 정렬\n",
    "\n",
    "number = 3.141592653589793\n",
    "print(f'{number:.2f}')\n",
    "print(f'{number:*<10.2f}')"
   ]
  },
  {
   "cell_type": "code",
   "execution_count": null,
   "id": "0017adcf",
   "metadata": {},
   "outputs": [],
   "source": []
  }
 ],
 "metadata": {
  "kernelspec": {
   "display_name": "Python 3 (ipykernel)",
   "language": "python",
   "name": "python3"
  },
  "language_info": {
   "codemirror_mode": {
    "name": "ipython",
    "version": 3
   },
   "file_extension": ".py",
   "mimetype": "text/x-python",
   "name": "python",
   "nbconvert_exporter": "python",
   "pygments_lexer": "ipython3",
   "version": "3.8.13"
  }
 },
 "nbformat": 4,
 "nbformat_minor": 5
}
